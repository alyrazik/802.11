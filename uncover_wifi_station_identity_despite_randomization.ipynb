{
  "nbformat": 4,
  "nbformat_minor": 0,
  "metadata": {
    "colab": {
      "name": "Networks.ipynb",
      "provenance": [],
      "collapsed_sections": [],
      "include_colab_link": true
    },
    "kernelspec": {
      "name": "python3",
      "display_name": "Python 3"
    },
    "language_info": {
      "name": "python"
    }
  },
  "cells": [
    {
      "cell_type": "markdown",
      "metadata": {
        "id": "view-in-github",
        "colab_type": "text"
      },
      "source": [
        "<a href=\"https://colab.research.google.com/github/alyrazik/802.11/blob/main/uncover_wifi_station_identity_despite_randomization.ipynb\" target=\"_parent\"><img src=\"https://colab.research.google.com/assets/colab-badge.svg\" alt=\"Open In Colab\"/></a>"
      ]
    },
    {
      "cell_type": "code",
      "metadata": {
        "id": "p_UbfFph_75Y"
      },
      "source": [
        "import json\n",
        "import pandas as pd\n",
        "import numpy as np\n",
        "from sklearn.model_selection import train_test_split\n",
        "import pickle\n",
        "import matplotlib\n",
        "import matplotlib.pyplot as plt\n",
        "import seaborn as sb\n",
        "from xgboost.sklearn import XGBClassifier\n",
        "from sklearn.metrics import classification_report\n",
        "%matplotlib inline"
      ],
      "execution_count": 79,
      "outputs": []
    },
    {
      "cell_type": "code",
      "metadata": {
        "colab": {
          "base_uri": "https://localhost:8080/"
        },
        "id": "XdUmf4lUpDQk",
        "outputId": "cb24ddf3-d5e3-4d17-a300-7bf6075a2769"
      },
      "source": [
        "from google.colab import drive\n",
        "drive.mount('/content/drive')"
      ],
      "execution_count": 80,
      "outputs": [
        {
          "output_type": "stream",
          "text": [
            "Drive already mounted at /content/drive; to attempt to forcibly remount, call drive.mount(\"/content/drive\", force_remount=True).\n"
          ],
          "name": "stdout"
        }
      ]
    },
    {
      "cell_type": "code",
      "metadata": {
        "id": "cPcyvY2gpdUk"
      },
      "source": [
        "df_x = pd.read_pickle(r'/content/drive/MyDrive/Network dataset/x_file_3')\n",
        "# df_x = pd.read_pickle(r'/content/drive/MyDrive/Network dataset/x_total')\n",
        "# df_1 = pd.read_json('/content/drive/MyDrive/Network dataset/part1.json')\n",
        "# df_2 = pd.read_json('/content/drive/MyDrive/Network dataset/part2.json')\n",
        "# df_3 = pd.read_json('/content/drive/MyDrive/Network dataset/part3.json')\n",
        "# df_1 = pd.json_normalize(df_1['_source'])\n",
        "# df_2 = pd.json_normalize(df_2['_source'])\n",
        "# df_3 = pd.json_normalize(df_3['_source'])\n",
        "# df_x = pd.concat((df_x, df_1, df_2, df_3))"
      ],
      "execution_count": 81,
      "outputs": []
    },
    {
      "cell_type": "code",
      "metadata": {
        "colab": {
          "base_uri": "https://localhost:8080/"
        },
        "id": "hjhxUhujnXJf",
        "outputId": "361ea39c-cdbe-4004-b8e3-0fdec82f26fc"
      },
      "source": [
        "df_x.info()"
      ],
      "execution_count": 82,
      "outputs": [
        {
          "output_type": "stream",
          "text": [
            "<class 'pandas.core.frame.DataFrame'>\n",
            "RangeIndex: 14159 entries, 0 to 14158\n",
            "Columns: 107 entries, frame.frame_frame_interface_id to wlan_wlan_mgt.wlan_wlan_supported_rates\n",
            "dtypes: bool(32), object(75)\n",
            "memory usage: 8.5+ MB\n"
          ],
          "name": "stdout"
        }
      ]
    },
    {
      "cell_type": "code",
      "metadata": {
        "colab": {
          "base_uri": "https://localhost:8080/",
          "height": 35
        },
        "id": "E04q2hJAtifm",
        "outputId": "5a033f5b-b333-4500-945f-9115e479ce40"
      },
      "source": [
        "'''\n",
        "for i in range(len(df_x.columns)):\n",
        "  if 'id' in df_x.columns[i]:\n",
        "    print(i)\n",
        "'''"
      ],
      "execution_count": 83,
      "outputs": [
        {
          "output_type": "execute_result",
          "data": {
            "application/vnd.google.colaboratory.intrinsic+json": {
              "type": "string"
            },
            "text/plain": [
              "\"\\nfor i in range(len(df_x.columns)):\\n  if 'id' in df_x.columns[i]:\\n    print(i)\\n\""
            ]
          },
          "metadata": {
            "tags": []
          },
          "execution_count": 83
        }
      ]
    },
    {
      "cell_type": "code",
      "metadata": {
        "id": "u4_pm4A3pDV_"
      },
      "source": [
        "df_y = pd.read_pickle(r'/content/drive/MyDrive/Network dataset/y_file_3')\n",
        "# df_y = pd.read_pickle(r'/content/drive/MyDrive/Network dataset/y_total')"
      ],
      "execution_count": 84,
      "outputs": []
    },
    {
      "cell_type": "code",
      "metadata": {
        "id": "DuFKNS66lNQg"
      },
      "source": [
        "df_y = pd.DataFrame(df_y)"
      ],
      "execution_count": 85,
      "outputs": []
    },
    {
      "cell_type": "code",
      "metadata": {
        "colab": {
          "base_uri": "https://localhost:8080/",
          "height": 204
        },
        "id": "joq_gW5T7yMr",
        "outputId": "8e1671af-cfa9-48d5-e58b-d5c91383dd93"
      },
      "source": [
        "df_y.head()"
      ],
      "execution_count": 86,
      "outputs": [
        {
          "output_type": "execute_result",
          "data": {
            "text/html": [
              "<div>\n",
              "<style scoped>\n",
              "    .dataframe tbody tr th:only-of-type {\n",
              "        vertical-align: middle;\n",
              "    }\n",
              "\n",
              "    .dataframe tbody tr th {\n",
              "        vertical-align: top;\n",
              "    }\n",
              "\n",
              "    .dataframe thead th {\n",
              "        text-align: right;\n",
              "    }\n",
              "</style>\n",
              "<table border=\"1\" class=\"dataframe\">\n",
              "  <thead>\n",
              "    <tr style=\"text-align: right;\">\n",
              "      <th></th>\n",
              "      <th>source_address</th>\n",
              "    </tr>\n",
              "  </thead>\n",
              "  <tbody>\n",
              "    <tr>\n",
              "      <th>0</th>\n",
              "      <td>68:e7:c2:f8:0d:f1</td>\n",
              "    </tr>\n",
              "    <tr>\n",
              "      <th>1</th>\n",
              "      <td>68:e7:c2:f8:0d:f1</td>\n",
              "    </tr>\n",
              "    <tr>\n",
              "      <th>2</th>\n",
              "      <td>68:e7:c2:f8:0d:f1</td>\n",
              "    </tr>\n",
              "    <tr>\n",
              "      <th>3</th>\n",
              "      <td>00:0c:e7:56:44:8e</td>\n",
              "    </tr>\n",
              "    <tr>\n",
              "      <th>4</th>\n",
              "      <td>00:0c:e7:56:44:8e</td>\n",
              "    </tr>\n",
              "  </tbody>\n",
              "</table>\n",
              "</div>"
            ],
            "text/plain": [
              "      source_address\n",
              "0  68:e7:c2:f8:0d:f1\n",
              "1  68:e7:c2:f8:0d:f1\n",
              "2  68:e7:c2:f8:0d:f1\n",
              "3  00:0c:e7:56:44:8e\n",
              "4  00:0c:e7:56:44:8e"
            ]
          },
          "metadata": {
            "tags": []
          },
          "execution_count": 86
        }
      ]
    },
    {
      "cell_type": "code",
      "metadata": {
        "id": "9lf-YJa1lU6o"
      },
      "source": [
        "df_y['fake'] = df_y['source_address'].astype(str).apply(lambda x: x[1] == '2' or x[1] =='6' or x[1]=='a' or x[1]=='e')"
      ],
      "execution_count": 87,
      "outputs": []
    },
    {
      "cell_type": "code",
      "metadata": {
        "colab": {
          "base_uri": "https://localhost:8080/"
        },
        "id": "jhxe_M2GpCo7",
        "outputId": "10391841-051f-4505-d3ad-3dcc305fc074"
      },
      "source": [
        "df_y['fake'].value_counts()"
      ],
      "execution_count": 88,
      "outputs": [
        {
          "output_type": "execute_result",
          "data": {
            "text/plain": [
              "False    14159\n",
              "Name: fake, dtype: int64"
            ]
          },
          "metadata": {
            "tags": []
          },
          "execution_count": 88
        }
      ]
    },
    {
      "cell_type": "code",
      "metadata": {
        "colab": {
          "base_uri": "https://localhost:8080/"
        },
        "id": "L18VA214kvND",
        "outputId": "3bbe7ce5-83d9-4f1e-a9a5-924fa1b73690"
      },
      "source": [
        "df_y[df_y['fake']==False].nunique()"
      ],
      "execution_count": 89,
      "outputs": [
        {
          "output_type": "execute_result",
          "data": {
            "text/plain": [
              "source_address    1728\n",
              "fake                 1\n",
              "dtype: int64"
            ]
          },
          "metadata": {
            "tags": []
          },
          "execution_count": 89
        }
      ]
    },
    {
      "cell_type": "code",
      "metadata": {
        "colab": {
          "base_uri": "https://localhost:8080/"
        },
        "id": "2QOHTB7V-isb",
        "outputId": "a788f230-3721-4da5-d63e-8633e5121375"
      },
      "source": [
        "temp_df = pd.DataFrame(df_y['source_address'].value_counts()).reset_index()\n",
        "temp_df[temp_df['source_address'] >= 50].info() # 100 source address that had sent more than 50 probe requests.\n",
        "devices_list = list(temp_df[temp_df['source_address'] >= 50]['index'])"
      ],
      "execution_count": 90,
      "outputs": [
        {
          "output_type": "stream",
          "text": [
            "<class 'pandas.core.frame.DataFrame'>\n",
            "Int64Index: 51 entries, 0 to 50\n",
            "Data columns (total 2 columns):\n",
            " #   Column          Non-Null Count  Dtype \n",
            "---  ------          --------------  ----- \n",
            " 0   index           51 non-null     object\n",
            " 1   source_address  51 non-null     int64 \n",
            "dtypes: int64(1), object(1)\n",
            "memory usage: 1.2+ KB\n"
          ],
          "name": "stdout"
        }
      ]
    },
    {
      "cell_type": "code",
      "metadata": {
        "colab": {
          "base_uri": "https://localhost:8080/"
        },
        "id": "HrBDSzlkBy4g",
        "outputId": "07ec0310-a7b8-442c-f285-b2b191e130bf"
      },
      "source": [
        "df_y.info()"
      ],
      "execution_count": 91,
      "outputs": [
        {
          "output_type": "stream",
          "text": [
            "<class 'pandas.core.frame.DataFrame'>\n",
            "RangeIndex: 14159 entries, 0 to 14158\n",
            "Data columns (total 2 columns):\n",
            " #   Column          Non-Null Count  Dtype \n",
            "---  ------          --------------  ----- \n",
            " 0   source_address  14159 non-null  object\n",
            " 1   fake            14159 non-null  bool  \n",
            "dtypes: bool(1), object(1)\n",
            "memory usage: 124.6+ KB\n"
          ],
          "name": "stdout"
        }
      ]
    },
    {
      "cell_type": "code",
      "metadata": {
        "id": "NYBb6_tdAG83"
      },
      "source": [
        "df_x = df_x[df_y['source_address'].isin(devices_list)]\n",
        "df_y = df_y[df_y['source_address'].isin(devices_list)]"
      ],
      "execution_count": 92,
      "outputs": []
    },
    {
      "cell_type": "code",
      "metadata": {
        "id": "JLrLWEfYCQEo"
      },
      "source": [
        "# Now both df_x and df_y have ~12K records of devices (and 106 columns) that had at least sent 50 probe requests."
      ],
      "execution_count": 93,
      "outputs": []
    },
    {
      "cell_type": "code",
      "metadata": {
        "colab": {
          "base_uri": "https://localhost:8080/",
          "height": 338
        },
        "id": "IhXuVBQPfCls",
        "outputId": "60145632-a469-4801-ebd8-6ac1b4421dd0"
      },
      "source": [
        "df_x.head()"
      ],
      "execution_count": 94,
      "outputs": [
        {
          "output_type": "execute_result",
          "data": {
            "text/html": [
              "<div>\n",
              "<style scoped>\n",
              "    .dataframe tbody tr th:only-of-type {\n",
              "        vertical-align: middle;\n",
              "    }\n",
              "\n",
              "    .dataframe tbody tr th {\n",
              "        vertical-align: top;\n",
              "    }\n",
              "\n",
              "    .dataframe thead th {\n",
              "        text-align: right;\n",
              "    }\n",
              "</style>\n",
              "<table border=\"1\" class=\"dataframe\">\n",
              "  <thead>\n",
              "    <tr style=\"text-align: right;\">\n",
              "      <th></th>\n",
              "      <th>frame.frame_frame_interface_id</th>\n",
              "      <th>frame.frame_frame_interface_name</th>\n",
              "      <th>frame.frame_frame_encap_type</th>\n",
              "      <th>frame.frame_frame_time</th>\n",
              "      <th>frame.frame_frame_offset_shift</th>\n",
              "      <th>frame.frame_frame_time_epoch</th>\n",
              "      <th>frame.frame_frame_time_delta</th>\n",
              "      <th>frame.frame_frame_time_delta_displayed</th>\n",
              "      <th>frame.frame_frame_time_relative</th>\n",
              "      <th>frame.frame_frame_number</th>\n",
              "      <th>frame.frame_frame_len</th>\n",
              "      <th>frame.frame_frame_cap_len</th>\n",
              "      <th>frame.frame_frame_marked</th>\n",
              "      <th>frame.frame_frame_ignored</th>\n",
              "      <th>frame.frame_frame_protocols</th>\n",
              "      <th>radiotap.radiotap_radiotap_version</th>\n",
              "      <th>radiotap.radiotap_radiotap_pad</th>\n",
              "      <th>radiotap.radiotap_radiotap_length</th>\n",
              "      <th>radiotap.radiotap_radiotap_present_word</th>\n",
              "      <th>radiotap.radiotap_radiotap_present_tsft</th>\n",
              "      <th>radiotap.radiotap_radiotap_present_flags</th>\n",
              "      <th>radiotap.radiotap_radiotap_present_rate</th>\n",
              "      <th>radiotap.radiotap_radiotap_present_channel</th>\n",
              "      <th>radiotap.radiotap_radiotap_present_fhss</th>\n",
              "      <th>radiotap.radiotap_radiotap_present_dbm_antsignal</th>\n",
              "      <th>radiotap.radiotap_radiotap_present_dbm_antnoise</th>\n",
              "      <th>radiotap.radiotap_radiotap_present_lock_quality</th>\n",
              "      <th>radiotap.radiotap_radiotap_present_tx_attenuation</th>\n",
              "      <th>radiotap.radiotap_radiotap_present_db_tx_attenuation</th>\n",
              "      <th>radiotap.radiotap_radiotap_present_dbm_tx_power</th>\n",
              "      <th>radiotap.radiotap_radiotap_present_antenna</th>\n",
              "      <th>radiotap.radiotap_radiotap_present_db_antsignal</th>\n",
              "      <th>radiotap.radiotap_radiotap_present_db_antnoise</th>\n",
              "      <th>radiotap.radiotap_radiotap_present_rxflags</th>\n",
              "      <th>radiotap.radiotap_radiotap_present_txflags</th>\n",
              "      <th>radiotap.radiotap_radiotap_present_xchannel</th>\n",
              "      <th>radiotap.radiotap_radiotap_present_mcs</th>\n",
              "      <th>radiotap.radiotap_radiotap_present_ampdu</th>\n",
              "      <th>radiotap.radiotap_radiotap_present_vht</th>\n",
              "      <th>radiotap.radiotap_radiotap_present_timestamp</th>\n",
              "      <th>...</th>\n",
              "      <th>radiotap.radiotap_radiotap_channel_flags_gfsk</th>\n",
              "      <th>radiotap.radiotap_radiotap_channel_flags_gsm</th>\n",
              "      <th>radiotap.radiotap_radiotap_channel_flags_sturbo</th>\n",
              "      <th>radiotap.radiotap_radiotap_channel_flags_half</th>\n",
              "      <th>radiotap.radiotap_radiotap_channel_flags_quarter</th>\n",
              "      <th>radiotap.radiotap_radiotap_dbm_antsignal</th>\n",
              "      <th>radiotap.radiotap_radiotap_rxflags</th>\n",
              "      <th>radiotap.radiotap_radiotap_rxflags_badplcp</th>\n",
              "      <th>radiotap.radiotap_radiotap_antenna</th>\n",
              "      <th>wlan_radio.wlan_radio_wlan_radio_phy</th>\n",
              "      <th>wlan_radio.wlan_radio_wlan_radio_short_preamble</th>\n",
              "      <th>wlan_radio.wlan_radio_wlan_radio_data_rate</th>\n",
              "      <th>wlan_radio.wlan_radio_wlan_radio_channel</th>\n",
              "      <th>wlan_radio.wlan_radio_wlan_radio_frequency</th>\n",
              "      <th>wlan_radio.wlan_radio_wlan_radio_signal_dbm</th>\n",
              "      <th>wlan_radio.wlan_radio_wlan_radio_duration</th>\n",
              "      <th>wlan_radio.wlan_radio_wlan_radio_preamble</th>\n",
              "      <th>wlan.wlan_wlan_fc_type_subtype</th>\n",
              "      <th>wlan.wlan_wlan_fc</th>\n",
              "      <th>wlan.wlan_wlan_fc_version</th>\n",
              "      <th>wlan.wlan_wlan_fc_type</th>\n",
              "      <th>wlan.wlan_wlan_fc_subtype</th>\n",
              "      <th>wlan.wlan_wlan_flags</th>\n",
              "      <th>wlan.wlan_wlan_fc_ds</th>\n",
              "      <th>wlan.wlan_wlan_fc_tods</th>\n",
              "      <th>wlan.wlan_wlan_fc_fromds</th>\n",
              "      <th>wlan.wlan_wlan_fc_frag</th>\n",
              "      <th>wlan.wlan_wlan_fc_retry</th>\n",
              "      <th>wlan.wlan_wlan_fc_pwrmgt</th>\n",
              "      <th>wlan.wlan_wlan_fc_moredata</th>\n",
              "      <th>wlan.wlan_wlan_fc_protected</th>\n",
              "      <th>wlan.wlan_wlan_fc_order</th>\n",
              "      <th>wlan.wlan_wlan_duration</th>\n",
              "      <th>wlan.wlan_wlan_frag</th>\n",
              "      <th>wlan.wlan_wlan_seq</th>\n",
              "      <th>wlan_wlan_mgt.wlan_wlan_tag</th>\n",
              "      <th>wlan_wlan_mgt.wlan_wlan_tag_number</th>\n",
              "      <th>wlan_wlan_mgt.wlan_wlan_tag_length</th>\n",
              "      <th>wlan_wlan_mgt.wlan_wlan_ssid</th>\n",
              "      <th>wlan_wlan_mgt.wlan_wlan_supported_rates</th>\n",
              "    </tr>\n",
              "  </thead>\n",
              "  <tbody>\n",
              "    <tr>\n",
              "      <th>0</th>\n",
              "      <td>0</td>\n",
              "      <td>wlan1</td>\n",
              "      <td>23</td>\n",
              "      <td>2021-06-04T18:33:39.641993378Z</td>\n",
              "      <td>0.000000000</td>\n",
              "      <td>1622831619.641993378</td>\n",
              "      <td>0.000000000</td>\n",
              "      <td>0.000000000</td>\n",
              "      <td>0.000000000</td>\n",
              "      <td>1</td>\n",
              "      <td>111</td>\n",
              "      <td>111</td>\n",
              "      <td>False</td>\n",
              "      <td>False</td>\n",
              "      <td>radiotap:wlan_radio:wlan</td>\n",
              "      <td>0</td>\n",
              "      <td>0</td>\n",
              "      <td>24</td>\n",
              "      <td>[0xa000402e, 0x00000820]</td>\n",
              "      <td>[False, False]</td>\n",
              "      <td>[True, False]</td>\n",
              "      <td>[True, False]</td>\n",
              "      <td>[True, False]</td>\n",
              "      <td>[False, False]</td>\n",
              "      <td>[True, True]</td>\n",
              "      <td>[False, False]</td>\n",
              "      <td>[False, False]</td>\n",
              "      <td>[False, False]</td>\n",
              "      <td>[False, False]</td>\n",
              "      <td>[False, False]</td>\n",
              "      <td>[False, True]</td>\n",
              "      <td>[False, False]</td>\n",
              "      <td>[False, False]</td>\n",
              "      <td>[True, False]</td>\n",
              "      <td>[False, False]</td>\n",
              "      <td>[False, False]</td>\n",
              "      <td>[False, False]</td>\n",
              "      <td>[False, False]</td>\n",
              "      <td>[False, False]</td>\n",
              "      <td>[False, False]</td>\n",
              "      <td>...</td>\n",
              "      <td>False</td>\n",
              "      <td>False</td>\n",
              "      <td>False</td>\n",
              "      <td>False</td>\n",
              "      <td>False</td>\n",
              "      <td>[-77, -77]</td>\n",
              "      <td>0x00000000</td>\n",
              "      <td>False</td>\n",
              "      <td>0</td>\n",
              "      <td>4</td>\n",
              "      <td>False</td>\n",
              "      <td>1</td>\n",
              "      <td>9</td>\n",
              "      <td>2452</td>\n",
              "      <td>-77</td>\n",
              "      <td>888</td>\n",
              "      <td>192</td>\n",
              "      <td>4</td>\n",
              "      <td>0x00004000</td>\n",
              "      <td>0</td>\n",
              "      <td>0</td>\n",
              "      <td>4</td>\n",
              "      <td>0x00000000</td>\n",
              "      <td>0x00000000</td>\n",
              "      <td>False</td>\n",
              "      <td>False</td>\n",
              "      <td>False</td>\n",
              "      <td>False</td>\n",
              "      <td>False</td>\n",
              "      <td>False</td>\n",
              "      <td>False</td>\n",
              "      <td>False</td>\n",
              "      <td>0</td>\n",
              "      <td>0</td>\n",
              "      <td>3914</td>\n",
              "      <td>[None, None, None, None, None, None]</td>\n",
              "      <td>[0, 1, 50, 3, 45, 221]</td>\n",
              "      <td>[5, 4, 8, 1, 26, 7]</td>\n",
              "      <td>kenzY</td>\n",
              "      <td>[2, 4, 11, 22]</td>\n",
              "    </tr>\n",
              "    <tr>\n",
              "      <th>1</th>\n",
              "      <td>0</td>\n",
              "      <td>wlan1</td>\n",
              "      <td>23</td>\n",
              "      <td>2021-06-04T18:33:39.670048342Z</td>\n",
              "      <td>0.000000000</td>\n",
              "      <td>1622831619.670048342</td>\n",
              "      <td>0.028054964</td>\n",
              "      <td>0.028054964</td>\n",
              "      <td>0.028054964</td>\n",
              "      <td>2</td>\n",
              "      <td>111</td>\n",
              "      <td>111</td>\n",
              "      <td>False</td>\n",
              "      <td>False</td>\n",
              "      <td>radiotap:wlan_radio:wlan</td>\n",
              "      <td>0</td>\n",
              "      <td>0</td>\n",
              "      <td>24</td>\n",
              "      <td>[0xa000402e, 0x00000820]</td>\n",
              "      <td>[False, False]</td>\n",
              "      <td>[True, False]</td>\n",
              "      <td>[True, False]</td>\n",
              "      <td>[True, False]</td>\n",
              "      <td>[False, False]</td>\n",
              "      <td>[True, True]</td>\n",
              "      <td>[False, False]</td>\n",
              "      <td>[False, False]</td>\n",
              "      <td>[False, False]</td>\n",
              "      <td>[False, False]</td>\n",
              "      <td>[False, False]</td>\n",
              "      <td>[False, True]</td>\n",
              "      <td>[False, False]</td>\n",
              "      <td>[False, False]</td>\n",
              "      <td>[True, False]</td>\n",
              "      <td>[False, False]</td>\n",
              "      <td>[False, False]</td>\n",
              "      <td>[False, False]</td>\n",
              "      <td>[False, False]</td>\n",
              "      <td>[False, False]</td>\n",
              "      <td>[False, False]</td>\n",
              "      <td>...</td>\n",
              "      <td>False</td>\n",
              "      <td>False</td>\n",
              "      <td>False</td>\n",
              "      <td>False</td>\n",
              "      <td>False</td>\n",
              "      <td>[-79, -79]</td>\n",
              "      <td>0x00000000</td>\n",
              "      <td>False</td>\n",
              "      <td>0</td>\n",
              "      <td>4</td>\n",
              "      <td>False</td>\n",
              "      <td>1</td>\n",
              "      <td>9</td>\n",
              "      <td>2452</td>\n",
              "      <td>-79</td>\n",
              "      <td>888</td>\n",
              "      <td>192</td>\n",
              "      <td>4</td>\n",
              "      <td>0x00004000</td>\n",
              "      <td>0</td>\n",
              "      <td>0</td>\n",
              "      <td>4</td>\n",
              "      <td>0x00000000</td>\n",
              "      <td>0x00000000</td>\n",
              "      <td>False</td>\n",
              "      <td>False</td>\n",
              "      <td>False</td>\n",
              "      <td>False</td>\n",
              "      <td>False</td>\n",
              "      <td>False</td>\n",
              "      <td>False</td>\n",
              "      <td>False</td>\n",
              "      <td>0</td>\n",
              "      <td>0</td>\n",
              "      <td>3918</td>\n",
              "      <td>[None, None, None, None, None, None]</td>\n",
              "      <td>[0, 1, 50, 3, 45, 221]</td>\n",
              "      <td>[5, 4, 8, 1, 26, 7]</td>\n",
              "      <td>KenzY</td>\n",
              "      <td>[2, 4, 11, 22]</td>\n",
              "    </tr>\n",
              "    <tr>\n",
              "      <th>2</th>\n",
              "      <td>0</td>\n",
              "      <td>wlan1</td>\n",
              "      <td>23</td>\n",
              "      <td>2021-06-04T18:33:39.672104797Z</td>\n",
              "      <td>0.000000000</td>\n",
              "      <td>1622831619.672104797</td>\n",
              "      <td>0.002056455</td>\n",
              "      <td>0.002056455</td>\n",
              "      <td>0.030111419</td>\n",
              "      <td>3</td>\n",
              "      <td>117</td>\n",
              "      <td>117</td>\n",
              "      <td>False</td>\n",
              "      <td>False</td>\n",
              "      <td>radiotap:wlan_radio:wlan</td>\n",
              "      <td>0</td>\n",
              "      <td>0</td>\n",
              "      <td>24</td>\n",
              "      <td>[0xa000402e, 0x00000820]</td>\n",
              "      <td>[False, False]</td>\n",
              "      <td>[True, False]</td>\n",
              "      <td>[True, False]</td>\n",
              "      <td>[True, False]</td>\n",
              "      <td>[False, False]</td>\n",
              "      <td>[True, True]</td>\n",
              "      <td>[False, False]</td>\n",
              "      <td>[False, False]</td>\n",
              "      <td>[False, False]</td>\n",
              "      <td>[False, False]</td>\n",
              "      <td>[False, False]</td>\n",
              "      <td>[False, True]</td>\n",
              "      <td>[False, False]</td>\n",
              "      <td>[False, False]</td>\n",
              "      <td>[True, False]</td>\n",
              "      <td>[False, False]</td>\n",
              "      <td>[False, False]</td>\n",
              "      <td>[False, False]</td>\n",
              "      <td>[False, False]</td>\n",
              "      <td>[False, False]</td>\n",
              "      <td>[False, False]</td>\n",
              "      <td>...</td>\n",
              "      <td>False</td>\n",
              "      <td>False</td>\n",
              "      <td>False</td>\n",
              "      <td>False</td>\n",
              "      <td>False</td>\n",
              "      <td>[-77, -77]</td>\n",
              "      <td>0x00000000</td>\n",
              "      <td>False</td>\n",
              "      <td>0</td>\n",
              "      <td>4</td>\n",
              "      <td>False</td>\n",
              "      <td>1</td>\n",
              "      <td>9</td>\n",
              "      <td>2452</td>\n",
              "      <td>-77</td>\n",
              "      <td>936</td>\n",
              "      <td>192</td>\n",
              "      <td>4</td>\n",
              "      <td>0x00004000</td>\n",
              "      <td>0</td>\n",
              "      <td>0</td>\n",
              "      <td>4</td>\n",
              "      <td>0x00000000</td>\n",
              "      <td>0x00000000</td>\n",
              "      <td>False</td>\n",
              "      <td>False</td>\n",
              "      <td>False</td>\n",
              "      <td>False</td>\n",
              "      <td>False</td>\n",
              "      <td>False</td>\n",
              "      <td>False</td>\n",
              "      <td>False</td>\n",
              "      <td>0</td>\n",
              "      <td>0</td>\n",
              "      <td>3920</td>\n",
              "      <td>[None, None, None, None, None, None]</td>\n",
              "      <td>[0, 1, 50, 3, 45, 221]</td>\n",
              "      <td>[11, 4, 8, 1, 26, 7]</td>\n",
              "      <td>ROJA WALLID</td>\n",
              "      <td>[2, 4, 11, 22]</td>\n",
              "    </tr>\n",
              "    <tr>\n",
              "      <th>8</th>\n",
              "      <td>0</td>\n",
              "      <td>wlan1</td>\n",
              "      <td>23</td>\n",
              "      <td>2021-06-04T18:33:41.74082881Z</td>\n",
              "      <td>0.000000000</td>\n",
              "      <td>1622831621.074082881</td>\n",
              "      <td>0.695290480</td>\n",
              "      <td>0.695290480</td>\n",
              "      <td>1.432089503</td>\n",
              "      <td>9</td>\n",
              "      <td>78</td>\n",
              "      <td>78</td>\n",
              "      <td>False</td>\n",
              "      <td>False</td>\n",
              "      <td>radiotap:wlan_radio:wlan</td>\n",
              "      <td>0</td>\n",
              "      <td>0</td>\n",
              "      <td>24</td>\n",
              "      <td>[0xa000402e, 0x00000820]</td>\n",
              "      <td>[False, False]</td>\n",
              "      <td>[True, False]</td>\n",
              "      <td>[True, False]</td>\n",
              "      <td>[True, False]</td>\n",
              "      <td>[False, False]</td>\n",
              "      <td>[True, True]</td>\n",
              "      <td>[False, False]</td>\n",
              "      <td>[False, False]</td>\n",
              "      <td>[False, False]</td>\n",
              "      <td>[False, False]</td>\n",
              "      <td>[False, False]</td>\n",
              "      <td>[False, True]</td>\n",
              "      <td>[False, False]</td>\n",
              "      <td>[False, False]</td>\n",
              "      <td>[True, False]</td>\n",
              "      <td>[False, False]</td>\n",
              "      <td>[False, False]</td>\n",
              "      <td>[False, False]</td>\n",
              "      <td>[False, False]</td>\n",
              "      <td>[False, False]</td>\n",
              "      <td>[False, False]</td>\n",
              "      <td>...</td>\n",
              "      <td>False</td>\n",
              "      <td>False</td>\n",
              "      <td>False</td>\n",
              "      <td>False</td>\n",
              "      <td>False</td>\n",
              "      <td>[-75, -75]</td>\n",
              "      <td>0x00000000</td>\n",
              "      <td>False</td>\n",
              "      <td>0</td>\n",
              "      <td>4</td>\n",
              "      <td>False</td>\n",
              "      <td>1</td>\n",
              "      <td>6</td>\n",
              "      <td>2437</td>\n",
              "      <td>-75</td>\n",
              "      <td>624</td>\n",
              "      <td>192</td>\n",
              "      <td>4</td>\n",
              "      <td>0x00004000</td>\n",
              "      <td>0</td>\n",
              "      <td>0</td>\n",
              "      <td>4</td>\n",
              "      <td>0x00000000</td>\n",
              "      <td>0x00000000</td>\n",
              "      <td>False</td>\n",
              "      <td>False</td>\n",
              "      <td>False</td>\n",
              "      <td>False</td>\n",
              "      <td>False</td>\n",
              "      <td>False</td>\n",
              "      <td>False</td>\n",
              "      <td>False</td>\n",
              "      <td>0</td>\n",
              "      <td>0</td>\n",
              "      <td>2066</td>\n",
              "      <td>[None, None, None, None, None]</td>\n",
              "      <td>[0, 1, 50, 221, 3]</td>\n",
              "      <td>[0, 8, 4, 7, 1]</td>\n",
              "      <td></td>\n",
              "      <td>[130, 132, 139, 150, 12, 18, 24, 36]</td>\n",
              "    </tr>\n",
              "    <tr>\n",
              "      <th>14</th>\n",
              "      <td>0</td>\n",
              "      <td>wlan1</td>\n",
              "      <td>23</td>\n",
              "      <td>2021-06-04T18:33:45.361382347Z</td>\n",
              "      <td>0.000000000</td>\n",
              "      <td>1622831625.361382347</td>\n",
              "      <td>0.044205010</td>\n",
              "      <td>0.044205010</td>\n",
              "      <td>5.719388969</td>\n",
              "      <td>15</td>\n",
              "      <td>106</td>\n",
              "      <td>106</td>\n",
              "      <td>False</td>\n",
              "      <td>False</td>\n",
              "      <td>radiotap:wlan_radio:wlan</td>\n",
              "      <td>0</td>\n",
              "      <td>0</td>\n",
              "      <td>24</td>\n",
              "      <td>[0xa000402e, 0x00000820]</td>\n",
              "      <td>[False, False]</td>\n",
              "      <td>[True, False]</td>\n",
              "      <td>[True, False]</td>\n",
              "      <td>[True, False]</td>\n",
              "      <td>[False, False]</td>\n",
              "      <td>[True, True]</td>\n",
              "      <td>[False, False]</td>\n",
              "      <td>[False, False]</td>\n",
              "      <td>[False, False]</td>\n",
              "      <td>[False, False]</td>\n",
              "      <td>[False, False]</td>\n",
              "      <td>[False, True]</td>\n",
              "      <td>[False, False]</td>\n",
              "      <td>[False, False]</td>\n",
              "      <td>[True, False]</td>\n",
              "      <td>[False, False]</td>\n",
              "      <td>[False, False]</td>\n",
              "      <td>[False, False]</td>\n",
              "      <td>[False, False]</td>\n",
              "      <td>[False, False]</td>\n",
              "      <td>[False, False]</td>\n",
              "      <td>...</td>\n",
              "      <td>False</td>\n",
              "      <td>False</td>\n",
              "      <td>False</td>\n",
              "      <td>False</td>\n",
              "      <td>False</td>\n",
              "      <td>[-69, -69]</td>\n",
              "      <td>0x00000000</td>\n",
              "      <td>False</td>\n",
              "      <td>0</td>\n",
              "      <td>4</td>\n",
              "      <td>False</td>\n",
              "      <td>1</td>\n",
              "      <td>1</td>\n",
              "      <td>2412</td>\n",
              "      <td>-69</td>\n",
              "      <td>848</td>\n",
              "      <td>192</td>\n",
              "      <td>4</td>\n",
              "      <td>0x00004000</td>\n",
              "      <td>0</td>\n",
              "      <td>0</td>\n",
              "      <td>4</td>\n",
              "      <td>0x00000000</td>\n",
              "      <td>0x00000000</td>\n",
              "      <td>False</td>\n",
              "      <td>False</td>\n",
              "      <td>False</td>\n",
              "      <td>False</td>\n",
              "      <td>False</td>\n",
              "      <td>False</td>\n",
              "      <td>False</td>\n",
              "      <td>False</td>\n",
              "      <td>0</td>\n",
              "      <td>0</td>\n",
              "      <td>3935</td>\n",
              "      <td>[None, None, None, None, None, None]</td>\n",
              "      <td>[0, 1, 50, 3, 45, 221]</td>\n",
              "      <td>[0, 4, 8, 1, 26, 7]</td>\n",
              "      <td></td>\n",
              "      <td>[2, 4, 11, 22]</td>\n",
              "    </tr>\n",
              "  </tbody>\n",
              "</table>\n",
              "<p>5 rows × 107 columns</p>\n",
              "</div>"
            ],
            "text/plain": [
              "   frame.frame_frame_interface_id  ... wlan_wlan_mgt.wlan_wlan_supported_rates\n",
              "0                               0  ...                          [2, 4, 11, 22]\n",
              "1                               0  ...                          [2, 4, 11, 22]\n",
              "2                               0  ...                          [2, 4, 11, 22]\n",
              "8                               0  ...    [130, 132, 139, 150, 12, 18, 24, 36]\n",
              "14                              0  ...                          [2, 4, 11, 22]\n",
              "\n",
              "[5 rows x 107 columns]"
            ]
          },
          "metadata": {
            "tags": []
          },
          "execution_count": 94
        }
      ]
    },
    {
      "cell_type": "code",
      "metadata": {
        "id": "RxjyLNRyIPx-"
      },
      "source": [
        "list_cols = []\n",
        "for c in df_x.columns:\n",
        "  if type(df_x[c][0]) == list:\n",
        "    list_cols.append(c)"
      ],
      "execution_count": 95,
      "outputs": []
    },
    {
      "cell_type": "code",
      "metadata": {
        "id": "8qxUxMhguiHg"
      },
      "source": [
        "\t# df_x['wlan_wlan_mgt.wlan_wlan_tag_number'].to_list()"
      ],
      "execution_count": 96,
      "outputs": []
    },
    {
      "cell_type": "code",
      "metadata": {
        "id": "Nf8EPhVYoM0Y"
      },
      "source": [
        "# for c in list_cols:\n",
        "#   col_dummy = pd.DataFrame(df_x[c].to_list(), columns=[c for c in df_x[c].to_list()])\n",
        "#   df_x = df_x.drop(c, axis=1)\n",
        "#   df_x = pd.concat((df_x, col_dummy), axis=1)"
      ],
      "execution_count": 21,
      "outputs": []
    },
    {
      "cell_type": "code",
      "metadata": {
        "id": "fU6n76XF-KJb"
      },
      "source": [
        "df_x.drop(list_cols, axis=1, inplace=True) # remove these columns"
      ],
      "execution_count": 97,
      "outputs": []
    },
    {
      "cell_type": "code",
      "metadata": {
        "id": "PYZYKfuen5tC"
      },
      "source": [
        "dropped_cols = []\n",
        "for c in (df_x.columns):\n",
        "  if df_x[c].nunique() <= 1:\n",
        "    dropped_cols.append(c)\n"
      ],
      "execution_count": 98,
      "outputs": []
    },
    {
      "cell_type": "markdown",
      "metadata": {
        "id": "UBZsFcitI4pP"
      },
      "source": [
        "### Note: 58 columns with no entropy. to be dropped"
      ]
    },
    {
      "cell_type": "code",
      "metadata": {
        "id": "9denlRZrHdTu"
      },
      "source": [
        "df_x.drop(dropped_cols, axis=1, inplace=True) \n",
        "# df_x.drop('layers.wlan.wlan.ra', axis=1, inplace=True)\n",
        "# df_x.drop('destination_address', axis=1, inplace=True)\n"
      ],
      "execution_count": 99,
      "outputs": []
    },
    {
      "cell_type": "code",
      "metadata": {
        "id": "2TU9JG_mxU85"
      },
      "source": [
        "other_cols = ['frame.frame_frame_time', 'frame.frame_frame_time_delta_displayed']\n",
        "df_x.drop(other_cols, axis=1, inplace=True)"
      ],
      "execution_count": 100,
      "outputs": []
    },
    {
      "cell_type": "code",
      "metadata": {
        "colab": {
          "base_uri": "https://localhost:8080/"
        },
        "id": "5YYz7zEpCub1",
        "outputId": "5298b564-4a90-49cc-db56-9c1d0ccbdbb7"
      },
      "source": [
        "df_x.info()"
      ],
      "execution_count": 101,
      "outputs": [
        {
          "output_type": "stream",
          "text": [
            "<class 'pandas.core.frame.DataFrame'>\n",
            "Int64Index: 5959 entries, 0 to 14157\n",
            "Data columns (total 24 columns):\n",
            " #   Column                                         Non-Null Count  Dtype \n",
            "---  ------                                         --------------  ----- \n",
            " 0   frame.frame_frame_time_epoch                   5959 non-null   object\n",
            " 1   frame.frame_frame_time_delta                   5959 non-null   object\n",
            " 2   frame.frame_frame_time_relative                5959 non-null   object\n",
            " 3   frame.frame_frame_number                       5959 non-null   object\n",
            " 4   frame.frame_frame_len                          5959 non-null   object\n",
            " 5   frame.frame_frame_cap_len                      5959 non-null   object\n",
            " 6   radiotap.radiotap_radiotap_datarate            5959 non-null   object\n",
            " 7   radiotap.radiotap_radiotap_channel_freq        5959 non-null   object\n",
            " 8   radiotap.radiotap_radiotap_channel_flags       5959 non-null   object\n",
            " 9   radiotap.radiotap_radiotap_channel_flags_cck   5959 non-null   bool  \n",
            " 10  radiotap.radiotap_radiotap_channel_flags_ofdm  5959 non-null   bool  \n",
            " 11  wlan_radio.wlan_radio_wlan_radio_phy           5959 non-null   object\n",
            " 12  wlan_radio.wlan_radio_wlan_radio_data_rate     5959 non-null   object\n",
            " 13  wlan_radio.wlan_radio_wlan_radio_channel       5959 non-null   object\n",
            " 14  wlan_radio.wlan_radio_wlan_radio_frequency     5959 non-null   object\n",
            " 15  wlan_radio.wlan_radio_wlan_radio_signal_dbm    5959 non-null   object\n",
            " 16  wlan_radio.wlan_radio_wlan_radio_duration      5959 non-null   object\n",
            " 17  wlan_radio.wlan_radio_wlan_radio_preamble      5959 non-null   object\n",
            " 18  wlan.wlan_wlan_fc                              5959 non-null   object\n",
            " 19  wlan.wlan_wlan_flags                           5959 non-null   object\n",
            " 20  wlan.wlan_wlan_fc_retry                        5959 non-null   bool  \n",
            " 21  wlan.wlan_wlan_duration                        5959 non-null   object\n",
            " 22  wlan.wlan_wlan_seq                             5959 non-null   object\n",
            " 23  wlan_wlan_mgt.wlan_wlan_ssid                   5959 non-null   object\n",
            "dtypes: bool(3), object(21)\n",
            "memory usage: 1.2+ MB\n"
          ],
          "name": "stdout"
        }
      ]
    },
    {
      "cell_type": "code",
      "metadata": {
        "colab": {
          "base_uri": "https://localhost:8080/",
          "height": 224
        },
        "id": "M2J42EUwsq7n",
        "outputId": "96d61986-f891-4d75-8b13-df9bf3ee930b"
      },
      "source": [
        "df_x.head()"
      ],
      "execution_count": 102,
      "outputs": [
        {
          "output_type": "execute_result",
          "data": {
            "text/html": [
              "<div>\n",
              "<style scoped>\n",
              "    .dataframe tbody tr th:only-of-type {\n",
              "        vertical-align: middle;\n",
              "    }\n",
              "\n",
              "    .dataframe tbody tr th {\n",
              "        vertical-align: top;\n",
              "    }\n",
              "\n",
              "    .dataframe thead th {\n",
              "        text-align: right;\n",
              "    }\n",
              "</style>\n",
              "<table border=\"1\" class=\"dataframe\">\n",
              "  <thead>\n",
              "    <tr style=\"text-align: right;\">\n",
              "      <th></th>\n",
              "      <th>frame.frame_frame_time_epoch</th>\n",
              "      <th>frame.frame_frame_time_delta</th>\n",
              "      <th>frame.frame_frame_time_relative</th>\n",
              "      <th>frame.frame_frame_number</th>\n",
              "      <th>frame.frame_frame_len</th>\n",
              "      <th>frame.frame_frame_cap_len</th>\n",
              "      <th>radiotap.radiotap_radiotap_datarate</th>\n",
              "      <th>radiotap.radiotap_radiotap_channel_freq</th>\n",
              "      <th>radiotap.radiotap_radiotap_channel_flags</th>\n",
              "      <th>radiotap.radiotap_radiotap_channel_flags_cck</th>\n",
              "      <th>radiotap.radiotap_radiotap_channel_flags_ofdm</th>\n",
              "      <th>wlan_radio.wlan_radio_wlan_radio_phy</th>\n",
              "      <th>wlan_radio.wlan_radio_wlan_radio_data_rate</th>\n",
              "      <th>wlan_radio.wlan_radio_wlan_radio_channel</th>\n",
              "      <th>wlan_radio.wlan_radio_wlan_radio_frequency</th>\n",
              "      <th>wlan_radio.wlan_radio_wlan_radio_signal_dbm</th>\n",
              "      <th>wlan_radio.wlan_radio_wlan_radio_duration</th>\n",
              "      <th>wlan_radio.wlan_radio_wlan_radio_preamble</th>\n",
              "      <th>wlan.wlan_wlan_fc</th>\n",
              "      <th>wlan.wlan_wlan_flags</th>\n",
              "      <th>wlan.wlan_wlan_fc_retry</th>\n",
              "      <th>wlan.wlan_wlan_duration</th>\n",
              "      <th>wlan.wlan_wlan_seq</th>\n",
              "      <th>wlan_wlan_mgt.wlan_wlan_ssid</th>\n",
              "    </tr>\n",
              "  </thead>\n",
              "  <tbody>\n",
              "    <tr>\n",
              "      <th>0</th>\n",
              "      <td>1622831619.641993378</td>\n",
              "      <td>0.000000000</td>\n",
              "      <td>0.000000000</td>\n",
              "      <td>1</td>\n",
              "      <td>111</td>\n",
              "      <td>111</td>\n",
              "      <td>1</td>\n",
              "      <td>2452</td>\n",
              "      <td>0x000000a0</td>\n",
              "      <td>True</td>\n",
              "      <td>False</td>\n",
              "      <td>4</td>\n",
              "      <td>1</td>\n",
              "      <td>9</td>\n",
              "      <td>2452</td>\n",
              "      <td>-77</td>\n",
              "      <td>888</td>\n",
              "      <td>192</td>\n",
              "      <td>0x00004000</td>\n",
              "      <td>0x00000000</td>\n",
              "      <td>False</td>\n",
              "      <td>0</td>\n",
              "      <td>3914</td>\n",
              "      <td>kenzY</td>\n",
              "    </tr>\n",
              "    <tr>\n",
              "      <th>1</th>\n",
              "      <td>1622831619.670048342</td>\n",
              "      <td>0.028054964</td>\n",
              "      <td>0.028054964</td>\n",
              "      <td>2</td>\n",
              "      <td>111</td>\n",
              "      <td>111</td>\n",
              "      <td>1</td>\n",
              "      <td>2452</td>\n",
              "      <td>0x000000a0</td>\n",
              "      <td>True</td>\n",
              "      <td>False</td>\n",
              "      <td>4</td>\n",
              "      <td>1</td>\n",
              "      <td>9</td>\n",
              "      <td>2452</td>\n",
              "      <td>-79</td>\n",
              "      <td>888</td>\n",
              "      <td>192</td>\n",
              "      <td>0x00004000</td>\n",
              "      <td>0x00000000</td>\n",
              "      <td>False</td>\n",
              "      <td>0</td>\n",
              "      <td>3918</td>\n",
              "      <td>KenzY</td>\n",
              "    </tr>\n",
              "    <tr>\n",
              "      <th>2</th>\n",
              "      <td>1622831619.672104797</td>\n",
              "      <td>0.002056455</td>\n",
              "      <td>0.030111419</td>\n",
              "      <td>3</td>\n",
              "      <td>117</td>\n",
              "      <td>117</td>\n",
              "      <td>1</td>\n",
              "      <td>2452</td>\n",
              "      <td>0x000000a0</td>\n",
              "      <td>True</td>\n",
              "      <td>False</td>\n",
              "      <td>4</td>\n",
              "      <td>1</td>\n",
              "      <td>9</td>\n",
              "      <td>2452</td>\n",
              "      <td>-77</td>\n",
              "      <td>936</td>\n",
              "      <td>192</td>\n",
              "      <td>0x00004000</td>\n",
              "      <td>0x00000000</td>\n",
              "      <td>False</td>\n",
              "      <td>0</td>\n",
              "      <td>3920</td>\n",
              "      <td>ROJA WALLID</td>\n",
              "    </tr>\n",
              "    <tr>\n",
              "      <th>8</th>\n",
              "      <td>1622831621.074082881</td>\n",
              "      <td>0.695290480</td>\n",
              "      <td>1.432089503</td>\n",
              "      <td>9</td>\n",
              "      <td>78</td>\n",
              "      <td>78</td>\n",
              "      <td>1</td>\n",
              "      <td>2437</td>\n",
              "      <td>0x000000a0</td>\n",
              "      <td>True</td>\n",
              "      <td>False</td>\n",
              "      <td>4</td>\n",
              "      <td>1</td>\n",
              "      <td>6</td>\n",
              "      <td>2437</td>\n",
              "      <td>-75</td>\n",
              "      <td>624</td>\n",
              "      <td>192</td>\n",
              "      <td>0x00004000</td>\n",
              "      <td>0x00000000</td>\n",
              "      <td>False</td>\n",
              "      <td>0</td>\n",
              "      <td>2066</td>\n",
              "      <td></td>\n",
              "    </tr>\n",
              "    <tr>\n",
              "      <th>14</th>\n",
              "      <td>1622831625.361382347</td>\n",
              "      <td>0.044205010</td>\n",
              "      <td>5.719388969</td>\n",
              "      <td>15</td>\n",
              "      <td>106</td>\n",
              "      <td>106</td>\n",
              "      <td>1</td>\n",
              "      <td>2412</td>\n",
              "      <td>0x000000a0</td>\n",
              "      <td>True</td>\n",
              "      <td>False</td>\n",
              "      <td>4</td>\n",
              "      <td>1</td>\n",
              "      <td>1</td>\n",
              "      <td>2412</td>\n",
              "      <td>-69</td>\n",
              "      <td>848</td>\n",
              "      <td>192</td>\n",
              "      <td>0x00004000</td>\n",
              "      <td>0x00000000</td>\n",
              "      <td>False</td>\n",
              "      <td>0</td>\n",
              "      <td>3935</td>\n",
              "      <td></td>\n",
              "    </tr>\n",
              "  </tbody>\n",
              "</table>\n",
              "</div>"
            ],
            "text/plain": [
              "   frame.frame_frame_time_epoch  ... wlan_wlan_mgt.wlan_wlan_ssid\n",
              "0          1622831619.641993378  ...                        kenzY\n",
              "1          1622831619.670048342  ...                        KenzY\n",
              "2          1622831619.672104797  ...                  ROJA WALLID\n",
              "8          1622831621.074082881  ...                             \n",
              "14         1622831625.361382347  ...                             \n",
              "\n",
              "[5 rows x 24 columns]"
            ]
          },
          "metadata": {
            "tags": []
          },
          "execution_count": 102
        }
      ]
    },
    {
      "cell_type": "code",
      "metadata": {
        "id": "6kVw7Qo_RsQH"
      },
      "source": [
        "# df_x['frame.frame_frame_time'] = df_x['frame.frame_frame_time'].str.replace(\" Egypt Standard Time\",\"\")\n",
        "# df_x['frame.frame_frame_time'] = df_x['frame.frame_frame_time'].str.replace(\"Jun  4, 2021 \",\"\")"
      ],
      "execution_count": 28,
      "outputs": []
    },
    {
      "cell_type": "code",
      "metadata": {
        "id": "2tIChaQVStOz"
      },
      "source": [
        "# df_x['frame.frame_frame_time'] = df_x['frame.frame_frame_time'].apply(lambda x: int(x.split(':')[0])*3600 + int(x.split(':')[1])*60 + float(x.split(':')[2]))"
      ],
      "execution_count": 29,
      "outputs": []
    },
    {
      "cell_type": "code",
      "metadata": {
        "id": "FETbK3XuLOfI"
      },
      "source": [
        "# df_x.drop('layers.frame.frame_time', axis=1, inplace=True)  # dropping time for now, will retain it later"
      ],
      "execution_count": 30,
      "outputs": []
    },
    {
      "cell_type": "code",
      "metadata": {
        "id": "JQ_tQp3hEmM0",
        "colab": {
          "base_uri": "https://localhost:8080/",
          "height": 35
        },
        "outputId": "b38431fb-4fae-41e7-9f7d-f6f6dc24841a"
      },
      "source": [
        "'''\n",
        "numerics = ['int16', 'int32', 'int64', 'float16', 'float32', 'float64']\n",
        "numeric_columns = df_x.select_dtypes(include=numerics).columns\n",
        "'''"
      ],
      "execution_count": 31,
      "outputs": [
        {
          "output_type": "execute_result",
          "data": {
            "application/vnd.google.colaboratory.intrinsic+json": {
              "type": "string"
            },
            "text/plain": [
              "\"\\nnumerics = ['int16', 'int32', 'int64', 'float16', 'float32', 'float64']\\nnumeric_columns = df_x.select_dtypes(include=numerics).columns\\n\""
            ]
          },
          "metadata": {
            "tags": []
          },
          "execution_count": 31
        }
      ]
    },
    {
      "cell_type": "code",
      "metadata": {
        "id": "MA8RklwkMYlc",
        "colab": {
          "base_uri": "https://localhost:8080/",
          "height": 52
        },
        "outputId": "596602fe-eb94-4877-b9c5-9b0cb36e5631"
      },
      "source": [
        "'''\n",
        "hex_numeric_cols = ['layers.radiotap.radiotap.channel.flags', \\\n",
        "'layers.wlan.wlan.fc', 'layers.wlan.wlan.fc_tree.wlan.flags']  # , 'layers.radiotap.radiotap.flags', 'layers.wlan.wlan.fc_tree.wlan.flags', 'layers.wlan.wlan.fc_tree.wlan.flags_tree.wlan.fc.ds'\n",
        "'''"
      ],
      "execution_count": 32,
      "outputs": [
        {
          "output_type": "execute_result",
          "data": {
            "application/vnd.google.colaboratory.intrinsic+json": {
              "type": "string"
            },
            "text/plain": [
              "\"\\nhex_numeric_cols = ['layers.radiotap.radiotap.channel.flags', 'layers.wlan.wlan.fc', 'layers.wlan.wlan.fc_tree.wlan.flags']  # , 'layers.radiotap.radiotap.flags', 'layers.wlan.wlan.fc_tree.wlan.flags', 'layers.wlan.wlan.fc_tree.wlan.flags_tree.wlan.fc.ds'\\n\""
            ]
          },
          "metadata": {
            "tags": []
          },
          "execution_count": 32
        }
      ]
    },
    {
      "cell_type": "code",
      "metadata": {
        "id": "HorhJR-jMlOW"
      },
      "source": [
        "# df_x.drop(hex_numeric_cols, axis=1, inplace=True)  # dropping for now, will retain it later"
      ],
      "execution_count": 33,
      "outputs": []
    },
    {
      "cell_type": "code",
      "metadata": {
        "id": "YpOxVj5zBZ25"
      },
      "source": [
        "# bool_cols = ['wlan.wlan_wlan_fc_retry', 'radiotap.radiotap_radiotap_channel_flags_cck', 'radiotap.radiotap_radiotap_channel_flags_ofdm']"
      ],
      "execution_count": 34,
      "outputs": []
    },
    {
      "cell_type": "code",
      "metadata": {
        "colab": {
          "base_uri": "https://localhost:8080/"
        },
        "id": "ifCSW1rICF_G",
        "outputId": "26aba719-cac6-4378-fe94-bd27940f10a8"
      },
      "source": [
        "type(df_x.columns)"
      ],
      "execution_count": 35,
      "outputs": [
        {
          "output_type": "execute_result",
          "data": {
            "text/plain": [
              "pandas.core.indexes.base.Index"
            ]
          },
          "metadata": {
            "tags": []
          },
          "execution_count": 35
        }
      ]
    },
    {
      "cell_type": "code",
      "metadata": {
        "colab": {
          "base_uri": "https://localhost:8080/",
          "height": 224
        },
        "id": "vNNgXAsZxou4",
        "outputId": "19c5a47b-b120-42bb-f675-d427c8214eb8"
      },
      "source": [
        "df_x.head()"
      ],
      "execution_count": 36,
      "outputs": [
        {
          "output_type": "execute_result",
          "data": {
            "text/html": [
              "<div>\n",
              "<style scoped>\n",
              "    .dataframe tbody tr th:only-of-type {\n",
              "        vertical-align: middle;\n",
              "    }\n",
              "\n",
              "    .dataframe tbody tr th {\n",
              "        vertical-align: top;\n",
              "    }\n",
              "\n",
              "    .dataframe thead th {\n",
              "        text-align: right;\n",
              "    }\n",
              "</style>\n",
              "<table border=\"1\" class=\"dataframe\">\n",
              "  <thead>\n",
              "    <tr style=\"text-align: right;\">\n",
              "      <th></th>\n",
              "      <th>frame.frame_frame_time_epoch</th>\n",
              "      <th>frame.frame_frame_time_delta</th>\n",
              "      <th>frame.frame_frame_time_relative</th>\n",
              "      <th>frame.frame_frame_number</th>\n",
              "      <th>frame.frame_frame_len</th>\n",
              "      <th>frame.frame_frame_cap_len</th>\n",
              "      <th>radiotap.radiotap_radiotap_datarate</th>\n",
              "      <th>radiotap.radiotap_radiotap_channel_freq</th>\n",
              "      <th>radiotap.radiotap_radiotap_channel_flags</th>\n",
              "      <th>radiotap.radiotap_radiotap_channel_flags_cck</th>\n",
              "      <th>radiotap.radiotap_radiotap_channel_flags_ofdm</th>\n",
              "      <th>wlan_radio.wlan_radio_wlan_radio_phy</th>\n",
              "      <th>wlan_radio.wlan_radio_wlan_radio_data_rate</th>\n",
              "      <th>wlan_radio.wlan_radio_wlan_radio_channel</th>\n",
              "      <th>wlan_radio.wlan_radio_wlan_radio_frequency</th>\n",
              "      <th>wlan_radio.wlan_radio_wlan_radio_signal_dbm</th>\n",
              "      <th>wlan_radio.wlan_radio_wlan_radio_duration</th>\n",
              "      <th>wlan_radio.wlan_radio_wlan_radio_preamble</th>\n",
              "      <th>wlan.wlan_wlan_fc</th>\n",
              "      <th>wlan.wlan_wlan_flags</th>\n",
              "      <th>wlan.wlan_wlan_fc_retry</th>\n",
              "      <th>wlan.wlan_wlan_duration</th>\n",
              "      <th>wlan.wlan_wlan_seq</th>\n",
              "      <th>wlan_wlan_mgt.wlan_wlan_ssid</th>\n",
              "    </tr>\n",
              "  </thead>\n",
              "  <tbody>\n",
              "    <tr>\n",
              "      <th>0</th>\n",
              "      <td>1622831619.641993378</td>\n",
              "      <td>0.000000000</td>\n",
              "      <td>0.000000000</td>\n",
              "      <td>1</td>\n",
              "      <td>111</td>\n",
              "      <td>111</td>\n",
              "      <td>1</td>\n",
              "      <td>2452</td>\n",
              "      <td>0x000000a0</td>\n",
              "      <td>True</td>\n",
              "      <td>False</td>\n",
              "      <td>4</td>\n",
              "      <td>1</td>\n",
              "      <td>9</td>\n",
              "      <td>2452</td>\n",
              "      <td>-77</td>\n",
              "      <td>888</td>\n",
              "      <td>192</td>\n",
              "      <td>0x00004000</td>\n",
              "      <td>0x00000000</td>\n",
              "      <td>False</td>\n",
              "      <td>0</td>\n",
              "      <td>3914</td>\n",
              "      <td>kenzY</td>\n",
              "    </tr>\n",
              "    <tr>\n",
              "      <th>1</th>\n",
              "      <td>1622831619.670048342</td>\n",
              "      <td>0.028054964</td>\n",
              "      <td>0.028054964</td>\n",
              "      <td>2</td>\n",
              "      <td>111</td>\n",
              "      <td>111</td>\n",
              "      <td>1</td>\n",
              "      <td>2452</td>\n",
              "      <td>0x000000a0</td>\n",
              "      <td>True</td>\n",
              "      <td>False</td>\n",
              "      <td>4</td>\n",
              "      <td>1</td>\n",
              "      <td>9</td>\n",
              "      <td>2452</td>\n",
              "      <td>-79</td>\n",
              "      <td>888</td>\n",
              "      <td>192</td>\n",
              "      <td>0x00004000</td>\n",
              "      <td>0x00000000</td>\n",
              "      <td>False</td>\n",
              "      <td>0</td>\n",
              "      <td>3918</td>\n",
              "      <td>KenzY</td>\n",
              "    </tr>\n",
              "    <tr>\n",
              "      <th>2</th>\n",
              "      <td>1622831619.672104797</td>\n",
              "      <td>0.002056455</td>\n",
              "      <td>0.030111419</td>\n",
              "      <td>3</td>\n",
              "      <td>117</td>\n",
              "      <td>117</td>\n",
              "      <td>1</td>\n",
              "      <td>2452</td>\n",
              "      <td>0x000000a0</td>\n",
              "      <td>True</td>\n",
              "      <td>False</td>\n",
              "      <td>4</td>\n",
              "      <td>1</td>\n",
              "      <td>9</td>\n",
              "      <td>2452</td>\n",
              "      <td>-77</td>\n",
              "      <td>936</td>\n",
              "      <td>192</td>\n",
              "      <td>0x00004000</td>\n",
              "      <td>0x00000000</td>\n",
              "      <td>False</td>\n",
              "      <td>0</td>\n",
              "      <td>3920</td>\n",
              "      <td>ROJA WALLID</td>\n",
              "    </tr>\n",
              "    <tr>\n",
              "      <th>8</th>\n",
              "      <td>1622831621.074082881</td>\n",
              "      <td>0.695290480</td>\n",
              "      <td>1.432089503</td>\n",
              "      <td>9</td>\n",
              "      <td>78</td>\n",
              "      <td>78</td>\n",
              "      <td>1</td>\n",
              "      <td>2437</td>\n",
              "      <td>0x000000a0</td>\n",
              "      <td>True</td>\n",
              "      <td>False</td>\n",
              "      <td>4</td>\n",
              "      <td>1</td>\n",
              "      <td>6</td>\n",
              "      <td>2437</td>\n",
              "      <td>-75</td>\n",
              "      <td>624</td>\n",
              "      <td>192</td>\n",
              "      <td>0x00004000</td>\n",
              "      <td>0x00000000</td>\n",
              "      <td>False</td>\n",
              "      <td>0</td>\n",
              "      <td>2066</td>\n",
              "      <td></td>\n",
              "    </tr>\n",
              "    <tr>\n",
              "      <th>14</th>\n",
              "      <td>1622831625.361382347</td>\n",
              "      <td>0.044205010</td>\n",
              "      <td>5.719388969</td>\n",
              "      <td>15</td>\n",
              "      <td>106</td>\n",
              "      <td>106</td>\n",
              "      <td>1</td>\n",
              "      <td>2412</td>\n",
              "      <td>0x000000a0</td>\n",
              "      <td>True</td>\n",
              "      <td>False</td>\n",
              "      <td>4</td>\n",
              "      <td>1</td>\n",
              "      <td>1</td>\n",
              "      <td>2412</td>\n",
              "      <td>-69</td>\n",
              "      <td>848</td>\n",
              "      <td>192</td>\n",
              "      <td>0x00004000</td>\n",
              "      <td>0x00000000</td>\n",
              "      <td>False</td>\n",
              "      <td>0</td>\n",
              "      <td>3935</td>\n",
              "      <td></td>\n",
              "    </tr>\n",
              "  </tbody>\n",
              "</table>\n",
              "</div>"
            ],
            "text/plain": [
              "   frame.frame_frame_time_epoch  ... wlan_wlan_mgt.wlan_wlan_ssid\n",
              "0          1622831619.641993378  ...                        kenzY\n",
              "1          1622831619.670048342  ...                        KenzY\n",
              "2          1622831619.672104797  ...                  ROJA WALLID\n",
              "8          1622831621.074082881  ...                             \n",
              "14         1622831625.361382347  ...                             \n",
              "\n",
              "[5 rows x 24 columns]"
            ]
          },
          "metadata": {
            "tags": []
          },
          "execution_count": 36
        }
      ]
    },
    {
      "cell_type": "code",
      "metadata": {
        "id": "AbRn3iBeB5RE"
      },
      "source": [
        "# cat_cols = [x for x in df_x.columns.tolist() if x not in (bool_cols + other_cols)]\n",
        "df_x.drop('wlan_wlan_mgt.wlan_wlan_ssid', axis=1, inplace=True)\n",
        "cat_cols = ['radiotap.radiotap_radiotap_channel_flags', 'wlan.wlan_wlan_fc', 'wlan.wlan_wlan_flags'] # 'wlan_wlan_mgt.wlan_wlan_ssid'"
      ],
      "execution_count": 103,
      "outputs": []
    },
    {
      "cell_type": "code",
      "metadata": {
        "id": "5rOixWmgDH8O"
      },
      "source": [
        "# cat_cols = [c for c in df_x.columns if c not in numeric_columns] # 'layers.frame.frame.protocols'\n",
        "# cat_cols = ['layers.radiotap.radiotap.channel.flags', 'layers.wlan.wlan.fc', 'layers.wlan.wlan.fc_tree.wlan.flags']"
      ],
      "execution_count": 38,
      "outputs": []
    },
    {
      "cell_type": "code",
      "metadata": {
        "colab": {
          "base_uri": "https://localhost:8080/",
          "height": 225
        },
        "id": "W9sSG7us_CP2",
        "outputId": "9fda2e8f-86d7-41a1-f0eb-9d953c3c9d9f"
      },
      "source": [
        "df_x.head()"
      ],
      "execution_count": 104,
      "outputs": [
        {
          "output_type": "execute_result",
          "data": {
            "text/html": [
              "<div>\n",
              "<style scoped>\n",
              "    .dataframe tbody tr th:only-of-type {\n",
              "        vertical-align: middle;\n",
              "    }\n",
              "\n",
              "    .dataframe tbody tr th {\n",
              "        vertical-align: top;\n",
              "    }\n",
              "\n",
              "    .dataframe thead th {\n",
              "        text-align: right;\n",
              "    }\n",
              "</style>\n",
              "<table border=\"1\" class=\"dataframe\">\n",
              "  <thead>\n",
              "    <tr style=\"text-align: right;\">\n",
              "      <th></th>\n",
              "      <th>frame.frame_frame_time_epoch</th>\n",
              "      <th>frame.frame_frame_time_delta</th>\n",
              "      <th>frame.frame_frame_time_relative</th>\n",
              "      <th>frame.frame_frame_number</th>\n",
              "      <th>frame.frame_frame_len</th>\n",
              "      <th>frame.frame_frame_cap_len</th>\n",
              "      <th>radiotap.radiotap_radiotap_datarate</th>\n",
              "      <th>radiotap.radiotap_radiotap_channel_freq</th>\n",
              "      <th>radiotap.radiotap_radiotap_channel_flags</th>\n",
              "      <th>radiotap.radiotap_radiotap_channel_flags_cck</th>\n",
              "      <th>radiotap.radiotap_radiotap_channel_flags_ofdm</th>\n",
              "      <th>wlan_radio.wlan_radio_wlan_radio_phy</th>\n",
              "      <th>wlan_radio.wlan_radio_wlan_radio_data_rate</th>\n",
              "      <th>wlan_radio.wlan_radio_wlan_radio_channel</th>\n",
              "      <th>wlan_radio.wlan_radio_wlan_radio_frequency</th>\n",
              "      <th>wlan_radio.wlan_radio_wlan_radio_signal_dbm</th>\n",
              "      <th>wlan_radio.wlan_radio_wlan_radio_duration</th>\n",
              "      <th>wlan_radio.wlan_radio_wlan_radio_preamble</th>\n",
              "      <th>wlan.wlan_wlan_fc</th>\n",
              "      <th>wlan.wlan_wlan_flags</th>\n",
              "      <th>wlan.wlan_wlan_fc_retry</th>\n",
              "      <th>wlan.wlan_wlan_duration</th>\n",
              "      <th>wlan.wlan_wlan_seq</th>\n",
              "    </tr>\n",
              "  </thead>\n",
              "  <tbody>\n",
              "    <tr>\n",
              "      <th>0</th>\n",
              "      <td>1622831619.641993378</td>\n",
              "      <td>0.000000000</td>\n",
              "      <td>0.000000000</td>\n",
              "      <td>1</td>\n",
              "      <td>111</td>\n",
              "      <td>111</td>\n",
              "      <td>1</td>\n",
              "      <td>2452</td>\n",
              "      <td>0x000000a0</td>\n",
              "      <td>True</td>\n",
              "      <td>False</td>\n",
              "      <td>4</td>\n",
              "      <td>1</td>\n",
              "      <td>9</td>\n",
              "      <td>2452</td>\n",
              "      <td>-77</td>\n",
              "      <td>888</td>\n",
              "      <td>192</td>\n",
              "      <td>0x00004000</td>\n",
              "      <td>0x00000000</td>\n",
              "      <td>False</td>\n",
              "      <td>0</td>\n",
              "      <td>3914</td>\n",
              "    </tr>\n",
              "    <tr>\n",
              "      <th>1</th>\n",
              "      <td>1622831619.670048342</td>\n",
              "      <td>0.028054964</td>\n",
              "      <td>0.028054964</td>\n",
              "      <td>2</td>\n",
              "      <td>111</td>\n",
              "      <td>111</td>\n",
              "      <td>1</td>\n",
              "      <td>2452</td>\n",
              "      <td>0x000000a0</td>\n",
              "      <td>True</td>\n",
              "      <td>False</td>\n",
              "      <td>4</td>\n",
              "      <td>1</td>\n",
              "      <td>9</td>\n",
              "      <td>2452</td>\n",
              "      <td>-79</td>\n",
              "      <td>888</td>\n",
              "      <td>192</td>\n",
              "      <td>0x00004000</td>\n",
              "      <td>0x00000000</td>\n",
              "      <td>False</td>\n",
              "      <td>0</td>\n",
              "      <td>3918</td>\n",
              "    </tr>\n",
              "    <tr>\n",
              "      <th>2</th>\n",
              "      <td>1622831619.672104797</td>\n",
              "      <td>0.002056455</td>\n",
              "      <td>0.030111419</td>\n",
              "      <td>3</td>\n",
              "      <td>117</td>\n",
              "      <td>117</td>\n",
              "      <td>1</td>\n",
              "      <td>2452</td>\n",
              "      <td>0x000000a0</td>\n",
              "      <td>True</td>\n",
              "      <td>False</td>\n",
              "      <td>4</td>\n",
              "      <td>1</td>\n",
              "      <td>9</td>\n",
              "      <td>2452</td>\n",
              "      <td>-77</td>\n",
              "      <td>936</td>\n",
              "      <td>192</td>\n",
              "      <td>0x00004000</td>\n",
              "      <td>0x00000000</td>\n",
              "      <td>False</td>\n",
              "      <td>0</td>\n",
              "      <td>3920</td>\n",
              "    </tr>\n",
              "    <tr>\n",
              "      <th>8</th>\n",
              "      <td>1622831621.074082881</td>\n",
              "      <td>0.695290480</td>\n",
              "      <td>1.432089503</td>\n",
              "      <td>9</td>\n",
              "      <td>78</td>\n",
              "      <td>78</td>\n",
              "      <td>1</td>\n",
              "      <td>2437</td>\n",
              "      <td>0x000000a0</td>\n",
              "      <td>True</td>\n",
              "      <td>False</td>\n",
              "      <td>4</td>\n",
              "      <td>1</td>\n",
              "      <td>6</td>\n",
              "      <td>2437</td>\n",
              "      <td>-75</td>\n",
              "      <td>624</td>\n",
              "      <td>192</td>\n",
              "      <td>0x00004000</td>\n",
              "      <td>0x00000000</td>\n",
              "      <td>False</td>\n",
              "      <td>0</td>\n",
              "      <td>2066</td>\n",
              "    </tr>\n",
              "    <tr>\n",
              "      <th>14</th>\n",
              "      <td>1622831625.361382347</td>\n",
              "      <td>0.044205010</td>\n",
              "      <td>5.719388969</td>\n",
              "      <td>15</td>\n",
              "      <td>106</td>\n",
              "      <td>106</td>\n",
              "      <td>1</td>\n",
              "      <td>2412</td>\n",
              "      <td>0x000000a0</td>\n",
              "      <td>True</td>\n",
              "      <td>False</td>\n",
              "      <td>4</td>\n",
              "      <td>1</td>\n",
              "      <td>1</td>\n",
              "      <td>2412</td>\n",
              "      <td>-69</td>\n",
              "      <td>848</td>\n",
              "      <td>192</td>\n",
              "      <td>0x00004000</td>\n",
              "      <td>0x00000000</td>\n",
              "      <td>False</td>\n",
              "      <td>0</td>\n",
              "      <td>3935</td>\n",
              "    </tr>\n",
              "  </tbody>\n",
              "</table>\n",
              "</div>"
            ],
            "text/plain": [
              "   frame.frame_frame_time_epoch  ... wlan.wlan_wlan_seq\n",
              "0          1622831619.641993378  ...               3914\n",
              "1          1622831619.670048342  ...               3918\n",
              "2          1622831619.672104797  ...               3920\n",
              "8          1622831621.074082881  ...               2066\n",
              "14         1622831625.361382347  ...               3935\n",
              "\n",
              "[5 rows x 23 columns]"
            ]
          },
          "metadata": {
            "tags": []
          },
          "execution_count": 104
        }
      ]
    },
    {
      "cell_type": "code",
      "metadata": {
        "colab": {
          "base_uri": "https://localhost:8080/"
        },
        "id": "O7GHmSVzy1Nb",
        "outputId": "29e79b14-1ba0-49b0-d128-db6fa417e8e2"
      },
      "source": [
        "df_x.info()"
      ],
      "execution_count": 105,
      "outputs": [
        {
          "output_type": "stream",
          "text": [
            "<class 'pandas.core.frame.DataFrame'>\n",
            "Int64Index: 5959 entries, 0 to 14157\n",
            "Data columns (total 23 columns):\n",
            " #   Column                                         Non-Null Count  Dtype \n",
            "---  ------                                         --------------  ----- \n",
            " 0   frame.frame_frame_time_epoch                   5959 non-null   object\n",
            " 1   frame.frame_frame_time_delta                   5959 non-null   object\n",
            " 2   frame.frame_frame_time_relative                5959 non-null   object\n",
            " 3   frame.frame_frame_number                       5959 non-null   object\n",
            " 4   frame.frame_frame_len                          5959 non-null   object\n",
            " 5   frame.frame_frame_cap_len                      5959 non-null   object\n",
            " 6   radiotap.radiotap_radiotap_datarate            5959 non-null   object\n",
            " 7   radiotap.radiotap_radiotap_channel_freq        5959 non-null   object\n",
            " 8   radiotap.radiotap_radiotap_channel_flags       5959 non-null   object\n",
            " 9   radiotap.radiotap_radiotap_channel_flags_cck   5959 non-null   bool  \n",
            " 10  radiotap.radiotap_radiotap_channel_flags_ofdm  5959 non-null   bool  \n",
            " 11  wlan_radio.wlan_radio_wlan_radio_phy           5959 non-null   object\n",
            " 12  wlan_radio.wlan_radio_wlan_radio_data_rate     5959 non-null   object\n",
            " 13  wlan_radio.wlan_radio_wlan_radio_channel       5959 non-null   object\n",
            " 14  wlan_radio.wlan_radio_wlan_radio_frequency     5959 non-null   object\n",
            " 15  wlan_radio.wlan_radio_wlan_radio_signal_dbm    5959 non-null   object\n",
            " 16  wlan_radio.wlan_radio_wlan_radio_duration      5959 non-null   object\n",
            " 17  wlan_radio.wlan_radio_wlan_radio_preamble      5959 non-null   object\n",
            " 18  wlan.wlan_wlan_fc                              5959 non-null   object\n",
            " 19  wlan.wlan_wlan_flags                           5959 non-null   object\n",
            " 20  wlan.wlan_wlan_fc_retry                        5959 non-null   bool  \n",
            " 21  wlan.wlan_wlan_duration                        5959 non-null   object\n",
            " 22  wlan.wlan_wlan_seq                             5959 non-null   object\n",
            "dtypes: bool(3), object(20)\n",
            "memory usage: 1.1+ MB\n"
          ],
          "name": "stdout"
        }
      ]
    },
    {
      "cell_type": "code",
      "metadata": {
        "id": "pAI4VuMbpDav"
      },
      "source": [
        "for c in cat_cols:\n",
        "     col_dummy = pd.get_dummies(df_x[c], prefix=c)\n",
        "     df_x = df_x.drop(c, axis=1)\n",
        "     df_x = pd.concat((df_x, col_dummy), axis=1)"
      ],
      "execution_count": 106,
      "outputs": []
    },
    {
      "cell_type": "code",
      "metadata": {
        "colab": {
          "base_uri": "https://localhost:8080/",
          "height": 225
        },
        "id": "Z5t8UCQbtwzA",
        "outputId": "c9809ed4-f807-43d0-b0fd-1066e1757763"
      },
      "source": [
        "df_x.head()"
      ],
      "execution_count": 107,
      "outputs": [
        {
          "output_type": "execute_result",
          "data": {
            "text/html": [
              "<div>\n",
              "<style scoped>\n",
              "    .dataframe tbody tr th:only-of-type {\n",
              "        vertical-align: middle;\n",
              "    }\n",
              "\n",
              "    .dataframe tbody tr th {\n",
              "        vertical-align: top;\n",
              "    }\n",
              "\n",
              "    .dataframe thead th {\n",
              "        text-align: right;\n",
              "    }\n",
              "</style>\n",
              "<table border=\"1\" class=\"dataframe\">\n",
              "  <thead>\n",
              "    <tr style=\"text-align: right;\">\n",
              "      <th></th>\n",
              "      <th>frame.frame_frame_time_epoch</th>\n",
              "      <th>frame.frame_frame_time_delta</th>\n",
              "      <th>frame.frame_frame_time_relative</th>\n",
              "      <th>frame.frame_frame_number</th>\n",
              "      <th>frame.frame_frame_len</th>\n",
              "      <th>frame.frame_frame_cap_len</th>\n",
              "      <th>radiotap.radiotap_radiotap_datarate</th>\n",
              "      <th>radiotap.radiotap_radiotap_channel_freq</th>\n",
              "      <th>radiotap.radiotap_radiotap_channel_flags_cck</th>\n",
              "      <th>radiotap.radiotap_radiotap_channel_flags_ofdm</th>\n",
              "      <th>wlan_radio.wlan_radio_wlan_radio_phy</th>\n",
              "      <th>wlan_radio.wlan_radio_wlan_radio_data_rate</th>\n",
              "      <th>wlan_radio.wlan_radio_wlan_radio_channel</th>\n",
              "      <th>wlan_radio.wlan_radio_wlan_radio_frequency</th>\n",
              "      <th>wlan_radio.wlan_radio_wlan_radio_signal_dbm</th>\n",
              "      <th>wlan_radio.wlan_radio_wlan_radio_duration</th>\n",
              "      <th>wlan_radio.wlan_radio_wlan_radio_preamble</th>\n",
              "      <th>wlan.wlan_wlan_fc_retry</th>\n",
              "      <th>wlan.wlan_wlan_duration</th>\n",
              "      <th>wlan.wlan_wlan_seq</th>\n",
              "      <th>radiotap.radiotap_radiotap_channel_flags_0x000000a0</th>\n",
              "      <th>radiotap.radiotap_radiotap_channel_flags_0x000000c0</th>\n",
              "      <th>wlan.wlan_wlan_fc_0x00004000</th>\n",
              "      <th>wlan.wlan_wlan_fc_0x00004008</th>\n",
              "      <th>wlan.wlan_wlan_flags_0x00000000</th>\n",
              "      <th>wlan.wlan_wlan_flags_0x00000008</th>\n",
              "    </tr>\n",
              "  </thead>\n",
              "  <tbody>\n",
              "    <tr>\n",
              "      <th>0</th>\n",
              "      <td>1622831619.641993378</td>\n",
              "      <td>0.000000000</td>\n",
              "      <td>0.000000000</td>\n",
              "      <td>1</td>\n",
              "      <td>111</td>\n",
              "      <td>111</td>\n",
              "      <td>1</td>\n",
              "      <td>2452</td>\n",
              "      <td>True</td>\n",
              "      <td>False</td>\n",
              "      <td>4</td>\n",
              "      <td>1</td>\n",
              "      <td>9</td>\n",
              "      <td>2452</td>\n",
              "      <td>-77</td>\n",
              "      <td>888</td>\n",
              "      <td>192</td>\n",
              "      <td>False</td>\n",
              "      <td>0</td>\n",
              "      <td>3914</td>\n",
              "      <td>1</td>\n",
              "      <td>0</td>\n",
              "      <td>1</td>\n",
              "      <td>0</td>\n",
              "      <td>1</td>\n",
              "      <td>0</td>\n",
              "    </tr>\n",
              "    <tr>\n",
              "      <th>1</th>\n",
              "      <td>1622831619.670048342</td>\n",
              "      <td>0.028054964</td>\n",
              "      <td>0.028054964</td>\n",
              "      <td>2</td>\n",
              "      <td>111</td>\n",
              "      <td>111</td>\n",
              "      <td>1</td>\n",
              "      <td>2452</td>\n",
              "      <td>True</td>\n",
              "      <td>False</td>\n",
              "      <td>4</td>\n",
              "      <td>1</td>\n",
              "      <td>9</td>\n",
              "      <td>2452</td>\n",
              "      <td>-79</td>\n",
              "      <td>888</td>\n",
              "      <td>192</td>\n",
              "      <td>False</td>\n",
              "      <td>0</td>\n",
              "      <td>3918</td>\n",
              "      <td>1</td>\n",
              "      <td>0</td>\n",
              "      <td>1</td>\n",
              "      <td>0</td>\n",
              "      <td>1</td>\n",
              "      <td>0</td>\n",
              "    </tr>\n",
              "    <tr>\n",
              "      <th>2</th>\n",
              "      <td>1622831619.672104797</td>\n",
              "      <td>0.002056455</td>\n",
              "      <td>0.030111419</td>\n",
              "      <td>3</td>\n",
              "      <td>117</td>\n",
              "      <td>117</td>\n",
              "      <td>1</td>\n",
              "      <td>2452</td>\n",
              "      <td>True</td>\n",
              "      <td>False</td>\n",
              "      <td>4</td>\n",
              "      <td>1</td>\n",
              "      <td>9</td>\n",
              "      <td>2452</td>\n",
              "      <td>-77</td>\n",
              "      <td>936</td>\n",
              "      <td>192</td>\n",
              "      <td>False</td>\n",
              "      <td>0</td>\n",
              "      <td>3920</td>\n",
              "      <td>1</td>\n",
              "      <td>0</td>\n",
              "      <td>1</td>\n",
              "      <td>0</td>\n",
              "      <td>1</td>\n",
              "      <td>0</td>\n",
              "    </tr>\n",
              "    <tr>\n",
              "      <th>8</th>\n",
              "      <td>1622831621.074082881</td>\n",
              "      <td>0.695290480</td>\n",
              "      <td>1.432089503</td>\n",
              "      <td>9</td>\n",
              "      <td>78</td>\n",
              "      <td>78</td>\n",
              "      <td>1</td>\n",
              "      <td>2437</td>\n",
              "      <td>True</td>\n",
              "      <td>False</td>\n",
              "      <td>4</td>\n",
              "      <td>1</td>\n",
              "      <td>6</td>\n",
              "      <td>2437</td>\n",
              "      <td>-75</td>\n",
              "      <td>624</td>\n",
              "      <td>192</td>\n",
              "      <td>False</td>\n",
              "      <td>0</td>\n",
              "      <td>2066</td>\n",
              "      <td>1</td>\n",
              "      <td>0</td>\n",
              "      <td>1</td>\n",
              "      <td>0</td>\n",
              "      <td>1</td>\n",
              "      <td>0</td>\n",
              "    </tr>\n",
              "    <tr>\n",
              "      <th>14</th>\n",
              "      <td>1622831625.361382347</td>\n",
              "      <td>0.044205010</td>\n",
              "      <td>5.719388969</td>\n",
              "      <td>15</td>\n",
              "      <td>106</td>\n",
              "      <td>106</td>\n",
              "      <td>1</td>\n",
              "      <td>2412</td>\n",
              "      <td>True</td>\n",
              "      <td>False</td>\n",
              "      <td>4</td>\n",
              "      <td>1</td>\n",
              "      <td>1</td>\n",
              "      <td>2412</td>\n",
              "      <td>-69</td>\n",
              "      <td>848</td>\n",
              "      <td>192</td>\n",
              "      <td>False</td>\n",
              "      <td>0</td>\n",
              "      <td>3935</td>\n",
              "      <td>1</td>\n",
              "      <td>0</td>\n",
              "      <td>1</td>\n",
              "      <td>0</td>\n",
              "      <td>1</td>\n",
              "      <td>0</td>\n",
              "    </tr>\n",
              "  </tbody>\n",
              "</table>\n",
              "</div>"
            ],
            "text/plain": [
              "   frame.frame_frame_time_epoch  ... wlan.wlan_wlan_flags_0x00000008\n",
              "0          1622831619.641993378  ...                               0\n",
              "1          1622831619.670048342  ...                               0\n",
              "2          1622831619.672104797  ...                               0\n",
              "8          1622831621.074082881  ...                               0\n",
              "14         1622831625.361382347  ...                               0\n",
              "\n",
              "[5 rows x 26 columns]"
            ]
          },
          "metadata": {
            "tags": []
          },
          "execution_count": 107
        }
      ]
    },
    {
      "cell_type": "code",
      "metadata": {
        "id": "ue-CxKtbGpEM"
      },
      "source": [
        "for c in df_x.columns:\n",
        "  df_x[c] = df_x[c].astype(float)"
      ],
      "execution_count": 108,
      "outputs": []
    },
    {
      "cell_type": "code",
      "metadata": {
        "id": "fwaMNXDVrRz6"
      },
      "source": [
        "df = df_x[df_y['fake'] == False]\n",
        "df_labels = df_y[df_y['fake'] == False].iloc[:, 0]"
      ],
      "execution_count": 109,
      "outputs": []
    },
    {
      "cell_type": "code",
      "metadata": {
        "id": "yKQEuANtBOtb"
      },
      "source": [
        "data = df.to_numpy()\n",
        "labels = df_labels.to_numpy()"
      ],
      "execution_count": 110,
      "outputs": []
    },
    {
      "cell_type": "code",
      "metadata": {
        "id": "xvcOL4Qi0lzb"
      },
      "source": [
        "X_train_validation, X_test, y_train_validation, y_test = train_test_split(data, labels, test_size=0.1, random_state=1)\n",
        "X_train, X_val, y_train, y_val = train_test_split(X_train_validation, y_train_validation, test_size=0.2, random_state=1)\n"
      ],
      "execution_count": 111,
      "outputs": []
    },
    {
      "cell_type": "markdown",
      "metadata": {
        "id": "KQJklCIGCkQM"
      },
      "source": [
        "# Data\n",
        "X_train, y_train for training (70% of data) <br>\n",
        "X-val, y_val for validation (20% of data) <br>\n",
        "X_test, y_test for testing (10% of data) <br>"
      ]
    },
    {
      "cell_type": "code",
      "metadata": {
        "id": "wzWK2anL0l59"
      },
      "source": [
        "xgb_1 = XGBClassifier(max_depth=8, learning_rate=0.3, n_estimators=25,\n",
        "                    objective='multi:softprob', subsample=0.5, colsample_bytree=0.5, seed=0, \n",
        "                    use_label_encoder=True, eval_metric='logloss')"
      ],
      "execution_count": 112,
      "outputs": []
    },
    {
      "cell_type": "code",
      "metadata": {
        "id": "No8sbSp50l8L"
      },
      "source": [
        "y_val_pred = xgb_1.fit(X_train, y_train).predict(X_val)\n"
      ],
      "execution_count": 113,
      "outputs": []
    },
    {
      "cell_type": "code",
      "metadata": {
        "id": "Ym4n03rfFohC",
        "colab": {
          "base_uri": "https://localhost:8080/"
        },
        "outputId": "12d58bda-0910-425f-9daf-0b7a7171e4ef"
      },
      "source": [
        "print(\"Number of mislabeled points out of a total %d points : %d\"% (X_val.shape[0], (y_val != y_val_pred).sum()))"
      ],
      "execution_count": 114,
      "outputs": [
        {
          "output_type": "stream",
          "text": [
            "Number of mislabeled points out of a total 1073 points : 99\n"
          ],
          "name": "stdout"
        }
      ]
    },
    {
      "cell_type": "code",
      "metadata": {
        "id": "EsH2jgH80l-v",
        "colab": {
          "base_uri": "https://localhost:8080/"
        },
        "outputId": "8a52056c-5acf-4044-bb66-5e612943cafd"
      },
      "source": [
        "print(f\"Classifier Report : \\n\\n {classification_report(y_val, y_val_pred)}\") #not all classes are (well) represented in test set."
      ],
      "execution_count": 115,
      "outputs": [
        {
          "output_type": "stream",
          "text": [
            "Classifier Report : \n",
            "\n",
            "                    precision    recall  f1-score   support\n",
            "\n",
            "0c:2c:54:7e:c9:3d       0.80      0.94      0.86        17\n",
            "0c:b3:19:5c:00:47       0.87      0.93      0.90        28\n",
            "14:5f:94:fc:7e:97       1.00      0.83      0.91         6\n",
            "18:19:d6:7f:8f:6c       1.00      0.70      0.82        10\n",
            "1c:02:19:00:ac:af       0.90      0.90      0.90        10\n",
            "20:2d:07:6f:b4:30       0.90      1.00      0.95        18\n",
            "20:f4:78:63:64:aa       1.00      0.82      0.90        11\n",
            "28:16:7f:20:3a:c1       1.00      0.80      0.89        10\n",
            "30:84:54:f1:b9:5f       1.00      0.64      0.78        14\n",
            "44:01:bb:4c:e5:3d       0.92      0.90      0.91        86\n",
            "44:66:fc:2c:c3:05       0.92      0.88      0.90        26\n",
            "44:66:fc:ba:b4:4d       1.00      0.94      0.97        18\n",
            "48:88:ca:c8:81:44       1.00      1.00      1.00        20\n",
            "50:3c:ea:78:e5:81       0.62      0.81      0.70        32\n",
            "5c:66:6c:df:2f:b7       0.87      1.00      0.93        13\n",
            "68:e7:c2:f8:0d:f1       0.95      0.95      0.95        19\n",
            "78:36:cc:3e:f0:13       0.97      0.90      0.93        31\n",
            "7c:23:02:33:98:f8       0.97      0.92      0.94        36\n",
            "7c:2a:db:8f:05:e1       0.93      0.72      0.81        18\n",
            "80:ce:b9:28:b1:50       0.87      0.96      0.91        50\n",
            "84:38:38:84:a6:66       1.00      0.94      0.97        16\n",
            "84:6f:ce:ef:5b:37       1.00      0.57      0.73        14\n",
            "90:cc:df:d9:60:ac       0.77      0.95      0.85        21\n",
            "94:0e:6b:10:23:d4       1.00      1.00      1.00        23\n",
            "98:0c:a5:01:a9:93       1.00      1.00      1.00        12\n",
            "98:dd:ea:d1:76:53       1.00      1.00      1.00        10\n",
            "a0:8d:16:f4:83:14       1.00      1.00      1.00        15\n",
            "a0:cb:fd:b0:81:92       1.00      1.00      1.00        14\n",
            "a4:45:19:f7:13:b3       0.73      0.73      0.73        15\n",
            "a4:71:74:d9:e9:68       1.00      0.92      0.96        13\n",
            "a8:96:75:9d:69:90       0.74      0.71      0.72        24\n",
            "b8:94:36:db:98:b3       0.88      1.00      0.93         7\n",
            "bc:75:74:b5:fa:54       0.90      1.00      0.95         9\n",
            "c0:17:4d:ac:2a:29       0.92      1.00      0.96        11\n",
            "c0:f4:e6:67:25:b0       0.95      0.95      0.95        22\n",
            "c8:f2:30:33:6c:b9       1.00      0.95      0.98        21\n",
            "d0:7f:a0:b2:86:c7       0.91      0.91      0.91        11\n",
            "d0:7f:a0:c1:d5:f9       1.00      0.91      0.95        11\n",
            "d4:e6:b7:f2:fd:bd       0.88      0.91      0.90        33\n",
            "dc:b7:2e:07:db:d6       0.82      1.00      0.90         9\n",
            "dc:b7:2e:18:22:d4       1.00      1.00      1.00         9\n",
            "dc:f7:56:29:50:86       0.94      1.00      0.97        32\n",
            "e8:5a:8b:a7:c6:e5       0.91      1.00      0.95        20\n",
            "ec:51:bc:25:63:0d       0.94      0.94      0.94        16\n",
            "ec:51:bc:25:bf:33       0.89      0.62      0.73        13\n",
            "ec:51:bc:25:fe:a5       0.83      0.50      0.62        10\n",
            "ec:f3:42:e4:c8:1f       1.00      0.92      0.96        24\n",
            "f0:79:e8:bc:0b:53       0.84      0.88      0.86        24\n",
            "f0:79:e8:cb:e4:12       0.84      0.94      0.89        17\n",
            "f4:09:d8:16:ab:12       0.89      1.00      0.94         8\n",
            "f4:9f:f3:f5:f7:f1       0.93      0.96      0.94       116\n",
            "\n",
            "         accuracy                           0.91      1073\n",
            "        macro avg       0.92      0.90      0.90      1073\n",
            "     weighted avg       0.91      0.91      0.91      1073\n",
            "\n"
          ],
          "name": "stdout"
        }
      ]
    },
    {
      "cell_type": "code",
      "metadata": {
        "id": "VEh8shKm0mA-"
      },
      "source": [
        "importance = (xgb_1.feature_importances_)"
      ],
      "execution_count": 116,
      "outputs": []
    },
    {
      "cell_type": "code",
      "metadata": {
        "id": "xWHJIkNkHWtg"
      },
      "source": [
        "important_features = (df_x.columns[list(np.argsort(importance))[::-1]]).tolist()\n"
      ],
      "execution_count": 117,
      "outputs": []
    },
    {
      "cell_type": "code",
      "metadata": {
        "colab": {
          "base_uri": "https://localhost:8080/"
        },
        "id": "X2HOsvmIzjWG",
        "outputId": "c4b4caf5-c0a2-47d6-fc6a-8e2334812825"
      },
      "source": [
        "important_features[:6]"
      ],
      "execution_count": 132,
      "outputs": [
        {
          "output_type": "execute_result",
          "data": {
            "text/plain": [
              "['wlan_radio.wlan_radio_wlan_radio_data_rate',\n",
              " 'frame.frame_frame_cap_len',\n",
              " 'frame.frame_frame_len',\n",
              " 'wlan_radio.wlan_radio_wlan_radio_duration',\n",
              " 'frame.frame_frame_time_relative',\n",
              " 'frame.frame_frame_time_epoch']"
            ]
          },
          "metadata": {
            "tags": []
          },
          "execution_count": 132
        }
      ]
    },
    {
      "cell_type": "code",
      "metadata": {
        "colab": {
          "base_uri": "https://localhost:8080/"
        },
        "id": "e4wLuWVSy7_m",
        "outputId": "3831a51d-750d-4343-f8b6-2fe8a69b1fd7"
      },
      "source": [
        "importance_scores = list(np.sort(importance))[::-1]\n",
        "importance_scores"
      ],
      "execution_count": 135,
      "outputs": [
        {
          "output_type": "execute_result",
          "data": {
            "text/plain": [
              "[0.24621809,\n",
              " 0.22954626,\n",
              " 0.120554715,\n",
              " 0.09202601,\n",
              " 0.050928164,\n",
              " 0.04612419,\n",
              " 0.042903196,\n",
              " 0.038728572,\n",
              " 0.034067668,\n",
              " 0.027750093,\n",
              " 0.025527602,\n",
              " 0.015746847,\n",
              " 0.013451807,\n",
              " 0.012748384,\n",
              " 0.0036783381,\n",
              " 0.0,\n",
              " 0.0,\n",
              " 0.0,\n",
              " 0.0,\n",
              " 0.0,\n",
              " 0.0,\n",
              " 0.0,\n",
              " 0.0,\n",
              " 0.0,\n",
              " 0.0,\n",
              " 0.0]"
            ]
          },
          "metadata": {
            "tags": []
          },
          "execution_count": 135
        }
      ]
    },
    {
      "cell_type": "code",
      "metadata": {
        "id": "op6_YlJCrLO0"
      },
      "source": [
        "filtered_features = [x for x in important_features if 'wlan_wlan_mgt.wlan_wlan_ssid' not in x]"
      ],
      "execution_count": 120,
      "outputs": []
    },
    {
      "cell_type": "code",
      "metadata": {
        "colab": {
          "base_uri": "https://localhost:8080/"
        },
        "id": "-E3eHucArv85",
        "outputId": "817f2fc7-8f61-41e4-fda7-835066ae3b8a"
      },
      "source": [
        "filtered_features"
      ],
      "execution_count": 121,
      "outputs": [
        {
          "output_type": "execute_result",
          "data": {
            "text/plain": [
              "['wlan_radio.wlan_radio_wlan_radio_data_rate',\n",
              " 'frame.frame_frame_cap_len',\n",
              " 'frame.frame_frame_len',\n",
              " 'wlan_radio.wlan_radio_wlan_radio_duration',\n",
              " 'frame.frame_frame_time_relative',\n",
              " 'frame.frame_frame_time_epoch',\n",
              " 'radiotap.radiotap_radiotap_datarate',\n",
              " 'frame.frame_frame_number',\n",
              " 'wlan_radio.wlan_radio_wlan_radio_signal_dbm',\n",
              " 'wlan.wlan_wlan_seq',\n",
              " 'radiotap.radiotap_radiotap_channel_freq',\n",
              " 'frame.frame_frame_time_delta',\n",
              " 'wlan_radio.wlan_radio_wlan_radio_channel',\n",
              " 'wlan_radio.wlan_radio_wlan_radio_frequency',\n",
              " 'radiotap.radiotap_radiotap_channel_flags_cck',\n",
              " 'wlan.wlan_wlan_flags_0x00000000',\n",
              " 'wlan_radio.wlan_radio_wlan_radio_phy',\n",
              " 'radiotap.radiotap_radiotap_channel_flags_ofdm',\n",
              " 'wlan_radio.wlan_radio_wlan_radio_preamble',\n",
              " 'wlan.wlan_wlan_fc_retry',\n",
              " 'wlan.wlan_wlan_duration',\n",
              " 'radiotap.radiotap_radiotap_channel_flags_0x000000a0',\n",
              " 'radiotap.radiotap_radiotap_channel_flags_0x000000c0',\n",
              " 'wlan.wlan_wlan_fc_0x00004000',\n",
              " 'wlan.wlan_wlan_fc_0x00004008',\n",
              " 'wlan.wlan_wlan_flags_0x00000008']"
            ]
          },
          "metadata": {
            "tags": []
          },
          "execution_count": 121
        }
      ]
    },
    {
      "cell_type": "code",
      "metadata": {
        "id": "mwjDPvNJx5Gs"
      },
      "source": [
        "l = ['wlan_wlan_mgt.wlan_wlan_ssid'] + (filtered_features[:5])"
      ],
      "execution_count": 122,
      "outputs": []
    },
    {
      "cell_type": "code",
      "metadata": {
        "colab": {
          "base_uri": "https://localhost:8080/"
        },
        "id": "ROJA3yr2yJoQ",
        "outputId": "bac52e04-d730-4769-9c06-079506e25e91"
      },
      "source": [
        "print(l)"
      ],
      "execution_count": 123,
      "outputs": [
        {
          "output_type": "stream",
          "text": [
            "['wlan_wlan_mgt.wlan_wlan_ssid', 'wlan_radio.wlan_radio_wlan_radio_data_rate', 'frame.frame_frame_cap_len', 'frame.frame_frame_len', 'wlan_radio.wlan_radio_wlan_radio_duration', 'frame.frame_frame_time_relative']\n"
          ],
          "name": "stdout"
        }
      ]
    },
    {
      "cell_type": "code",
      "metadata": {
        "colab": {
          "base_uri": "https://localhost:8080/"
        },
        "id": "oqN2ncmyyY_A",
        "outputId": "f565304e-62d6-451d-eebd-efe0571b3ed9"
      },
      "source": [
        "importance"
      ],
      "execution_count": 124,
      "outputs": [
        {
          "output_type": "execute_result",
          "data": {
            "text/plain": [
              "array([0.04612419, 0.01574685, 0.05092816, 0.03872857, 0.12055472,\n",
              "       0.22954626, 0.0429032 , 0.0255276 , 0.00367834, 0.        ,\n",
              "       0.        , 0.24621809, 0.01345181, 0.01274838, 0.03406767,\n",
              "       0.09202601, 0.        , 0.        , 0.        , 0.02775009,\n",
              "       0.        , 0.        , 0.        , 0.        , 0.        ,\n",
              "       0.        ], dtype=float32)"
            ]
          },
          "metadata": {
            "tags": []
          },
          "execution_count": 124
        }
      ]
    },
    {
      "cell_type": "code",
      "metadata": {
        "id": "SvsZOILy0mDL",
        "colab": {
          "base_uri": "https://localhost:8080/",
          "height": 518
        },
        "outputId": "875f9bc7-0349-416c-b9e5-ae4df56892ce"
      },
      "source": [
        "# plot\n",
        "#plt.bar(range(len(xgb_1.feature_importances_)), xgb_1.feature_importances_)\n",
        "plt.bar(important_features[:10], importance_scores[:10])\n",
        "plt.xlabel('Features')\n",
        "plt.ylabel('Feature Importance');\n",
        "locs, labels = plt.xticks()\n",
        "plt.xticks(locs, labels=important_features, rotation=90);\n",
        "plt.title('Most important features');\n"
      ],
      "execution_count": 140,
      "outputs": [
        {
          "output_type": "display_data",
          "data": {
            "image/png": "[encoded data removed]",
            "text/plain": [
              "<Figure size 432x288 with 1 Axes>"
            ]
          },
          "metadata": {
            "tags": [],
            "needs_background": "light"
          }
        }
      ]
    },
    {
      "cell_type": "code",
      "metadata": {
        "id": "qCELKUAO0mFX",
        "colab": {
          "base_uri": "https://localhost:8080/"
        },
        "outputId": "e63925a2-eae0-4336-a8b2-0399a1944e83"
      },
      "source": [
        "importance"
      ],
      "execution_count": null,
      "outputs": [
        {
          "output_type": "execute_result",
          "data": {
            "text/plain": [
              "array([0.02264267, 0.02422663, 0.0061158 , 0.00528859, 0.01341936,\n",
              "       0.01644205, 0.04840567, 0.06085684, 0.12258864, 0.02581347,\n",
              "       0.01519271, 0.00443408, 0.0193781 , 0.00324862, 0.04218112,\n",
              "       0.00591704, 0.00739326, 0.01225184, 0.05023617, 0.        ,\n",
              "       0.11516349, 0.09604836, 0.00970112, 0.06399662, 0.07695534,\n",
              "       0.        , 0.        , 0.02856806, 0.00113588, 0.10239857,\n",
              "       0.        ], dtype=float32)"
            ]
          },
          "metadata": {
            "tags": []
          },
          "execution_count": 94
        }
      ]
    },
    {
      "cell_type": "code",
      "metadata": {
        "id": "TujHxXAL0mHk",
        "colab": {
          "base_uri": "https://localhost:8080/"
        },
        "outputId": "b4e5b5e9-7078-4bc1-8731-d6529c498964"
      },
      "source": [
        "list(np.sort(importance))[::-1]"
      ],
      "execution_count": null,
      "outputs": [
        {
          "output_type": "execute_result",
          "data": {
            "text/plain": [
              "[0.12258864,\n",
              " 0.11516349,\n",
              " 0.10239857,\n",
              " 0.096048355,\n",
              " 0.07695534,\n",
              " 0.06399662,\n",
              " 0.06085684,\n",
              " 0.050236173,\n",
              " 0.04840567,\n",
              " 0.042181116,\n",
              " 0.028568061,\n",
              " 0.025813472,\n",
              " 0.024226628,\n",
              " 0.022642668,\n",
              " 0.019378096,\n",
              " 0.016442047,\n",
              " 0.015192714,\n",
              " 0.013419358,\n",
              " 0.01225184,\n",
              " 0.009701118,\n",
              " 0.007393258,\n",
              " 0.006115802,\n",
              " 0.0059170392,\n",
              " 0.00528859,\n",
              " 0.0044340766,\n",
              " 0.0032486247,\n",
              " 0.0011358806,\n",
              " 0.0,\n",
              " 0.0,\n",
              " 0.0,\n",
              " 0.0]"
            ]
          },
          "metadata": {
            "tags": []
          },
          "execution_count": 95
        }
      ]
    },
    {
      "cell_type": "code",
      "metadata": {
        "id": "bQuPHAoH0mJ0",
        "colab": {
          "base_uri": "https://localhost:8080/"
        },
        "outputId": "ef8e855f-7cbd-4634-b3bc-eab22aa33baa"
      },
      "source": [
        "df['layers.radiotap.radiotap.datarate'].value_counts()"
      ],
      "execution_count": null,
      "outputs": [
        {
          "output_type": "execute_result",
          "data": {
            "text/plain": [
              "1.0     11440\n",
              "5.5       468\n",
              "12.0       77\n",
              "6.0        33\n",
              "54.0        4\n",
              "Name: layers.radiotap.radiotap.datarate, dtype: int64"
            ]
          },
          "metadata": {
            "tags": []
          },
          "execution_count": 96
        }
      ]
    },
    {
      "cell_type": "code",
      "metadata": {
        "id": "uqrZd9pz0mMn",
        "colab": {
          "base_uri": "https://localhost:8080/"
        },
        "outputId": "01e30348-bff5-47e7-f234-61ed2ff1e539"
      },
      "source": [
        "df['layers.wlan.wlan.fc_tree.wlan.flags_tree.wlan.fc.retry'].value_counts()"
      ],
      "execution_count": null,
      "outputs": [
        {
          "output_type": "execute_result",
          "data": {
            "text/plain": [
              "0.0    11756\n",
              "1.0      266\n",
              "Name: layers.wlan.wlan.fc_tree.wlan.flags_tree.wlan.fc.retry, dtype: int64"
            ]
          },
          "metadata": {
            "tags": []
          },
          "execution_count": 97
        }
      ]
    },
    {
      "cell_type": "code",
      "metadata": {
        "id": "KPY-lEoF0mPS",
        "colab": {
          "base_uri": "https://localhost:8080/"
        },
        "outputId": "6500598f-5f26-4f2b-cca5-69f794845fab"
      },
      "source": [
        "df['layers.wlan.wlan.fc_tree.wlan.flags_0x00000000'].value_counts()"
      ],
      "execution_count": null,
      "outputs": [
        {
          "output_type": "execute_result",
          "data": {
            "text/plain": [
              "1.0    11756\n",
              "0.0      266\n",
              "Name: layers.wlan.wlan.fc_tree.wlan.flags_0x00000000, dtype: int64"
            ]
          },
          "metadata": {
            "tags": []
          },
          "execution_count": 98
        }
      ]
    },
    {
      "cell_type": "code",
      "metadata": {
        "id": "Q5Msv2P-0mRY",
        "colab": {
          "base_uri": "https://localhost:8080/"
        },
        "outputId": "9aa3c672-9dc8-4f6f-b278-6d85adc837be"
      },
      "source": [
        "df['layers.wlan.wlan.duration'].value_counts()"
      ],
      "execution_count": null,
      "outputs": [
        {
          "output_type": "execute_result",
          "data": {
            "text/plain": [
              "0.0      11700\n",
              "314.0      268\n",
              "48.0        36\n",
              "108.0       10\n",
              "60.0         8\n",
              "Name: layers.wlan.wlan.duration, dtype: int64"
            ]
          },
          "metadata": {
            "tags": []
          },
          "execution_count": 99
        }
      ]
    },
    {
      "cell_type": "code",
      "metadata": {
        "id": "sTKdwXQI0mTb",
        "colab": {
          "base_uri": "https://localhost:8080/"
        },
        "outputId": "39c26d80-f1e9-46d4-f003-c2af666b50b3"
      },
      "source": [
        "df['layers.wlan.mgt.wlan.tagged.all.wlan.tag.wlan.tag.length'].value_counts()"
      ],
      "execution_count": null,
      "outputs": [
        {
          "output_type": "execute_result",
          "data": {
            "text/plain": [
              "7.0      4039\n",
              "4.0      3377\n",
              "9.0      1123\n",
              "8.0       938\n",
              "1.0       709\n",
              "5.0       587\n",
              "17.0      343\n",
              "10.0      200\n",
              "127.0     184\n",
              "41.0      180\n",
              "30.0      179\n",
              "29.0      107\n",
              "26.0       54\n",
              "12.0        1\n",
              "6.0         1\n",
              "Name: layers.wlan.mgt.wlan.tagged.all.wlan.tag.wlan.tag.length, dtype: int64"
            ]
          },
          "metadata": {
            "tags": []
          },
          "execution_count": 100
        }
      ]
    },
    {
      "cell_type": "code",
      "metadata": {
        "id": "x3lw22uY0mVn",
        "colab": {
          "base_uri": "https://localhost:8080/"
        },
        "outputId": "85cda617-3963-4aaf-af9c-4b5d7f6b2853"
      },
      "source": [
        "df['layers.wlan.mgt.wlan.tagged.all.wlan.tag.wlan.tag.number'].value_counts()"
      ],
      "execution_count": null,
      "outputs": [
        {
          "output_type": "execute_result",
          "data": {
            "text/plain": [
              "221.0    7753\n",
              "50.0     2071\n",
              "127.0    1433\n",
              "3.0       709\n",
              "45.0       54\n",
              "191.0       1\n",
              "1.0         1\n",
              "Name: layers.wlan.mgt.wlan.tagged.all.wlan.tag.wlan.tag.number, dtype: int64"
            ]
          },
          "metadata": {
            "tags": []
          },
          "execution_count": 101
        }
      ]
    },
    {
      "cell_type": "code",
      "metadata": {
        "id": "fkVEgfykpDj0",
        "colab": {
          "base_uri": "https://localhost:8080/"
        },
        "outputId": "e4cc733c-7a33-4d82-ac4e-4c1635a757db"
      },
      "source": [
        "df['layers.frame.frame.cap_len'].value_counts()"
      ],
      "execution_count": null,
      "outputs": [
        {
          "output_type": "execute_result",
          "data": {
            "text/plain": [
              "66.0     879\n",
              "78.0     777\n",
              "106.0    764\n",
              "72.0     545\n",
              "145.0    462\n",
              "        ... \n",
              "249.0      3\n",
              "96.0       3\n",
              "239.0      2\n",
              "165.0      2\n",
              "153.0      1\n",
              "Name: layers.frame.frame.cap_len, Length: 138, dtype: int64"
            ]
          },
          "metadata": {
            "tags": []
          },
          "execution_count": 102
        }
      ]
    },
    {
      "cell_type": "code",
      "metadata": {
        "colab": {
          "base_uri": "https://localhost:8080/"
        },
        "id": "1CTh4qDgjSXw",
        "outputId": "416ee658-1b7c-4535-f7e4-c11219c47369"
      },
      "source": [
        "df_labels"
      ],
      "execution_count": null,
      "outputs": [
        {
          "output_type": "execute_result",
          "data": {
            "text/plain": [
              "8        dc:f7:56:29:50:86\n",
              "9        dc:f7:56:29:50:86\n",
              "10       dc:f7:56:29:50:86\n",
              "11       dc:f7:56:29:50:86\n",
              "12       ec:51:bc:25:63:0d\n",
              "               ...        \n",
              "25801    d0:7f:a0:c1:d5:f9\n",
              "25804    7c:03:ab:1a:e1:7c\n",
              "25806    d4:e6:b7:f2:fd:bd\n",
              "25807    d4:e6:b7:f2:fd:bd\n",
              "25810    d4:e6:b7:f2:fd:bd\n",
              "Name: source_address, Length: 12022, dtype: object"
            ]
          },
          "metadata": {
            "tags": []
          },
          "execution_count": 106
        }
      ]
    },
    {
      "cell_type": "code",
      "metadata": {
        "id": "TNUmp_9gpDmf",
        "colab": {
          "base_uri": "https://localhost:8080/",
          "height": 437
        },
        "outputId": "37e2796d-2849-4cb2-bfb5-812222bf366c"
      },
      "source": [
        "df[df_labels=='00:b5:d0:bc:d2:0d']"
      ],
      "execution_count": null,
      "outputs": [
        {
          "output_type": "execute_result",
          "data": {
            "text/html": [
              "<div>\n",
              "<style scoped>\n",
              "    .dataframe tbody tr th:only-of-type {\n",
              "        vertical-align: middle;\n",
              "    }\n",
              "\n",
              "    .dataframe tbody tr th {\n",
              "        vertical-align: top;\n",
              "    }\n",
              "\n",
              "    .dataframe thead th {\n",
              "        text-align: right;\n",
              "    }\n",
              "</style>\n",
              "<table border=\"1\" class=\"dataframe\">\n",
              "  <thead>\n",
              "    <tr style=\"text-align: right;\">\n",
              "      <th></th>\n",
              "      <th>layers.frame.frame.time</th>\n",
              "      <th>layers.frame.frame.time_epoch</th>\n",
              "      <th>layers.frame.frame.time_delta</th>\n",
              "      <th>layers.frame.frame.time_delta_displayed</th>\n",
              "      <th>layers.frame.frame.time_relative</th>\n",
              "      <th>layers.frame.frame.number</th>\n",
              "      <th>layers.frame.frame.len</th>\n",
              "      <th>layers.frame.frame.cap_len</th>\n",
              "      <th>layers.radiotap.radiotap.datarate</th>\n",
              "      <th>layers.radiotap.radiotap.channel.freq</th>\n",
              "      <th>layers.radiotap.radiotap.channel.flags_tree.radiotap.channel.flags.cck</th>\n",
              "      <th>layers.radiotap.radiotap.channel.flags_tree.radiotap.channel.flags.ofdm</th>\n",
              "      <th>layers.radiotap.radiotap.dbm_antsignal</th>\n",
              "      <th>layers.wlan_radio.wlan_radio.phy</th>\n",
              "      <th>layers.wlan_radio.wlan_radio.data_rate</th>\n",
              "      <th>layers.wlan_radio.wlan_radio.channel</th>\n",
              "      <th>layers.wlan_radio.wlan_radio.frequency</th>\n",
              "      <th>layers.wlan_radio.wlan_radio.signal_dbm</th>\n",
              "      <th>layers.wlan_radio.wlan_radio.duration</th>\n",
              "      <th>layers.wlan_radio.wlan_radio.duration_tree.wlan_radio.preamble</th>\n",
              "      <th>layers.wlan.wlan.fc_tree.wlan.flags_tree.wlan.fc.retry</th>\n",
              "      <th>layers.wlan.wlan.duration</th>\n",
              "      <th>layers.wlan.wlan.seq</th>\n",
              "      <th>layers.wlan.mgt.wlan.tagged.all.wlan.tag.wlan.tag.number</th>\n",
              "      <th>layers.wlan.mgt.wlan.tagged.all.wlan.tag.wlan.tag.length</th>\n",
              "      <th>layers.radiotap.radiotap.channel.flags_0x000000a0</th>\n",
              "      <th>layers.radiotap.radiotap.channel.flags_0x000000c0</th>\n",
              "      <th>layers.wlan.wlan.fc_0x00004000</th>\n",
              "      <th>layers.wlan.wlan.fc_0x00004008</th>\n",
              "      <th>layers.wlan.wlan.fc_tree.wlan.flags_0x00000000</th>\n",
              "      <th>layers.wlan.wlan.fc_tree.wlan.flags_0x00000008</th>\n",
              "    </tr>\n",
              "  </thead>\n",
              "  <tbody>\n",
              "    <tr>\n",
              "      <th>157</th>\n",
              "      <td>71219.730263</td>\n",
              "      <td>1.622829e+09</td>\n",
              "      <td>0.097666</td>\n",
              "      <td>0.097666</td>\n",
              "      <td>35.794591</td>\n",
              "      <td>158.0</td>\n",
              "      <td>121.0</td>\n",
              "      <td>121.0</td>\n",
              "      <td>1.0</td>\n",
              "      <td>2412.0</td>\n",
              "      <td>1.0</td>\n",
              "      <td>0.0</td>\n",
              "      <td>-65.0</td>\n",
              "      <td>4.0</td>\n",
              "      <td>1.0</td>\n",
              "      <td>1.0</td>\n",
              "      <td>2412.0</td>\n",
              "      <td>-65.0</td>\n",
              "      <td>968.0</td>\n",
              "      <td>192.0</td>\n",
              "      <td>1.0</td>\n",
              "      <td>314.0</td>\n",
              "      <td>3109.0</td>\n",
              "      <td>221.0</td>\n",
              "      <td>7.0</td>\n",
              "      <td>1.0</td>\n",
              "      <td>0.0</td>\n",
              "      <td>0.0</td>\n",
              "      <td>1.0</td>\n",
              "      <td>0.0</td>\n",
              "      <td>1.0</td>\n",
              "    </tr>\n",
              "    <tr>\n",
              "      <th>330</th>\n",
              "      <td>71260.039273</td>\n",
              "      <td>1.622829e+09</td>\n",
              "      <td>0.014766</td>\n",
              "      <td>0.014766</td>\n",
              "      <td>76.103601</td>\n",
              "      <td>331.0</td>\n",
              "      <td>106.0</td>\n",
              "      <td>106.0</td>\n",
              "      <td>1.0</td>\n",
              "      <td>2412.0</td>\n",
              "      <td>1.0</td>\n",
              "      <td>0.0</td>\n",
              "      <td>-67.0</td>\n",
              "      <td>4.0</td>\n",
              "      <td>1.0</td>\n",
              "      <td>1.0</td>\n",
              "      <td>2412.0</td>\n",
              "      <td>-67.0</td>\n",
              "      <td>848.0</td>\n",
              "      <td>192.0</td>\n",
              "      <td>0.0</td>\n",
              "      <td>0.0</td>\n",
              "      <td>3110.0</td>\n",
              "      <td>221.0</td>\n",
              "      <td>7.0</td>\n",
              "      <td>1.0</td>\n",
              "      <td>0.0</td>\n",
              "      <td>1.0</td>\n",
              "      <td>0.0</td>\n",
              "      <td>1.0</td>\n",
              "      <td>0.0</td>\n",
              "    </tr>\n",
              "    <tr>\n",
              "      <th>331</th>\n",
              "      <td>71260.043333</td>\n",
              "      <td>1.622829e+09</td>\n",
              "      <td>0.004060</td>\n",
              "      <td>0.004060</td>\n",
              "      <td>76.107661</td>\n",
              "      <td>332.0</td>\n",
              "      <td>109.0</td>\n",
              "      <td>109.0</td>\n",
              "      <td>1.0</td>\n",
              "      <td>2412.0</td>\n",
              "      <td>1.0</td>\n",
              "      <td>0.0</td>\n",
              "      <td>-69.0</td>\n",
              "      <td>4.0</td>\n",
              "      <td>1.0</td>\n",
              "      <td>1.0</td>\n",
              "      <td>2412.0</td>\n",
              "      <td>-69.0</td>\n",
              "      <td>872.0</td>\n",
              "      <td>192.0</td>\n",
              "      <td>0.0</td>\n",
              "      <td>0.0</td>\n",
              "      <td>3111.0</td>\n",
              "      <td>221.0</td>\n",
              "      <td>7.0</td>\n",
              "      <td>1.0</td>\n",
              "      <td>0.0</td>\n",
              "      <td>1.0</td>\n",
              "      <td>0.0</td>\n",
              "      <td>1.0</td>\n",
              "      <td>0.0</td>\n",
              "    </tr>\n",
              "    <tr>\n",
              "      <th>332</th>\n",
              "      <td>71260.044205</td>\n",
              "      <td>1.622829e+09</td>\n",
              "      <td>0.000872</td>\n",
              "      <td>0.000872</td>\n",
              "      <td>76.108533</td>\n",
              "      <td>333.0</td>\n",
              "      <td>108.0</td>\n",
              "      <td>108.0</td>\n",
              "      <td>1.0</td>\n",
              "      <td>2412.0</td>\n",
              "      <td>1.0</td>\n",
              "      <td>0.0</td>\n",
              "      <td>-69.0</td>\n",
              "      <td>4.0</td>\n",
              "      <td>1.0</td>\n",
              "      <td>1.0</td>\n",
              "      <td>2412.0</td>\n",
              "      <td>-69.0</td>\n",
              "      <td>864.0</td>\n",
              "      <td>192.0</td>\n",
              "      <td>0.0</td>\n",
              "      <td>0.0</td>\n",
              "      <td>3112.0</td>\n",
              "      <td>221.0</td>\n",
              "      <td>7.0</td>\n",
              "      <td>1.0</td>\n",
              "      <td>0.0</td>\n",
              "      <td>1.0</td>\n",
              "      <td>0.0</td>\n",
              "      <td>1.0</td>\n",
              "      <td>0.0</td>\n",
              "    </tr>\n",
              "    <tr>\n",
              "      <th>333</th>\n",
              "      <td>71260.047992</td>\n",
              "      <td>1.622829e+09</td>\n",
              "      <td>0.003788</td>\n",
              "      <td>0.003788</td>\n",
              "      <td>76.112320</td>\n",
              "      <td>334.0</td>\n",
              "      <td>111.0</td>\n",
              "      <td>111.0</td>\n",
              "      <td>1.0</td>\n",
              "      <td>2412.0</td>\n",
              "      <td>1.0</td>\n",
              "      <td>0.0</td>\n",
              "      <td>-67.0</td>\n",
              "      <td>4.0</td>\n",
              "      <td>1.0</td>\n",
              "      <td>1.0</td>\n",
              "      <td>2412.0</td>\n",
              "      <td>-67.0</td>\n",
              "      <td>888.0</td>\n",
              "      <td>192.0</td>\n",
              "      <td>0.0</td>\n",
              "      <td>0.0</td>\n",
              "      <td>3114.0</td>\n",
              "      <td>221.0</td>\n",
              "      <td>7.0</td>\n",
              "      <td>1.0</td>\n",
              "      <td>0.0</td>\n",
              "      <td>1.0</td>\n",
              "      <td>0.0</td>\n",
              "      <td>1.0</td>\n",
              "      <td>0.0</td>\n",
              "    </tr>\n",
              "    <tr>\n",
              "      <th>...</th>\n",
              "      <td>...</td>\n",
              "      <td>...</td>\n",
              "      <td>...</td>\n",
              "      <td>...</td>\n",
              "      <td>...</td>\n",
              "      <td>...</td>\n",
              "      <td>...</td>\n",
              "      <td>...</td>\n",
              "      <td>...</td>\n",
              "      <td>...</td>\n",
              "      <td>...</td>\n",
              "      <td>...</td>\n",
              "      <td>...</td>\n",
              "      <td>...</td>\n",
              "      <td>...</td>\n",
              "      <td>...</td>\n",
              "      <td>...</td>\n",
              "      <td>...</td>\n",
              "      <td>...</td>\n",
              "      <td>...</td>\n",
              "      <td>...</td>\n",
              "      <td>...</td>\n",
              "      <td>...</td>\n",
              "      <td>...</td>\n",
              "      <td>...</td>\n",
              "      <td>...</td>\n",
              "      <td>...</td>\n",
              "      <td>...</td>\n",
              "      <td>...</td>\n",
              "      <td>...</td>\n",
              "      <td>...</td>\n",
              "    </tr>\n",
              "    <tr>\n",
              "      <th>12441</th>\n",
              "      <td>74172.657830</td>\n",
              "      <td>1.622832e+09</td>\n",
              "      <td>0.008233</td>\n",
              "      <td>0.008233</td>\n",
              "      <td>153.015837</td>\n",
              "      <td>789.0</td>\n",
              "      <td>106.0</td>\n",
              "      <td>106.0</td>\n",
              "      <td>1.0</td>\n",
              "      <td>2427.0</td>\n",
              "      <td>1.0</td>\n",
              "      <td>0.0</td>\n",
              "      <td>-59.0</td>\n",
              "      <td>4.0</td>\n",
              "      <td>1.0</td>\n",
              "      <td>4.0</td>\n",
              "      <td>2427.0</td>\n",
              "      <td>-59.0</td>\n",
              "      <td>848.0</td>\n",
              "      <td>192.0</td>\n",
              "      <td>0.0</td>\n",
              "      <td>0.0</td>\n",
              "      <td>3870.0</td>\n",
              "      <td>221.0</td>\n",
              "      <td>7.0</td>\n",
              "      <td>1.0</td>\n",
              "      <td>0.0</td>\n",
              "      <td>1.0</td>\n",
              "      <td>0.0</td>\n",
              "      <td>1.0</td>\n",
              "      <td>0.0</td>\n",
              "    </tr>\n",
              "    <tr>\n",
              "      <th>12442</th>\n",
              "      <td>74172.685392</td>\n",
              "      <td>1.622832e+09</td>\n",
              "      <td>0.027562</td>\n",
              "      <td>0.027562</td>\n",
              "      <td>153.043399</td>\n",
              "      <td>790.0</td>\n",
              "      <td>106.0</td>\n",
              "      <td>106.0</td>\n",
              "      <td>1.0</td>\n",
              "      <td>2427.0</td>\n",
              "      <td>1.0</td>\n",
              "      <td>0.0</td>\n",
              "      <td>-59.0</td>\n",
              "      <td>4.0</td>\n",
              "      <td>1.0</td>\n",
              "      <td>4.0</td>\n",
              "      <td>2427.0</td>\n",
              "      <td>-59.0</td>\n",
              "      <td>848.0</td>\n",
              "      <td>192.0</td>\n",
              "      <td>0.0</td>\n",
              "      <td>0.0</td>\n",
              "      <td>3871.0</td>\n",
              "      <td>221.0</td>\n",
              "      <td>7.0</td>\n",
              "      <td>1.0</td>\n",
              "      <td>0.0</td>\n",
              "      <td>1.0</td>\n",
              "      <td>0.0</td>\n",
              "      <td>1.0</td>\n",
              "      <td>0.0</td>\n",
              "    </tr>\n",
              "    <tr>\n",
              "      <th>13166</th>\n",
              "      <td>74293.604241</td>\n",
              "      <td>1.622832e+09</td>\n",
              "      <td>0.002780</td>\n",
              "      <td>0.002780</td>\n",
              "      <td>273.962247</td>\n",
              "      <td>1514.0</td>\n",
              "      <td>106.0</td>\n",
              "      <td>106.0</td>\n",
              "      <td>1.0</td>\n",
              "      <td>2442.0</td>\n",
              "      <td>1.0</td>\n",
              "      <td>0.0</td>\n",
              "      <td>-63.0</td>\n",
              "      <td>4.0</td>\n",
              "      <td>1.0</td>\n",
              "      <td>7.0</td>\n",
              "      <td>2442.0</td>\n",
              "      <td>-63.0</td>\n",
              "      <td>848.0</td>\n",
              "      <td>192.0</td>\n",
              "      <td>0.0</td>\n",
              "      <td>0.0</td>\n",
              "      <td>3915.0</td>\n",
              "      <td>221.0</td>\n",
              "      <td>7.0</td>\n",
              "      <td>1.0</td>\n",
              "      <td>0.0</td>\n",
              "      <td>1.0</td>\n",
              "      <td>0.0</td>\n",
              "      <td>1.0</td>\n",
              "      <td>0.0</td>\n",
              "    </tr>\n",
              "    <tr>\n",
              "      <th>13721</th>\n",
              "      <td>74415.657066</td>\n",
              "      <td>1.622832e+09</td>\n",
              "      <td>0.047666</td>\n",
              "      <td>0.047666</td>\n",
              "      <td>396.015073</td>\n",
              "      <td>2069.0</td>\n",
              "      <td>106.0</td>\n",
              "      <td>106.0</td>\n",
              "      <td>1.0</td>\n",
              "      <td>2467.0</td>\n",
              "      <td>1.0</td>\n",
              "      <td>0.0</td>\n",
              "      <td>-73.0</td>\n",
              "      <td>4.0</td>\n",
              "      <td>1.0</td>\n",
              "      <td>12.0</td>\n",
              "      <td>2467.0</td>\n",
              "      <td>-73.0</td>\n",
              "      <td>848.0</td>\n",
              "      <td>192.0</td>\n",
              "      <td>0.0</td>\n",
              "      <td>0.0</td>\n",
              "      <td>3938.0</td>\n",
              "      <td>221.0</td>\n",
              "      <td>7.0</td>\n",
              "      <td>1.0</td>\n",
              "      <td>0.0</td>\n",
              "      <td>1.0</td>\n",
              "      <td>0.0</td>\n",
              "      <td>1.0</td>\n",
              "      <td>0.0</td>\n",
              "    </tr>\n",
              "    <tr>\n",
              "      <th>13722</th>\n",
              "      <td>74415.687023</td>\n",
              "      <td>1.622832e+09</td>\n",
              "      <td>0.029956</td>\n",
              "      <td>0.029956</td>\n",
              "      <td>396.045029</td>\n",
              "      <td>2070.0</td>\n",
              "      <td>106.0</td>\n",
              "      <td>106.0</td>\n",
              "      <td>1.0</td>\n",
              "      <td>2467.0</td>\n",
              "      <td>1.0</td>\n",
              "      <td>0.0</td>\n",
              "      <td>-73.0</td>\n",
              "      <td>4.0</td>\n",
              "      <td>1.0</td>\n",
              "      <td>12.0</td>\n",
              "      <td>2467.0</td>\n",
              "      <td>-73.0</td>\n",
              "      <td>848.0</td>\n",
              "      <td>192.0</td>\n",
              "      <td>0.0</td>\n",
              "      <td>0.0</td>\n",
              "      <td>3939.0</td>\n",
              "      <td>221.0</td>\n",
              "      <td>7.0</td>\n",
              "      <td>1.0</td>\n",
              "      <td>0.0</td>\n",
              "      <td>1.0</td>\n",
              "      <td>0.0</td>\n",
              "      <td>1.0</td>\n",
              "      <td>0.0</td>\n",
              "    </tr>\n",
              "  </tbody>\n",
              "</table>\n",
              "<p>119 rows × 31 columns</p>\n",
              "</div>"
            ],
            "text/plain": [
              "       layers.frame.frame.time  ...  layers.wlan.wlan.fc_tree.wlan.flags_0x00000008\n",
              "157               71219.730263  ...                                             1.0\n",
              "330               71260.039273  ...                                             0.0\n",
              "331               71260.043333  ...                                             0.0\n",
              "332               71260.044205  ...                                             0.0\n",
              "333               71260.047992  ...                                             0.0\n",
              "...                        ...  ...                                             ...\n",
              "12441             74172.657830  ...                                             0.0\n",
              "12442             74172.685392  ...                                             0.0\n",
              "13166             74293.604241  ...                                             0.0\n",
              "13721             74415.657066  ...                                             0.0\n",
              "13722             74415.687023  ...                                             0.0\n",
              "\n",
              "[119 rows x 31 columns]"
            ]
          },
          "metadata": {
            "tags": []
          },
          "execution_count": 104
        }
      ]
    },
    {
      "cell_type": "code",
      "metadata": {
        "id": "x2NOtXYzpDox",
        "colab": {
          "base_uri": "https://localhost:8080/",
          "height": 437
        },
        "outputId": "17c30957-aab4-4483-f147-ab0096765786"
      },
      "source": [
        "df[df_labels=='f4:9f:f3:f5:f7:f1']"
      ],
      "execution_count": null,
      "outputs": [
        {
          "output_type": "execute_result",
          "data": {
            "text/html": [
              "<div>\n",
              "<style scoped>\n",
              "    .dataframe tbody tr th:only-of-type {\n",
              "        vertical-align: middle;\n",
              "    }\n",
              "\n",
              "    .dataframe tbody tr th {\n",
              "        vertical-align: top;\n",
              "    }\n",
              "\n",
              "    .dataframe thead th {\n",
              "        text-align: right;\n",
              "    }\n",
              "</style>\n",
              "<table border=\"1\" class=\"dataframe\">\n",
              "  <thead>\n",
              "    <tr style=\"text-align: right;\">\n",
              "      <th></th>\n",
              "      <th>layers.frame.frame.time</th>\n",
              "      <th>layers.frame.frame.time_epoch</th>\n",
              "      <th>layers.frame.frame.time_delta</th>\n",
              "      <th>layers.frame.frame.time_delta_displayed</th>\n",
              "      <th>layers.frame.frame.time_relative</th>\n",
              "      <th>layers.frame.frame.number</th>\n",
              "      <th>layers.frame.frame.len</th>\n",
              "      <th>layers.frame.frame.cap_len</th>\n",
              "      <th>layers.radiotap.radiotap.datarate</th>\n",
              "      <th>layers.radiotap.radiotap.channel.freq</th>\n",
              "      <th>layers.radiotap.radiotap.channel.flags_tree.radiotap.channel.flags.cck</th>\n",
              "      <th>layers.radiotap.radiotap.channel.flags_tree.radiotap.channel.flags.ofdm</th>\n",
              "      <th>layers.radiotap.radiotap.dbm_antsignal</th>\n",
              "      <th>layers.wlan_radio.wlan_radio.phy</th>\n",
              "      <th>layers.wlan_radio.wlan_radio.data_rate</th>\n",
              "      <th>layers.wlan_radio.wlan_radio.channel</th>\n",
              "      <th>layers.wlan_radio.wlan_radio.frequency</th>\n",
              "      <th>layers.wlan_radio.wlan_radio.signal_dbm</th>\n",
              "      <th>layers.wlan_radio.wlan_radio.duration</th>\n",
              "      <th>layers.wlan_radio.wlan_radio.duration_tree.wlan_radio.preamble</th>\n",
              "      <th>layers.wlan.wlan.fc_tree.wlan.flags_tree.wlan.fc.retry</th>\n",
              "      <th>layers.wlan.wlan.duration</th>\n",
              "      <th>layers.wlan.wlan.seq</th>\n",
              "      <th>layers.wlan.mgt.wlan.tagged.all.wlan.tag.wlan.tag.number</th>\n",
              "      <th>layers.wlan.mgt.wlan.tagged.all.wlan.tag.wlan.tag.length</th>\n",
              "      <th>layers.radiotap.radiotap.channel.flags_0x000000a0</th>\n",
              "      <th>layers.radiotap.radiotap.channel.flags_0x000000c0</th>\n",
              "      <th>layers.wlan.wlan.fc_0x00004000</th>\n",
              "      <th>layers.wlan.wlan.fc_0x00004008</th>\n",
              "      <th>layers.wlan.wlan.fc_tree.wlan.flags_0x00000000</th>\n",
              "      <th>layers.wlan.wlan.fc_tree.wlan.flags_0x00000008</th>\n",
              "    </tr>\n",
              "  </thead>\n",
              "  <tbody>\n",
              "    <tr>\n",
              "      <th>13951</th>\n",
              "      <td>74457.388765</td>\n",
              "      <td>1.622832e+09</td>\n",
              "      <td>0.027353</td>\n",
              "      <td>0.027353</td>\n",
              "      <td>437.746771</td>\n",
              "      <td>2299.0</td>\n",
              "      <td>78.0</td>\n",
              "      <td>78.0</td>\n",
              "      <td>1.0</td>\n",
              "      <td>2472.0</td>\n",
              "      <td>1.0</td>\n",
              "      <td>0.0</td>\n",
              "      <td>-73.0</td>\n",
              "      <td>4.0</td>\n",
              "      <td>1.0</td>\n",
              "      <td>13.0</td>\n",
              "      <td>2472.0</td>\n",
              "      <td>-73.0</td>\n",
              "      <td>624.0</td>\n",
              "      <td>192.0</td>\n",
              "      <td>0.0</td>\n",
              "      <td>0.0</td>\n",
              "      <td>1564.0</td>\n",
              "      <td>50.0</td>\n",
              "      <td>4.0</td>\n",
              "      <td>1.0</td>\n",
              "      <td>0.0</td>\n",
              "      <td>1.0</td>\n",
              "      <td>0.0</td>\n",
              "      <td>1.0</td>\n",
              "      <td>0.0</td>\n",
              "    </tr>\n",
              "    <tr>\n",
              "      <th>13952</th>\n",
              "      <td>74457.389270</td>\n",
              "      <td>1.622832e+09</td>\n",
              "      <td>0.000506</td>\n",
              "      <td>0.000506</td>\n",
              "      <td>437.747277</td>\n",
              "      <td>2300.0</td>\n",
              "      <td>66.0</td>\n",
              "      <td>66.0</td>\n",
              "      <td>1.0</td>\n",
              "      <td>2472.0</td>\n",
              "      <td>1.0</td>\n",
              "      <td>0.0</td>\n",
              "      <td>-77.0</td>\n",
              "      <td>4.0</td>\n",
              "      <td>1.0</td>\n",
              "      <td>13.0</td>\n",
              "      <td>2472.0</td>\n",
              "      <td>-77.0</td>\n",
              "      <td>528.0</td>\n",
              "      <td>192.0</td>\n",
              "      <td>0.0</td>\n",
              "      <td>0.0</td>\n",
              "      <td>1565.0</td>\n",
              "      <td>50.0</td>\n",
              "      <td>4.0</td>\n",
              "      <td>1.0</td>\n",
              "      <td>0.0</td>\n",
              "      <td>1.0</td>\n",
              "      <td>0.0</td>\n",
              "      <td>1.0</td>\n",
              "      <td>0.0</td>\n",
              "    </tr>\n",
              "    <tr>\n",
              "      <th>13954</th>\n",
              "      <td>74457.767899</td>\n",
              "      <td>1.622832e+09</td>\n",
              "      <td>0.374953</td>\n",
              "      <td>0.374953</td>\n",
              "      <td>438.125906</td>\n",
              "      <td>2302.0</td>\n",
              "      <td>78.0</td>\n",
              "      <td>78.0</td>\n",
              "      <td>1.0</td>\n",
              "      <td>2447.0</td>\n",
              "      <td>1.0</td>\n",
              "      <td>0.0</td>\n",
              "      <td>-73.0</td>\n",
              "      <td>4.0</td>\n",
              "      <td>1.0</td>\n",
              "      <td>8.0</td>\n",
              "      <td>2447.0</td>\n",
              "      <td>-73.0</td>\n",
              "      <td>624.0</td>\n",
              "      <td>192.0</td>\n",
              "      <td>0.0</td>\n",
              "      <td>0.0</td>\n",
              "      <td>1580.0</td>\n",
              "      <td>50.0</td>\n",
              "      <td>4.0</td>\n",
              "      <td>1.0</td>\n",
              "      <td>0.0</td>\n",
              "      <td>1.0</td>\n",
              "      <td>0.0</td>\n",
              "      <td>1.0</td>\n",
              "      <td>0.0</td>\n",
              "    </tr>\n",
              "    <tr>\n",
              "      <th>13955</th>\n",
              "      <td>74457.767955</td>\n",
              "      <td>1.622832e+09</td>\n",
              "      <td>0.000056</td>\n",
              "      <td>0.000056</td>\n",
              "      <td>438.125962</td>\n",
              "      <td>2303.0</td>\n",
              "      <td>66.0</td>\n",
              "      <td>66.0</td>\n",
              "      <td>1.0</td>\n",
              "      <td>2447.0</td>\n",
              "      <td>1.0</td>\n",
              "      <td>0.0</td>\n",
              "      <td>-69.0</td>\n",
              "      <td>4.0</td>\n",
              "      <td>1.0</td>\n",
              "      <td>8.0</td>\n",
              "      <td>2447.0</td>\n",
              "      <td>-69.0</td>\n",
              "      <td>528.0</td>\n",
              "      <td>192.0</td>\n",
              "      <td>0.0</td>\n",
              "      <td>0.0</td>\n",
              "      <td>1581.0</td>\n",
              "      <td>50.0</td>\n",
              "      <td>4.0</td>\n",
              "      <td>1.0</td>\n",
              "      <td>0.0</td>\n",
              "      <td>1.0</td>\n",
              "      <td>0.0</td>\n",
              "      <td>1.0</td>\n",
              "      <td>0.0</td>\n",
              "    </tr>\n",
              "    <tr>\n",
              "      <th>13960</th>\n",
              "      <td>74458.977391</td>\n",
              "      <td>1.622832e+09</td>\n",
              "      <td>0.162136</td>\n",
              "      <td>0.162136</td>\n",
              "      <td>439.335398</td>\n",
              "      <td>2308.0</td>\n",
              "      <td>66.0</td>\n",
              "      <td>66.0</td>\n",
              "      <td>1.0</td>\n",
              "      <td>2427.0</td>\n",
              "      <td>1.0</td>\n",
              "      <td>0.0</td>\n",
              "      <td>-71.0</td>\n",
              "      <td>4.0</td>\n",
              "      <td>1.0</td>\n",
              "      <td>4.0</td>\n",
              "      <td>2427.0</td>\n",
              "      <td>-71.0</td>\n",
              "      <td>528.0</td>\n",
              "      <td>192.0</td>\n",
              "      <td>0.0</td>\n",
              "      <td>0.0</td>\n",
              "      <td>1625.0</td>\n",
              "      <td>50.0</td>\n",
              "      <td>4.0</td>\n",
              "      <td>1.0</td>\n",
              "      <td>0.0</td>\n",
              "      <td>1.0</td>\n",
              "      <td>0.0</td>\n",
              "      <td>1.0</td>\n",
              "      <td>0.0</td>\n",
              "    </tr>\n",
              "    <tr>\n",
              "      <th>...</th>\n",
              "      <td>...</td>\n",
              "      <td>...</td>\n",
              "      <td>...</td>\n",
              "      <td>...</td>\n",
              "      <td>...</td>\n",
              "      <td>...</td>\n",
              "      <td>...</td>\n",
              "      <td>...</td>\n",
              "      <td>...</td>\n",
              "      <td>...</td>\n",
              "      <td>...</td>\n",
              "      <td>...</td>\n",
              "      <td>...</td>\n",
              "      <td>...</td>\n",
              "      <td>...</td>\n",
              "      <td>...</td>\n",
              "      <td>...</td>\n",
              "      <td>...</td>\n",
              "      <td>...</td>\n",
              "      <td>...</td>\n",
              "      <td>...</td>\n",
              "      <td>...</td>\n",
              "      <td>...</td>\n",
              "      <td>...</td>\n",
              "      <td>...</td>\n",
              "      <td>...</td>\n",
              "      <td>...</td>\n",
              "      <td>...</td>\n",
              "      <td>...</td>\n",
              "      <td>...</td>\n",
              "      <td>...</td>\n",
              "    </tr>\n",
              "    <tr>\n",
              "      <th>17309</th>\n",
              "      <td>74886.099743</td>\n",
              "      <td>1.622832e+09</td>\n",
              "      <td>0.000854</td>\n",
              "      <td>0.000854</td>\n",
              "      <td>866.457749</td>\n",
              "      <td>5657.0</td>\n",
              "      <td>66.0</td>\n",
              "      <td>66.0</td>\n",
              "      <td>1.0</td>\n",
              "      <td>2427.0</td>\n",
              "      <td>1.0</td>\n",
              "      <td>0.0</td>\n",
              "      <td>-75.0</td>\n",
              "      <td>4.0</td>\n",
              "      <td>1.0</td>\n",
              "      <td>4.0</td>\n",
              "      <td>2427.0</td>\n",
              "      <td>-75.0</td>\n",
              "      <td>528.0</td>\n",
              "      <td>192.0</td>\n",
              "      <td>0.0</td>\n",
              "      <td>0.0</td>\n",
              "      <td>2037.0</td>\n",
              "      <td>50.0</td>\n",
              "      <td>4.0</td>\n",
              "      <td>1.0</td>\n",
              "      <td>0.0</td>\n",
              "      <td>1.0</td>\n",
              "      <td>0.0</td>\n",
              "      <td>1.0</td>\n",
              "      <td>0.0</td>\n",
              "    </tr>\n",
              "    <tr>\n",
              "      <th>17310</th>\n",
              "      <td>74886.358249</td>\n",
              "      <td>1.622832e+09</td>\n",
              "      <td>0.258506</td>\n",
              "      <td>0.258506</td>\n",
              "      <td>866.716256</td>\n",
              "      <td>5658.0</td>\n",
              "      <td>78.0</td>\n",
              "      <td>78.0</td>\n",
              "      <td>1.0</td>\n",
              "      <td>2457.0</td>\n",
              "      <td>1.0</td>\n",
              "      <td>0.0</td>\n",
              "      <td>-71.0</td>\n",
              "      <td>4.0</td>\n",
              "      <td>1.0</td>\n",
              "      <td>10.0</td>\n",
              "      <td>2457.0</td>\n",
              "      <td>-71.0</td>\n",
              "      <td>624.0</td>\n",
              "      <td>192.0</td>\n",
              "      <td>0.0</td>\n",
              "      <td>0.0</td>\n",
              "      <td>2048.0</td>\n",
              "      <td>50.0</td>\n",
              "      <td>4.0</td>\n",
              "      <td>1.0</td>\n",
              "      <td>0.0</td>\n",
              "      <td>1.0</td>\n",
              "      <td>0.0</td>\n",
              "      <td>1.0</td>\n",
              "      <td>0.0</td>\n",
              "    </tr>\n",
              "    <tr>\n",
              "      <th>17311</th>\n",
              "      <td>74886.426061</td>\n",
              "      <td>1.622832e+09</td>\n",
              "      <td>0.067811</td>\n",
              "      <td>0.067811</td>\n",
              "      <td>866.784067</td>\n",
              "      <td>5659.0</td>\n",
              "      <td>78.0</td>\n",
              "      <td>78.0</td>\n",
              "      <td>1.0</td>\n",
              "      <td>2457.0</td>\n",
              "      <td>1.0</td>\n",
              "      <td>0.0</td>\n",
              "      <td>-75.0</td>\n",
              "      <td>4.0</td>\n",
              "      <td>1.0</td>\n",
              "      <td>10.0</td>\n",
              "      <td>2457.0</td>\n",
              "      <td>-75.0</td>\n",
              "      <td>624.0</td>\n",
              "      <td>192.0</td>\n",
              "      <td>0.0</td>\n",
              "      <td>0.0</td>\n",
              "      <td>2050.0</td>\n",
              "      <td>50.0</td>\n",
              "      <td>4.0</td>\n",
              "      <td>1.0</td>\n",
              "      <td>0.0</td>\n",
              "      <td>1.0</td>\n",
              "      <td>0.0</td>\n",
              "      <td>1.0</td>\n",
              "      <td>0.0</td>\n",
              "    </tr>\n",
              "    <tr>\n",
              "      <th>17312</th>\n",
              "      <td>74886.436268</td>\n",
              "      <td>1.622832e+09</td>\n",
              "      <td>0.010207</td>\n",
              "      <td>0.010207</td>\n",
              "      <td>866.794275</td>\n",
              "      <td>5660.0</td>\n",
              "      <td>66.0</td>\n",
              "      <td>66.0</td>\n",
              "      <td>1.0</td>\n",
              "      <td>2457.0</td>\n",
              "      <td>1.0</td>\n",
              "      <td>0.0</td>\n",
              "      <td>-75.0</td>\n",
              "      <td>4.0</td>\n",
              "      <td>1.0</td>\n",
              "      <td>10.0</td>\n",
              "      <td>2457.0</td>\n",
              "      <td>-75.0</td>\n",
              "      <td>528.0</td>\n",
              "      <td>192.0</td>\n",
              "      <td>0.0</td>\n",
              "      <td>0.0</td>\n",
              "      <td>2051.0</td>\n",
              "      <td>50.0</td>\n",
              "      <td>4.0</td>\n",
              "      <td>1.0</td>\n",
              "      <td>0.0</td>\n",
              "      <td>1.0</td>\n",
              "      <td>0.0</td>\n",
              "      <td>1.0</td>\n",
              "      <td>0.0</td>\n",
              "    </tr>\n",
              "    <tr>\n",
              "      <th>17318</th>\n",
              "      <td>74887.814294</td>\n",
              "      <td>1.622832e+09</td>\n",
              "      <td>0.213185</td>\n",
              "      <td>0.213185</td>\n",
              "      <td>868.172301</td>\n",
              "      <td>5666.0</td>\n",
              "      <td>78.0</td>\n",
              "      <td>78.0</td>\n",
              "      <td>1.0</td>\n",
              "      <td>2412.0</td>\n",
              "      <td>1.0</td>\n",
              "      <td>0.0</td>\n",
              "      <td>-75.0</td>\n",
              "      <td>4.0</td>\n",
              "      <td>1.0</td>\n",
              "      <td>1.0</td>\n",
              "      <td>2412.0</td>\n",
              "      <td>-75.0</td>\n",
              "      <td>624.0</td>\n",
              "      <td>192.0</td>\n",
              "      <td>0.0</td>\n",
              "      <td>0.0</td>\n",
              "      <td>2108.0</td>\n",
              "      <td>50.0</td>\n",
              "      <td>4.0</td>\n",
              "      <td>1.0</td>\n",
              "      <td>0.0</td>\n",
              "      <td>1.0</td>\n",
              "      <td>0.0</td>\n",
              "      <td>1.0</td>\n",
              "      <td>0.0</td>\n",
              "    </tr>\n",
              "  </tbody>\n",
              "</table>\n",
              "<p>671 rows × 31 columns</p>\n",
              "</div>"
            ],
            "text/plain": [
              "       layers.frame.frame.time  ...  layers.wlan.wlan.fc_tree.wlan.flags_0x00000008\n",
              "13951             74457.388765  ...                                             0.0\n",
              "13952             74457.389270  ...                                             0.0\n",
              "13954             74457.767899  ...                                             0.0\n",
              "13955             74457.767955  ...                                             0.0\n",
              "13960             74458.977391  ...                                             0.0\n",
              "...                        ...  ...                                             ...\n",
              "17309             74886.099743  ...                                             0.0\n",
              "17310             74886.358249  ...                                             0.0\n",
              "17311             74886.426061  ...                                             0.0\n",
              "17312             74886.436268  ...                                             0.0\n",
              "17318             74887.814294  ...                                             0.0\n",
              "\n",
              "[671 rows x 31 columns]"
            ]
          },
          "metadata": {
            "tags": []
          },
          "execution_count": 105
        }
      ]
    },
    {
      "cell_type": "code",
      "metadata": {
        "id": "HGucdPk2pDuE",
        "colab": {
          "base_uri": "https://localhost:8080/",
          "height": 437
        },
        "outputId": "24965b68-5303-4c21-af90-6bd806a1574c"
      },
      "source": [
        "df[df_labels=='84:6f:ce:ef:5b:37']"
      ],
      "execution_count": null,
      "outputs": [
        {
          "output_type": "execute_result",
          "data": {
            "text/html": [
              "<div>\n",
              "<style scoped>\n",
              "    .dataframe tbody tr th:only-of-type {\n",
              "        vertical-align: middle;\n",
              "    }\n",
              "\n",
              "    .dataframe tbody tr th {\n",
              "        vertical-align: top;\n",
              "    }\n",
              "\n",
              "    .dataframe thead th {\n",
              "        text-align: right;\n",
              "    }\n",
              "</style>\n",
              "<table border=\"1\" class=\"dataframe\">\n",
              "  <thead>\n",
              "    <tr style=\"text-align: right;\">\n",
              "      <th></th>\n",
              "      <th>layers.frame.frame.time</th>\n",
              "      <th>layers.frame.frame.time_epoch</th>\n",
              "      <th>layers.frame.frame.time_delta</th>\n",
              "      <th>layers.frame.frame.time_delta_displayed</th>\n",
              "      <th>layers.frame.frame.time_relative</th>\n",
              "      <th>layers.frame.frame.number</th>\n",
              "      <th>layers.frame.frame.len</th>\n",
              "      <th>layers.frame.frame.cap_len</th>\n",
              "      <th>layers.radiotap.radiotap.datarate</th>\n",
              "      <th>layers.radiotap.radiotap.channel.freq</th>\n",
              "      <th>layers.radiotap.radiotap.channel.flags_tree.radiotap.channel.flags.cck</th>\n",
              "      <th>layers.radiotap.radiotap.channel.flags_tree.radiotap.channel.flags.ofdm</th>\n",
              "      <th>layers.radiotap.radiotap.dbm_antsignal</th>\n",
              "      <th>layers.wlan_radio.wlan_radio.phy</th>\n",
              "      <th>layers.wlan_radio.wlan_radio.data_rate</th>\n",
              "      <th>layers.wlan_radio.wlan_radio.channel</th>\n",
              "      <th>layers.wlan_radio.wlan_radio.frequency</th>\n",
              "      <th>layers.wlan_radio.wlan_radio.signal_dbm</th>\n",
              "      <th>layers.wlan_radio.wlan_radio.duration</th>\n",
              "      <th>layers.wlan_radio.wlan_radio.duration_tree.wlan_radio.preamble</th>\n",
              "      <th>layers.wlan.wlan.fc_tree.wlan.flags_tree.wlan.fc.retry</th>\n",
              "      <th>layers.wlan.wlan.duration</th>\n",
              "      <th>layers.wlan.wlan.seq</th>\n",
              "      <th>layers.wlan.mgt.wlan.tagged.all.wlan.tag.wlan.tag.number</th>\n",
              "      <th>layers.wlan.mgt.wlan.tagged.all.wlan.tag.wlan.tag.length</th>\n",
              "      <th>layers.radiotap.radiotap.channel.flags_0x000000a0</th>\n",
              "      <th>layers.radiotap.radiotap.channel.flags_0x000000c0</th>\n",
              "      <th>layers.wlan.wlan.fc_0x00004000</th>\n",
              "      <th>layers.wlan.wlan.fc_0x00004008</th>\n",
              "      <th>layers.wlan.wlan.fc_tree.wlan.flags_0x00000000</th>\n",
              "      <th>layers.wlan.wlan.fc_tree.wlan.flags_0x00000008</th>\n",
              "    </tr>\n",
              "  </thead>\n",
              "  <tbody>\n",
              "    <tr>\n",
              "      <th>4785</th>\n",
              "      <td>72279.930467</td>\n",
              "      <td>1.622830e+09</td>\n",
              "      <td>0.022521</td>\n",
              "      <td>0.022521</td>\n",
              "      <td>1095.994795</td>\n",
              "      <td>4786.0</td>\n",
              "      <td>93.0</td>\n",
              "      <td>93.0</td>\n",
              "      <td>1.0</td>\n",
              "      <td>2412.0</td>\n",
              "      <td>1.0</td>\n",
              "      <td>0.0</td>\n",
              "      <td>-61.0</td>\n",
              "      <td>4.0</td>\n",
              "      <td>1.0</td>\n",
              "      <td>1.0</td>\n",
              "      <td>2412.0</td>\n",
              "      <td>-61.0</td>\n",
              "      <td>744.0</td>\n",
              "      <td>192.0</td>\n",
              "      <td>0.0</td>\n",
              "      <td>0.0</td>\n",
              "      <td>1731.0</td>\n",
              "      <td>221.0</td>\n",
              "      <td>5.0</td>\n",
              "      <td>1.0</td>\n",
              "      <td>0.0</td>\n",
              "      <td>1.0</td>\n",
              "      <td>0.0</td>\n",
              "      <td>1.0</td>\n",
              "      <td>0.0</td>\n",
              "    </tr>\n",
              "    <tr>\n",
              "      <th>4916</th>\n",
              "      <td>72301.018549</td>\n",
              "      <td>1.622830e+09</td>\n",
              "      <td>0.095343</td>\n",
              "      <td>0.095343</td>\n",
              "      <td>1117.082877</td>\n",
              "      <td>4917.0</td>\n",
              "      <td>93.0</td>\n",
              "      <td>93.0</td>\n",
              "      <td>1.0</td>\n",
              "      <td>2412.0</td>\n",
              "      <td>1.0</td>\n",
              "      <td>0.0</td>\n",
              "      <td>-81.0</td>\n",
              "      <td>4.0</td>\n",
              "      <td>1.0</td>\n",
              "      <td>1.0</td>\n",
              "      <td>2412.0</td>\n",
              "      <td>-81.0</td>\n",
              "      <td>744.0</td>\n",
              "      <td>192.0</td>\n",
              "      <td>0.0</td>\n",
              "      <td>0.0</td>\n",
              "      <td>452.0</td>\n",
              "      <td>221.0</td>\n",
              "      <td>5.0</td>\n",
              "      <td>1.0</td>\n",
              "      <td>0.0</td>\n",
              "      <td>1.0</td>\n",
              "      <td>0.0</td>\n",
              "      <td>1.0</td>\n",
              "      <td>0.0</td>\n",
              "    </tr>\n",
              "    <tr>\n",
              "      <th>4917</th>\n",
              "      <td>72301.121809</td>\n",
              "      <td>1.622830e+09</td>\n",
              "      <td>0.103260</td>\n",
              "      <td>0.103260</td>\n",
              "      <td>1117.186137</td>\n",
              "      <td>4918.0</td>\n",
              "      <td>93.0</td>\n",
              "      <td>93.0</td>\n",
              "      <td>1.0</td>\n",
              "      <td>2412.0</td>\n",
              "      <td>1.0</td>\n",
              "      <td>0.0</td>\n",
              "      <td>-67.0</td>\n",
              "      <td>4.0</td>\n",
              "      <td>1.0</td>\n",
              "      <td>1.0</td>\n",
              "      <td>2412.0</td>\n",
              "      <td>-67.0</td>\n",
              "      <td>744.0</td>\n",
              "      <td>192.0</td>\n",
              "      <td>0.0</td>\n",
              "      <td>0.0</td>\n",
              "      <td>454.0</td>\n",
              "      <td>221.0</td>\n",
              "      <td>5.0</td>\n",
              "      <td>1.0</td>\n",
              "      <td>0.0</td>\n",
              "      <td>1.0</td>\n",
              "      <td>0.0</td>\n",
              "      <td>1.0</td>\n",
              "      <td>0.0</td>\n",
              "    </tr>\n",
              "    <tr>\n",
              "      <th>4943</th>\n",
              "      <td>72307.295741</td>\n",
              "      <td>1.622830e+09</td>\n",
              "      <td>0.756930</td>\n",
              "      <td>0.756930</td>\n",
              "      <td>1123.360068</td>\n",
              "      <td>4944.0</td>\n",
              "      <td>84.0</td>\n",
              "      <td>84.0</td>\n",
              "      <td>1.0</td>\n",
              "      <td>2412.0</td>\n",
              "      <td>1.0</td>\n",
              "      <td>0.0</td>\n",
              "      <td>-59.0</td>\n",
              "      <td>4.0</td>\n",
              "      <td>1.0</td>\n",
              "      <td>1.0</td>\n",
              "      <td>2412.0</td>\n",
              "      <td>-59.0</td>\n",
              "      <td>672.0</td>\n",
              "      <td>192.0</td>\n",
              "      <td>0.0</td>\n",
              "      <td>0.0</td>\n",
              "      <td>491.0</td>\n",
              "      <td>3.0</td>\n",
              "      <td>1.0</td>\n",
              "      <td>1.0</td>\n",
              "      <td>0.0</td>\n",
              "      <td>1.0</td>\n",
              "      <td>0.0</td>\n",
              "      <td>1.0</td>\n",
              "      <td>0.0</td>\n",
              "    </tr>\n",
              "    <tr>\n",
              "      <th>4944</th>\n",
              "      <td>72307.297005</td>\n",
              "      <td>1.622830e+09</td>\n",
              "      <td>0.001264</td>\n",
              "      <td>0.001264</td>\n",
              "      <td>1123.361333</td>\n",
              "      <td>4945.0</td>\n",
              "      <td>82.0</td>\n",
              "      <td>82.0</td>\n",
              "      <td>1.0</td>\n",
              "      <td>2412.0</td>\n",
              "      <td>1.0</td>\n",
              "      <td>0.0</td>\n",
              "      <td>-59.0</td>\n",
              "      <td>4.0</td>\n",
              "      <td>1.0</td>\n",
              "      <td>1.0</td>\n",
              "      <td>2412.0</td>\n",
              "      <td>-59.0</td>\n",
              "      <td>656.0</td>\n",
              "      <td>192.0</td>\n",
              "      <td>0.0</td>\n",
              "      <td>0.0</td>\n",
              "      <td>492.0</td>\n",
              "      <td>3.0</td>\n",
              "      <td>1.0</td>\n",
              "      <td>1.0</td>\n",
              "      <td>0.0</td>\n",
              "      <td>1.0</td>\n",
              "      <td>0.0</td>\n",
              "      <td>1.0</td>\n",
              "      <td>0.0</td>\n",
              "    </tr>\n",
              "    <tr>\n",
              "      <th>...</th>\n",
              "      <td>...</td>\n",
              "      <td>...</td>\n",
              "      <td>...</td>\n",
              "      <td>...</td>\n",
              "      <td>...</td>\n",
              "      <td>...</td>\n",
              "      <td>...</td>\n",
              "      <td>...</td>\n",
              "      <td>...</td>\n",
              "      <td>...</td>\n",
              "      <td>...</td>\n",
              "      <td>...</td>\n",
              "      <td>...</td>\n",
              "      <td>...</td>\n",
              "      <td>...</td>\n",
              "      <td>...</td>\n",
              "      <td>...</td>\n",
              "      <td>...</td>\n",
              "      <td>...</td>\n",
              "      <td>...</td>\n",
              "      <td>...</td>\n",
              "      <td>...</td>\n",
              "      <td>...</td>\n",
              "      <td>...</td>\n",
              "      <td>...</td>\n",
              "      <td>...</td>\n",
              "      <td>...</td>\n",
              "      <td>...</td>\n",
              "      <td>...</td>\n",
              "      <td>...</td>\n",
              "      <td>...</td>\n",
              "    </tr>\n",
              "    <tr>\n",
              "      <th>24797</th>\n",
              "      <td>76281.966453</td>\n",
              "      <td>1.622834e+09</td>\n",
              "      <td>0.053706</td>\n",
              "      <td>0.053706</td>\n",
              "      <td>2262.324460</td>\n",
              "      <td>13145.0</td>\n",
              "      <td>84.0</td>\n",
              "      <td>84.0</td>\n",
              "      <td>1.0</td>\n",
              "      <td>2462.0</td>\n",
              "      <td>1.0</td>\n",
              "      <td>0.0</td>\n",
              "      <td>-67.0</td>\n",
              "      <td>4.0</td>\n",
              "      <td>1.0</td>\n",
              "      <td>11.0</td>\n",
              "      <td>2462.0</td>\n",
              "      <td>-67.0</td>\n",
              "      <td>672.0</td>\n",
              "      <td>192.0</td>\n",
              "      <td>0.0</td>\n",
              "      <td>0.0</td>\n",
              "      <td>411.0</td>\n",
              "      <td>3.0</td>\n",
              "      <td>1.0</td>\n",
              "      <td>1.0</td>\n",
              "      <td>0.0</td>\n",
              "      <td>1.0</td>\n",
              "      <td>0.0</td>\n",
              "      <td>1.0</td>\n",
              "      <td>0.0</td>\n",
              "    </tr>\n",
              "    <tr>\n",
              "      <th>24798</th>\n",
              "      <td>76281.972850</td>\n",
              "      <td>1.622834e+09</td>\n",
              "      <td>0.006396</td>\n",
              "      <td>0.006396</td>\n",
              "      <td>2262.330856</td>\n",
              "      <td>13146.0</td>\n",
              "      <td>82.0</td>\n",
              "      <td>82.0</td>\n",
              "      <td>1.0</td>\n",
              "      <td>2462.0</td>\n",
              "      <td>1.0</td>\n",
              "      <td>0.0</td>\n",
              "      <td>-67.0</td>\n",
              "      <td>4.0</td>\n",
              "      <td>1.0</td>\n",
              "      <td>11.0</td>\n",
              "      <td>2462.0</td>\n",
              "      <td>-67.0</td>\n",
              "      <td>656.0</td>\n",
              "      <td>192.0</td>\n",
              "      <td>0.0</td>\n",
              "      <td>0.0</td>\n",
              "      <td>412.0</td>\n",
              "      <td>3.0</td>\n",
              "      <td>1.0</td>\n",
              "      <td>1.0</td>\n",
              "      <td>0.0</td>\n",
              "      <td>1.0</td>\n",
              "      <td>0.0</td>\n",
              "      <td>1.0</td>\n",
              "      <td>0.0</td>\n",
              "    </tr>\n",
              "    <tr>\n",
              "      <th>24799</th>\n",
              "      <td>76281.975676</td>\n",
              "      <td>1.622834e+09</td>\n",
              "      <td>0.002826</td>\n",
              "      <td>0.002826</td>\n",
              "      <td>2262.333682</td>\n",
              "      <td>13147.0</td>\n",
              "      <td>78.0</td>\n",
              "      <td>78.0</td>\n",
              "      <td>1.0</td>\n",
              "      <td>2462.0</td>\n",
              "      <td>1.0</td>\n",
              "      <td>0.0</td>\n",
              "      <td>-67.0</td>\n",
              "      <td>4.0</td>\n",
              "      <td>1.0</td>\n",
              "      <td>11.0</td>\n",
              "      <td>2462.0</td>\n",
              "      <td>-67.0</td>\n",
              "      <td>624.0</td>\n",
              "      <td>192.0</td>\n",
              "      <td>0.0</td>\n",
              "      <td>0.0</td>\n",
              "      <td>413.0</td>\n",
              "      <td>3.0</td>\n",
              "      <td>1.0</td>\n",
              "      <td>1.0</td>\n",
              "      <td>0.0</td>\n",
              "      <td>1.0</td>\n",
              "      <td>0.0</td>\n",
              "      <td>1.0</td>\n",
              "      <td>0.0</td>\n",
              "    </tr>\n",
              "    <tr>\n",
              "      <th>25534</th>\n",
              "      <td>76395.489040</td>\n",
              "      <td>1.622834e+09</td>\n",
              "      <td>0.199413</td>\n",
              "      <td>0.199413</td>\n",
              "      <td>2375.847047</td>\n",
              "      <td>13882.0</td>\n",
              "      <td>78.0</td>\n",
              "      <td>78.0</td>\n",
              "      <td>1.0</td>\n",
              "      <td>2422.0</td>\n",
              "      <td>1.0</td>\n",
              "      <td>0.0</td>\n",
              "      <td>-69.0</td>\n",
              "      <td>4.0</td>\n",
              "      <td>1.0</td>\n",
              "      <td>3.0</td>\n",
              "      <td>2422.0</td>\n",
              "      <td>-69.0</td>\n",
              "      <td>624.0</td>\n",
              "      <td>192.0</td>\n",
              "      <td>0.0</td>\n",
              "      <td>0.0</td>\n",
              "      <td>437.0</td>\n",
              "      <td>3.0</td>\n",
              "      <td>1.0</td>\n",
              "      <td>1.0</td>\n",
              "      <td>0.0</td>\n",
              "      <td>1.0</td>\n",
              "      <td>0.0</td>\n",
              "      <td>1.0</td>\n",
              "      <td>0.0</td>\n",
              "    </tr>\n",
              "    <tr>\n",
              "      <th>25535</th>\n",
              "      <td>76395.553973</td>\n",
              "      <td>1.622834e+09</td>\n",
              "      <td>0.064932</td>\n",
              "      <td>0.064932</td>\n",
              "      <td>2375.911979</td>\n",
              "      <td>13883.0</td>\n",
              "      <td>78.0</td>\n",
              "      <td>78.0</td>\n",
              "      <td>1.0</td>\n",
              "      <td>2422.0</td>\n",
              "      <td>1.0</td>\n",
              "      <td>0.0</td>\n",
              "      <td>-67.0</td>\n",
              "      <td>4.0</td>\n",
              "      <td>1.0</td>\n",
              "      <td>3.0</td>\n",
              "      <td>2422.0</td>\n",
              "      <td>-67.0</td>\n",
              "      <td>624.0</td>\n",
              "      <td>192.0</td>\n",
              "      <td>0.0</td>\n",
              "      <td>0.0</td>\n",
              "      <td>440.0</td>\n",
              "      <td>3.0</td>\n",
              "      <td>1.0</td>\n",
              "      <td>1.0</td>\n",
              "      <td>0.0</td>\n",
              "      <td>1.0</td>\n",
              "      <td>0.0</td>\n",
              "      <td>1.0</td>\n",
              "      <td>0.0</td>\n",
              "    </tr>\n",
              "  </tbody>\n",
              "</table>\n",
              "<p>96 rows × 31 columns</p>\n",
              "</div>"
            ],
            "text/plain": [
              "       layers.frame.frame.time  ...  layers.wlan.wlan.fc_tree.wlan.flags_0x00000008\n",
              "4785              72279.930467  ...                                             0.0\n",
              "4916              72301.018549  ...                                             0.0\n",
              "4917              72301.121809  ...                                             0.0\n",
              "4943              72307.295741  ...                                             0.0\n",
              "4944              72307.297005  ...                                             0.0\n",
              "...                        ...  ...                                             ...\n",
              "24797             76281.966453  ...                                             0.0\n",
              "24798             76281.972850  ...                                             0.0\n",
              "24799             76281.975676  ...                                             0.0\n",
              "25534             76395.489040  ...                                             0.0\n",
              "25535             76395.553973  ...                                             0.0\n",
              "\n",
              "[96 rows x 31 columns]"
            ]
          },
          "metadata": {
            "tags": []
          },
          "execution_count": 107
        }
      ]
    },
    {
      "cell_type": "code",
      "metadata": {
        "id": "K1DM1sznpDwv"
      },
      "source": [
        ""
      ],
      "execution_count": null,
      "outputs": []
    },
    {
      "cell_type": "code",
      "metadata": {
        "id": "yMnZViVUpDzs"
      },
      "source": [
        "df['labels'] = df_labels"
      ],
      "execution_count": null,
      "outputs": []
    },
    {
      "cell_type": "code",
      "metadata": {
        "id": "00S6ZC9dpD2j"
      },
      "source": [
        "temp_df = df.groupby('labels')['layers.frame.frame.len'].mean().reset_index()"
      ],
      "execution_count": null,
      "outputs": []
    },
    {
      "cell_type": "code",
      "metadata": {
        "colab": {
          "base_uri": "https://localhost:8080/",
          "height": 417
        },
        "id": "cb_kOez1vxAp",
        "outputId": "224fa692-75d4-4fa0-e44c-f10f325d427c"
      },
      "source": [
        "temp_df"
      ],
      "execution_count": null,
      "outputs": [
        {
          "output_type": "execute_result",
          "data": {
            "text/html": [
              "<div>\n",
              "<style scoped>\n",
              "    .dataframe tbody tr th:only-of-type {\n",
              "        vertical-align: middle;\n",
              "    }\n",
              "\n",
              "    .dataframe tbody tr th {\n",
              "        vertical-align: top;\n",
              "    }\n",
              "\n",
              "    .dataframe thead th {\n",
              "        text-align: right;\n",
              "    }\n",
              "</style>\n",
              "<table border=\"1\" class=\"dataframe\">\n",
              "  <thead>\n",
              "    <tr style=\"text-align: right;\">\n",
              "      <th></th>\n",
              "      <th>labels</th>\n",
              "      <th>layers.frame.frame.len</th>\n",
              "    </tr>\n",
              "  </thead>\n",
              "  <tbody>\n",
              "    <tr>\n",
              "      <th>0</th>\n",
              "      <td>00:b5:d0:bc:d2:0d</td>\n",
              "      <td>109.983193</td>\n",
              "    </tr>\n",
              "    <tr>\n",
              "      <th>1</th>\n",
              "      <td>04:d6:aa:be:2e:57</td>\n",
              "      <td>179.000000</td>\n",
              "    </tr>\n",
              "    <tr>\n",
              "      <th>2</th>\n",
              "      <td>0c:2c:54:7e:c9:3d</td>\n",
              "      <td>79.364964</td>\n",
              "    </tr>\n",
              "    <tr>\n",
              "      <th>3</th>\n",
              "      <td>0c:b3:19:5c:00:47</td>\n",
              "      <td>111.566524</td>\n",
              "    </tr>\n",
              "    <tr>\n",
              "      <th>4</th>\n",
              "      <td>0c:b5:27:3f:3d:e5</td>\n",
              "      <td>70.545455</td>\n",
              "    </tr>\n",
              "    <tr>\n",
              "      <th>...</th>\n",
              "      <td>...</td>\n",
              "      <td>...</td>\n",
              "    </tr>\n",
              "    <tr>\n",
              "      <th>95</th>\n",
              "      <td>f0:0f:ec:62:06:05</td>\n",
              "      <td>122.000000</td>\n",
              "    </tr>\n",
              "    <tr>\n",
              "      <th>96</th>\n",
              "      <td>f0:79:e8:bc:0b:53</td>\n",
              "      <td>74.330357</td>\n",
              "    </tr>\n",
              "    <tr>\n",
              "      <th>97</th>\n",
              "      <td>f0:79:e8:cb:e4:12</td>\n",
              "      <td>72.684685</td>\n",
              "    </tr>\n",
              "    <tr>\n",
              "      <th>98</th>\n",
              "      <td>f4:09:d8:16:ab:12</td>\n",
              "      <td>161.210526</td>\n",
              "    </tr>\n",
              "    <tr>\n",
              "      <th>99</th>\n",
              "      <td>f4:9f:f3:f5:f7:f1</td>\n",
              "      <td>76.822653</td>\n",
              "    </tr>\n",
              "  </tbody>\n",
              "</table>\n",
              "<p>100 rows × 2 columns</p>\n",
              "</div>"
            ],
            "text/plain": [
              "               labels  layers.frame.frame.len\n",
              "0   00:b5:d0:bc:d2:0d              109.983193\n",
              "1   04:d6:aa:be:2e:57              179.000000\n",
              "2   0c:2c:54:7e:c9:3d               79.364964\n",
              "3   0c:b3:19:5c:00:47              111.566524\n",
              "4   0c:b5:27:3f:3d:e5               70.545455\n",
              "..                ...                     ...\n",
              "95  f0:0f:ec:62:06:05              122.000000\n",
              "96  f0:79:e8:bc:0b:53               74.330357\n",
              "97  f0:79:e8:cb:e4:12               72.684685\n",
              "98  f4:09:d8:16:ab:12              161.210526\n",
              "99  f4:9f:f3:f5:f7:f1               76.822653\n",
              "\n",
              "[100 rows x 2 columns]"
            ]
          },
          "metadata": {
            "tags": []
          },
          "execution_count": 124
        }
      ]
    },
    {
      "cell_type": "code",
      "metadata": {
        "id": "yMjmstUlpD5b",
        "colab": {
          "base_uri": "https://localhost:8080/",
          "height": 297
        },
        "outputId": "0b2d7eb6-b1b7-4f9c-f2ef-619c18b1660e"
      },
      "source": [
        "import seaborn as sb\n",
        "sb.barplot(data=df, x='labels', y='layers.frame.frame.len')"
      ],
      "execution_count": null,
      "outputs": [
        {
          "output_type": "execute_result",
          "data": {
            "text/plain": [
              "<matplotlib.axes._subplots.AxesSubplot at 0x7f6a7b6d4bd0>"
            ]
          },
          "metadata": {
            "tags": []
          },
          "execution_count": 125
        },
        {
          "output_type": "display_data",
          "data": {
            "image/png": "[encoded data removed]",
            "text/plain": [
              "<Figure size 432x288 with 1 Axes>"
            ]
          },
          "metadata": {
            "tags": [],
            "needs_background": "light"
          }
        }
      ]
    },
    {
      "cell_type": "code",
      "metadata": {
        "id": "gUleZmyipD78"
      },
      "source": [
        ""
      ],
      "execution_count": null,
      "outputs": []
    },
    {
      "cell_type": "code",
      "metadata": {
        "id": "n2y93ZWkpD_a"
      },
      "source": [
        ""
      ],
      "execution_count": null,
      "outputs": []
    },
    {
      "cell_type": "code",
      "metadata": {
        "id": "uxDRGZl5pEB2"
      },
      "source": [
        ""
      ],
      "execution_count": null,
      "outputs": []
    },
    {
      "cell_type": "code",
      "metadata": {
        "id": "p8QstNrWpEEE"
      },
      "source": [
        ""
      ],
      "execution_count": null,
      "outputs": []
    },
    {
      "cell_type": "code",
      "metadata": {
        "id": "1_9ZoingpEGg"
      },
      "source": [
        ""
      ],
      "execution_count": null,
      "outputs": []
    },
    {
      "cell_type": "code",
      "metadata": {
        "id": "SPqUt7ijpERE"
      },
      "source": [
        ""
      ],
      "execution_count": null,
      "outputs": []
    },
    {
      "cell_type": "code",
      "metadata": {
        "id": "_VQeQSb8pET2"
      },
      "source": [
        ""
      ],
      "execution_count": null,
      "outputs": []
    },
    {
      "cell_type": "code",
      "metadata": {
        "id": "mNvw06SspEV3"
      },
      "source": [
        ""
      ],
      "execution_count": null,
      "outputs": []
    },
    {
      "cell_type": "code",
      "metadata": {
        "id": "uCv0QdLjpEXw"
      },
      "source": [
        ""
      ],
      "execution_count": null,
      "outputs": []
    },
    {
      "cell_type": "code",
      "metadata": {
        "colab": {
          "base_uri": "https://localhost:8080/"
        },
        "id": "2Owb65m7Asj7",
        "outputId": "4c94432d-007e-4e03-f705-397ef4e5deb8"
      },
      "source": [
        "from google.colab import drive\n",
        "drive.mount('/content/drive')"
      ],
      "execution_count": null,
      "outputs": [
        {
          "output_type": "stream",
          "text": [
            "Drive already mounted at /content/drive; to attempt to forcibly remount, call drive.mount(\"/content/drive\", force_remount=True).\n"
          ],
          "name": "stdout"
        }
      ]
    },
    {
      "cell_type": "code",
      "metadata": {
        "id": "aNKDYMDow1ni"
      },
      "source": [
        "with open('/content/drive/MyDrive/Network dataset/probs_aaaaaaabap') as f:\n",
        "    data = f.readlines()\n",
        "    data = [json.loads(line) for line in data] #convert string to dict format\n"
      ],
      "execution_count": null,
      "outputs": []
    },
    {
      "cell_type": "code",
      "metadata": {
        "id": "5Ank1psixxyU"
      },
      "source": [
        "data = [item for i, item in enumerate(data) if i % 2 == 1 ]"
      ],
      "execution_count": null,
      "outputs": []
    },
    {
      "cell_type": "code",
      "metadata": {
        "id": "nef_TSlqxnEF"
      },
      "source": [
        "df1 = pd.DataFrame(data)"
      ],
      "execution_count": null,
      "outputs": []
    },
    {
      "cell_type": "code",
      "metadata": {
        "id": "vPfqjuLiUGc7"
      },
      "source": [
        "df1.head(50)"
      ],
      "execution_count": null,
      "outputs": []
    },
    {
      "cell_type": "code",
      "metadata": {
        "id": "3bPy9AKKn4WE",
        "colab": {
          "base_uri": "https://localhost:8080/",
          "height": 306
        },
        "outputId": "ae039145-184c-4b9e-bbbf-1a07a6a018b4"
      },
      "source": [
        "df2 = pd.json_normalize(df1['layers'])"
      ],
      "execution_count": null,
      "outputs": [
        {
          "output_type": "error",
          "ename": "AttributeError",
          "evalue": "ignored",
          "traceback": [
            "\u001b[0;31m---------------------------------------------------------------------------\u001b[0m",
            "\u001b[0;31mAttributeError\u001b[0m                            Traceback (most recent call last)",
            "\u001b[0;32m<ipython-input-56-692016b20085>\u001b[0m in \u001b[0;36m<module>\u001b[0;34m()\u001b[0m\n\u001b[0;32m----> 1\u001b[0;31m \u001b[0mdf2\u001b[0m \u001b[0;34m=\u001b[0m \u001b[0mpd\u001b[0m\u001b[0;34m.\u001b[0m\u001b[0mjson_normalize\u001b[0m\u001b[0;34m(\u001b[0m\u001b[0mdf1\u001b[0m\u001b[0;34m[\u001b[0m\u001b[0;34m'layers'\u001b[0m\u001b[0;34m]\u001b[0m\u001b[0;34m)\u001b[0m\u001b[0;34m\u001b[0m\u001b[0;34m\u001b[0m\u001b[0m\n\u001b[0m",
            "\u001b[0;32m/usr/local/lib/python3.7/dist-packages/pandas/io/json/_normalize.py\u001b[0m in \u001b[0;36m_json_normalize\u001b[0;34m(data, record_path, meta, meta_prefix, record_prefix, errors, sep, max_level)\u001b[0m\n\u001b[1;32m    268\u001b[0m \u001b[0;34m\u001b[0m\u001b[0m\n\u001b[1;32m    269\u001b[0m     \u001b[0;32mif\u001b[0m \u001b[0mrecord_path\u001b[0m \u001b[0;32mis\u001b[0m \u001b[0;32mNone\u001b[0m\u001b[0;34m:\u001b[0m\u001b[0;34m\u001b[0m\u001b[0;34m\u001b[0m\u001b[0m\n\u001b[0;32m--> 270\u001b[0;31m         \u001b[0;32mif\u001b[0m \u001b[0many\u001b[0m\u001b[0;34m(\u001b[0m\u001b[0;34m[\u001b[0m\u001b[0misinstance\u001b[0m\u001b[0;34m(\u001b[0m\u001b[0mx\u001b[0m\u001b[0;34m,\u001b[0m \u001b[0mdict\u001b[0m\u001b[0;34m)\u001b[0m \u001b[0;32mfor\u001b[0m \u001b[0mx\u001b[0m \u001b[0;32min\u001b[0m \u001b[0my\u001b[0m\u001b[0;34m.\u001b[0m\u001b[0mvalues\u001b[0m\u001b[0;34m(\u001b[0m\u001b[0;34m)\u001b[0m\u001b[0;34m]\u001b[0m \u001b[0;32mfor\u001b[0m \u001b[0my\u001b[0m \u001b[0;32min\u001b[0m \u001b[0mdata\u001b[0m\u001b[0;34m)\u001b[0m\u001b[0;34m:\u001b[0m\u001b[0;34m\u001b[0m\u001b[0;34m\u001b[0m\u001b[0m\n\u001b[0m\u001b[1;32m    271\u001b[0m             \u001b[0;31m# naive normalization, this is idempotent for flat records\u001b[0m\u001b[0;34m\u001b[0m\u001b[0;34m\u001b[0m\u001b[0;34m\u001b[0m\u001b[0m\n\u001b[1;32m    272\u001b[0m             \u001b[0;31m# and potentially will inflate the data considerably for\u001b[0m\u001b[0;34m\u001b[0m\u001b[0;34m\u001b[0m\u001b[0;34m\u001b[0m\u001b[0m\n",
            "\u001b[0;32m/usr/local/lib/python3.7/dist-packages/pandas/io/json/_normalize.py\u001b[0m in \u001b[0;36m<genexpr>\u001b[0;34m(.0)\u001b[0m\n\u001b[1;32m    268\u001b[0m \u001b[0;34m\u001b[0m\u001b[0m\n\u001b[1;32m    269\u001b[0m     \u001b[0;32mif\u001b[0m \u001b[0mrecord_path\u001b[0m \u001b[0;32mis\u001b[0m \u001b[0;32mNone\u001b[0m\u001b[0;34m:\u001b[0m\u001b[0;34m\u001b[0m\u001b[0;34m\u001b[0m\u001b[0m\n\u001b[0;32m--> 270\u001b[0;31m         \u001b[0;32mif\u001b[0m \u001b[0many\u001b[0m\u001b[0;34m(\u001b[0m\u001b[0;34m[\u001b[0m\u001b[0misinstance\u001b[0m\u001b[0;34m(\u001b[0m\u001b[0mx\u001b[0m\u001b[0;34m,\u001b[0m \u001b[0mdict\u001b[0m\u001b[0;34m)\u001b[0m \u001b[0;32mfor\u001b[0m \u001b[0mx\u001b[0m \u001b[0;32min\u001b[0m \u001b[0my\u001b[0m\u001b[0;34m.\u001b[0m\u001b[0mvalues\u001b[0m\u001b[0;34m(\u001b[0m\u001b[0;34m)\u001b[0m\u001b[0;34m]\u001b[0m \u001b[0;32mfor\u001b[0m \u001b[0my\u001b[0m \u001b[0;32min\u001b[0m \u001b[0mdata\u001b[0m\u001b[0;34m)\u001b[0m\u001b[0;34m:\u001b[0m\u001b[0;34m\u001b[0m\u001b[0;34m\u001b[0m\u001b[0m\n\u001b[0m\u001b[1;32m    271\u001b[0m             \u001b[0;31m# naive normalization, this is idempotent for flat records\u001b[0m\u001b[0;34m\u001b[0m\u001b[0;34m\u001b[0m\u001b[0;34m\u001b[0m\u001b[0m\n\u001b[1;32m    272\u001b[0m             \u001b[0;31m# and potentially will inflate the data considerably for\u001b[0m\u001b[0;34m\u001b[0m\u001b[0;34m\u001b[0m\u001b[0;34m\u001b[0m\u001b[0m\n",
            "\u001b[0;31mAttributeError\u001b[0m: 'float' object has no attribute 'values'"
          ]
        }
      ]
    },
    {
      "cell_type": "code",
      "metadata": {
        "colab": {
          "base_uri": "https://localhost:8080/"
        },
        "id": "ei2VXxcg8Zij",
        "outputId": "49a8bccb-0ad5-412c-8733-40bd24fb7603"
      },
      "source": [
        "df1.info"
      ],
      "execution_count": null,
      "outputs": [
        {
          "output_type": "execute_result",
          "data": {
            "text/plain": [
              "<bound method DataFrame.info of                                                 index  ...                                             layers\n",
              "0    {'_index': 'packets-2021-06-04', '_type': 'doc'}  ...                                                NaN\n",
              "1                                                 NaN  ...  {'frame_raw': '000018002e4000a0200800000002800...\n",
              "2    {'_index': 'packets-2021-06-04', '_type': 'doc'}  ...                                                NaN\n",
              "3                                                 NaN  ...  {'frame_raw': '000018002e4000a0200800000002800...\n",
              "4    {'_index': 'packets-2021-06-04', '_type': 'doc'}  ...                                                NaN\n",
              "..                                                ...  ...                                                ...\n",
              "995                                               NaN  ...  {'frame_raw': '000018002e4000a0200800000002710...\n",
              "996  {'_index': 'packets-2021-06-04', '_type': 'doc'}  ...                                                NaN\n",
              "997                                               NaN  ...  {'frame_raw': '000018002e4000a0200800000002710...\n",
              "998  {'_index': 'packets-2021-06-04', '_type': 'doc'}  ...                                                NaN\n",
              "999                                               NaN  ...  {'frame_raw': '000018002e4000a020080000000b710...\n",
              "\n",
              "[1000 rows x 3 columns]>"
            ]
          },
          "metadata": {
            "tags": []
          },
          "execution_count": 57
        }
      ]
    },
    {
      "cell_type": "code",
      "metadata": {
        "id": "zr3szwA-znhV",
        "colab": {
          "base_uri": "https://localhost:8080/",
          "height": 338
        },
        "outputId": "17bee5c7-7d16-4660-a900-715049057b38"
      },
      "source": [
        "df2.head()"
      ],
      "execution_count": null,
      "outputs": [
        {
          "output_type": "execute_result",
          "data": {
            "text/html": [
              "<div>\n",
              "<style scoped>\n",
              "    .dataframe tbody tr th:only-of-type {\n",
              "        vertical-align: middle;\n",
              "    }\n",
              "\n",
              "    .dataframe tbody tr th {\n",
              "        vertical-align: top;\n",
              "    }\n",
              "\n",
              "    .dataframe thead th {\n",
              "        text-align: right;\n",
              "    }\n",
              "</style>\n",
              "<table border=\"1\" class=\"dataframe\">\n",
              "  <thead>\n",
              "    <tr style=\"text-align: right;\">\n",
              "      <th></th>\n",
              "      <th>frame_raw</th>\n",
              "      <th>radiotap_raw</th>\n",
              "      <th>wlan_raw</th>\n",
              "      <th>frame.frame_frame_interface_id</th>\n",
              "      <th>frame.frame_frame_interface_name</th>\n",
              "      <th>frame.frame_frame_encap_type</th>\n",
              "      <th>frame.frame_frame_time</th>\n",
              "      <th>frame.frame_frame_offset_shift</th>\n",
              "      <th>frame.frame_frame_time_epoch</th>\n",
              "      <th>frame.frame_frame_time_delta</th>\n",
              "      <th>frame.frame_frame_time_delta_displayed</th>\n",
              "      <th>frame.frame_frame_time_relative</th>\n",
              "      <th>frame.frame_frame_number</th>\n",
              "      <th>frame.frame_frame_len</th>\n",
              "      <th>frame.frame_frame_cap_len</th>\n",
              "      <th>frame.frame_frame_marked</th>\n",
              "      <th>frame.frame_frame_ignored</th>\n",
              "      <th>frame.frame_frame_protocols</th>\n",
              "      <th>radiotap.radiotap_radiotap_version_raw</th>\n",
              "      <th>radiotap.radiotap_radiotap_version</th>\n",
              "      <th>radiotap.radiotap_radiotap_pad_raw</th>\n",
              "      <th>radiotap.radiotap_radiotap_pad</th>\n",
              "      <th>radiotap.radiotap_radiotap_length_raw</th>\n",
              "      <th>radiotap.radiotap_radiotap_length</th>\n",
              "      <th>radiotap.radiotap_radiotap_present_raw</th>\n",
              "      <th>radiotap.radiotap_radiotap_present</th>\n",
              "      <th>radiotap.radiotap_radiotap_present_word_raw</th>\n",
              "      <th>radiotap.radiotap_radiotap_present_word</th>\n",
              "      <th>radiotap.radiotap_radiotap_present_tsft_raw</th>\n",
              "      <th>radiotap.radiotap_radiotap_present_tsft</th>\n",
              "      <th>radiotap.radiotap_radiotap_present_flags_raw</th>\n",
              "      <th>radiotap.radiotap_radiotap_present_flags</th>\n",
              "      <th>radiotap.radiotap_radiotap_present_rate_raw</th>\n",
              "      <th>radiotap.radiotap_radiotap_present_rate</th>\n",
              "      <th>radiotap.radiotap_radiotap_present_channel_raw</th>\n",
              "      <th>radiotap.radiotap_radiotap_present_channel</th>\n",
              "      <th>radiotap.radiotap_radiotap_present_fhss_raw</th>\n",
              "      <th>radiotap.radiotap_radiotap_present_fhss</th>\n",
              "      <th>radiotap.radiotap_radiotap_present_dbm_antsignal_raw</th>\n",
              "      <th>radiotap.radiotap_radiotap_present_dbm_antsignal</th>\n",
              "      <th>...</th>\n",
              "      <th>wlan_wlan_mgt.wps_wps_primary_device_type</th>\n",
              "      <th>wlan_wlan_mgt.wps_wps_primary_device_type_category_raw</th>\n",
              "      <th>wlan_wlan_mgt.wps_wps_primary_device_type_category</th>\n",
              "      <th>wlan_wlan_mgt.wps_wps_primary_device_type_subcategory_network_infrastructure_raw</th>\n",
              "      <th>wlan_wlan_mgt.wps_wps_primary_device_type_subcategory_network_infrastructure</th>\n",
              "      <th>wlan_wlan_mgt.wps_wps_device_name_raw</th>\n",
              "      <th>wlan_wlan_mgt.wps_wps_device_name</th>\n",
              "      <th>wlan_wlan_mgt.wps_wps_config_methods_raw</th>\n",
              "      <th>wlan_wlan_mgt.wps_wps_config_methods</th>\n",
              "      <th>wlan_wlan_mgt.wps_wps_config_methods_usba_raw</th>\n",
              "      <th>wlan_wlan_mgt.wps_wps_config_methods_usba</th>\n",
              "      <th>wlan_wlan_mgt.wps_wps_config_methods_ethernet_raw</th>\n",
              "      <th>wlan_wlan_mgt.wps_wps_config_methods_ethernet</th>\n",
              "      <th>wlan_wlan_mgt.wps_wps_config_methods_label_raw</th>\n",
              "      <th>wlan_wlan_mgt.wps_wps_config_methods_label</th>\n",
              "      <th>wlan_wlan_mgt.wps_wps_config_methods_display_raw</th>\n",
              "      <th>wlan_wlan_mgt.wps_wps_config_methods_display</th>\n",
              "      <th>wlan_wlan_mgt.wps_wps_config_methods_virt_display_raw</th>\n",
              "      <th>wlan_wlan_mgt.wps_wps_config_methods_virt_display</th>\n",
              "      <th>wlan_wlan_mgt.wps_wps_config_methods_phy_display_raw</th>\n",
              "      <th>wlan_wlan_mgt.wps_wps_config_methods_phy_display</th>\n",
              "      <th>wlan_wlan_mgt.wps_wps_config_methods_nfcext_raw</th>\n",
              "      <th>wlan_wlan_mgt.wps_wps_config_methods_nfcext</th>\n",
              "      <th>wlan_wlan_mgt.wps_wps_config_methods_nfcint_raw</th>\n",
              "      <th>wlan_wlan_mgt.wps_wps_config_methods_nfcint</th>\n",
              "      <th>wlan_wlan_mgt.wps_wps_config_methods_nfcinf_raw</th>\n",
              "      <th>wlan_wlan_mgt.wps_wps_config_methods_nfcinf</th>\n",
              "      <th>wlan_wlan_mgt.wps_wps_config_methods_pushbutton_raw</th>\n",
              "      <th>wlan_wlan_mgt.wps_wps_config_methods_pushbutton</th>\n",
              "      <th>wlan_wlan_mgt.wps_wps_config_methods_virt_pushbutton_raw</th>\n",
              "      <th>wlan_wlan_mgt.wps_wps_config_methods_virt_pushbutton</th>\n",
              "      <th>wlan_wlan_mgt.wps_wps_config_methods_phy_pushbutton_raw</th>\n",
              "      <th>wlan_wlan_mgt.wps_wps_config_methods_phy_pushbutton</th>\n",
              "      <th>wlan_wlan_mgt.wps_wps_config_methods_keypad_raw</th>\n",
              "      <th>wlan_wlan_mgt.wps_wps_config_methods_keypad</th>\n",
              "      <th>wlan_wlan_mgt._ws_expert.wlan_wlan_tag_length_bad</th>\n",
              "      <th>_ws_malformed._ws_expert._ws_malformed__ws_malformed_expert</th>\n",
              "      <th>_ws_malformed._ws_expert._ws_expert__ws_expert_message</th>\n",
              "      <th>_ws_malformed._ws_expert._ws_expert__ws_expert_severity</th>\n",
              "      <th>_ws_malformed._ws_expert._ws_expert__ws_expert_group</th>\n",
              "    </tr>\n",
              "  </thead>\n",
              "  <tbody>\n",
              "    <tr>\n",
              "      <th>0</th>\n",
              "      <td>000018002e4000a02008000000028009a000bd000000bd...</td>\n",
              "      <td>000018002e4000a02008000000028009a000bd000000bd00</td>\n",
              "      <td>8400ca0198f6218d84c5ce8e5eafc411</td>\n",
              "      <td>0</td>\n",
              "      <td>wlan1</td>\n",
              "      <td>23</td>\n",
              "      <td>2021-06-04T19:13:42.548126821Z</td>\n",
              "      <td>0.000000000</td>\n",
              "      <td>1622834022.548126821</td>\n",
              "      <td>0.000624361</td>\n",
              "      <td>0.000624361</td>\n",
              "      <td>2402.945204999</td>\n",
              "      <td>345501</td>\n",
              "      <td>44</td>\n",
              "      <td>44</td>\n",
              "      <td>False</td>\n",
              "      <td>False</td>\n",
              "      <td>radiotap:wlan_radio:wlan</td>\n",
              "      <td>00</td>\n",
              "      <td>0</td>\n",
              "      <td>00</td>\n",
              "      <td>0</td>\n",
              "      <td>1800</td>\n",
              "      <td>24</td>\n",
              "      <td>2e4000a020080000</td>\n",
              "      <td>None</td>\n",
              "      <td>[2e4000a0, 20080000]</td>\n",
              "      <td>[0xa000402e, 0x00000820]</td>\n",
              "      <td>[0, 0]</td>\n",
              "      <td>[False, False]</td>\n",
              "      <td>[1, 0]</td>\n",
              "      <td>[True, False]</td>\n",
              "      <td>[1, 0]</td>\n",
              "      <td>[True, False]</td>\n",
              "      <td>[1, 0]</td>\n",
              "      <td>[True, False]</td>\n",
              "      <td>[0, 0]</td>\n",
              "      <td>[False, False]</td>\n",
              "      <td>[1, 1]</td>\n",
              "      <td>[True, True]</td>\n",
              "      <td>...</td>\n",
              "      <td>NaN</td>\n",
              "      <td>NaN</td>\n",
              "      <td>NaN</td>\n",
              "      <td>NaN</td>\n",
              "      <td>NaN</td>\n",
              "      <td>NaN</td>\n",
              "      <td>NaN</td>\n",
              "      <td>NaN</td>\n",
              "      <td>NaN</td>\n",
              "      <td>NaN</td>\n",
              "      <td>NaN</td>\n",
              "      <td>NaN</td>\n",
              "      <td>NaN</td>\n",
              "      <td>NaN</td>\n",
              "      <td>NaN</td>\n",
              "      <td>NaN</td>\n",
              "      <td>NaN</td>\n",
              "      <td>NaN</td>\n",
              "      <td>NaN</td>\n",
              "      <td>NaN</td>\n",
              "      <td>NaN</td>\n",
              "      <td>NaN</td>\n",
              "      <td>NaN</td>\n",
              "      <td>NaN</td>\n",
              "      <td>NaN</td>\n",
              "      <td>NaN</td>\n",
              "      <td>NaN</td>\n",
              "      <td>NaN</td>\n",
              "      <td>NaN</td>\n",
              "      <td>NaN</td>\n",
              "      <td>NaN</td>\n",
              "      <td>NaN</td>\n",
              "      <td>NaN</td>\n",
              "      <td>NaN</td>\n",
              "      <td>NaN</td>\n",
              "      <td>NaN</td>\n",
              "      <td>NaN</td>\n",
              "      <td>NaN</td>\n",
              "      <td>NaN</td>\n",
              "      <td>NaN</td>\n",
              "    </tr>\n",
              "    <tr>\n",
              "      <th>1</th>\n",
              "      <td>000018002e4000a02008000000028009a000bd000000bd...</td>\n",
              "      <td>000018002e4000a02008000000028009a000bd000000bd00</td>\n",
              "      <td>8408ca0198f6218d84c5ce8e5eafc411</td>\n",
              "      <td>0</td>\n",
              "      <td>wlan1</td>\n",
              "      <td>23</td>\n",
              "      <td>2021-06-04T19:13:42.548934041Z</td>\n",
              "      <td>0.000000000</td>\n",
              "      <td>1622834022.548934041</td>\n",
              "      <td>0.000807220</td>\n",
              "      <td>0.000807220</td>\n",
              "      <td>2402.946012219</td>\n",
              "      <td>345502</td>\n",
              "      <td>44</td>\n",
              "      <td>44</td>\n",
              "      <td>False</td>\n",
              "      <td>False</td>\n",
              "      <td>radiotap:wlan_radio:wlan</td>\n",
              "      <td>00</td>\n",
              "      <td>0</td>\n",
              "      <td>00</td>\n",
              "      <td>0</td>\n",
              "      <td>1800</td>\n",
              "      <td>24</td>\n",
              "      <td>2e4000a020080000</td>\n",
              "      <td>None</td>\n",
              "      <td>[2e4000a0, 20080000]</td>\n",
              "      <td>[0xa000402e, 0x00000820]</td>\n",
              "      <td>[0, 0]</td>\n",
              "      <td>[False, False]</td>\n",
              "      <td>[1, 0]</td>\n",
              "      <td>[True, False]</td>\n",
              "      <td>[1, 0]</td>\n",
              "      <td>[True, False]</td>\n",
              "      <td>[1, 0]</td>\n",
              "      <td>[True, False]</td>\n",
              "      <td>[0, 0]</td>\n",
              "      <td>[False, False]</td>\n",
              "      <td>[1, 1]</td>\n",
              "      <td>[True, True]</td>\n",
              "      <td>...</td>\n",
              "      <td>NaN</td>\n",
              "      <td>NaN</td>\n",
              "      <td>NaN</td>\n",
              "      <td>NaN</td>\n",
              "      <td>NaN</td>\n",
              "      <td>NaN</td>\n",
              "      <td>NaN</td>\n",
              "      <td>NaN</td>\n",
              "      <td>NaN</td>\n",
              "      <td>NaN</td>\n",
              "      <td>NaN</td>\n",
              "      <td>NaN</td>\n",
              "      <td>NaN</td>\n",
              "      <td>NaN</td>\n",
              "      <td>NaN</td>\n",
              "      <td>NaN</td>\n",
              "      <td>NaN</td>\n",
              "      <td>NaN</td>\n",
              "      <td>NaN</td>\n",
              "      <td>NaN</td>\n",
              "      <td>NaN</td>\n",
              "      <td>NaN</td>\n",
              "      <td>NaN</td>\n",
              "      <td>NaN</td>\n",
              "      <td>NaN</td>\n",
              "      <td>NaN</td>\n",
              "      <td>NaN</td>\n",
              "      <td>NaN</td>\n",
              "      <td>NaN</td>\n",
              "      <td>NaN</td>\n",
              "      <td>NaN</td>\n",
              "      <td>NaN</td>\n",
              "      <td>NaN</td>\n",
              "      <td>NaN</td>\n",
              "      <td>NaN</td>\n",
              "      <td>NaN</td>\n",
              "      <td>NaN</td>\n",
              "      <td>NaN</td>\n",
              "      <td>NaN</td>\n",
              "      <td>NaN</td>\n",
              "    </tr>\n",
              "    <tr>\n",
              "      <th>2</th>\n",
              "      <td>000018002e4000a02008000000028009a000b5000000b5...</td>\n",
              "      <td>000018002e4000a02008000000028009a000b5000000b500</td>\n",
              "      <td>40000000ffffffffffff0ed67c69ef0dffffffffffff0053</td>\n",
              "      <td>0</td>\n",
              "      <td>wlan1</td>\n",
              "      <td>23</td>\n",
              "      <td>2021-06-04T19:13:42.549788876Z</td>\n",
              "      <td>0.000000000</td>\n",
              "      <td>1622834022.549788876</td>\n",
              "      <td>0.000854835</td>\n",
              "      <td>0.000854835</td>\n",
              "      <td>2402.946867054</td>\n",
              "      <td>345503</td>\n",
              "      <td>78</td>\n",
              "      <td>78</td>\n",
              "      <td>False</td>\n",
              "      <td>False</td>\n",
              "      <td>radiotap:wlan_radio:wlan</td>\n",
              "      <td>00</td>\n",
              "      <td>0</td>\n",
              "      <td>00</td>\n",
              "      <td>0</td>\n",
              "      <td>1800</td>\n",
              "      <td>24</td>\n",
              "      <td>2e4000a020080000</td>\n",
              "      <td>None</td>\n",
              "      <td>[2e4000a0, 20080000]</td>\n",
              "      <td>[0xa000402e, 0x00000820]</td>\n",
              "      <td>[0, 0]</td>\n",
              "      <td>[False, False]</td>\n",
              "      <td>[1, 0]</td>\n",
              "      <td>[True, False]</td>\n",
              "      <td>[1, 0]</td>\n",
              "      <td>[True, False]</td>\n",
              "      <td>[1, 0]</td>\n",
              "      <td>[True, False]</td>\n",
              "      <td>[0, 0]</td>\n",
              "      <td>[False, False]</td>\n",
              "      <td>[1, 1]</td>\n",
              "      <td>[True, True]</td>\n",
              "      <td>...</td>\n",
              "      <td>NaN</td>\n",
              "      <td>NaN</td>\n",
              "      <td>NaN</td>\n",
              "      <td>NaN</td>\n",
              "      <td>NaN</td>\n",
              "      <td>NaN</td>\n",
              "      <td>NaN</td>\n",
              "      <td>NaN</td>\n",
              "      <td>NaN</td>\n",
              "      <td>NaN</td>\n",
              "      <td>NaN</td>\n",
              "      <td>NaN</td>\n",
              "      <td>NaN</td>\n",
              "      <td>NaN</td>\n",
              "      <td>NaN</td>\n",
              "      <td>NaN</td>\n",
              "      <td>NaN</td>\n",
              "      <td>NaN</td>\n",
              "      <td>NaN</td>\n",
              "      <td>NaN</td>\n",
              "      <td>NaN</td>\n",
              "      <td>NaN</td>\n",
              "      <td>NaN</td>\n",
              "      <td>NaN</td>\n",
              "      <td>NaN</td>\n",
              "      <td>NaN</td>\n",
              "      <td>NaN</td>\n",
              "      <td>NaN</td>\n",
              "      <td>NaN</td>\n",
              "      <td>NaN</td>\n",
              "      <td>NaN</td>\n",
              "      <td>NaN</td>\n",
              "      <td>NaN</td>\n",
              "      <td>NaN</td>\n",
              "      <td>NaN</td>\n",
              "      <td>NaN</td>\n",
              "      <td>NaN</td>\n",
              "      <td>NaN</td>\n",
              "      <td>NaN</td>\n",
              "      <td>NaN</td>\n",
              "    </tr>\n",
              "    <tr>\n",
              "      <th>3</th>\n",
              "      <td>000018002e4000a02008000000028009a000bb000000bb...</td>\n",
              "      <td>000018002e4000a02008000000028009a000bb000000bb00</td>\n",
              "      <td>8408ca0198f6218d84c5ce8e5eafc411</td>\n",
              "      <td>0</td>\n",
              "      <td>wlan1</td>\n",
              "      <td>23</td>\n",
              "      <td>2021-06-04T19:13:42.550228213Z</td>\n",
              "      <td>0.000000000</td>\n",
              "      <td>1622834022.550228213</td>\n",
              "      <td>0.000439337</td>\n",
              "      <td>0.000439337</td>\n",
              "      <td>2402.947306391</td>\n",
              "      <td>345504</td>\n",
              "      <td>44</td>\n",
              "      <td>44</td>\n",
              "      <td>False</td>\n",
              "      <td>False</td>\n",
              "      <td>radiotap:wlan_radio:wlan</td>\n",
              "      <td>00</td>\n",
              "      <td>0</td>\n",
              "      <td>00</td>\n",
              "      <td>0</td>\n",
              "      <td>1800</td>\n",
              "      <td>24</td>\n",
              "      <td>2e4000a020080000</td>\n",
              "      <td>None</td>\n",
              "      <td>[2e4000a0, 20080000]</td>\n",
              "      <td>[0xa000402e, 0x00000820]</td>\n",
              "      <td>[0, 0]</td>\n",
              "      <td>[False, False]</td>\n",
              "      <td>[1, 0]</td>\n",
              "      <td>[True, False]</td>\n",
              "      <td>[1, 0]</td>\n",
              "      <td>[True, False]</td>\n",
              "      <td>[1, 0]</td>\n",
              "      <td>[True, False]</td>\n",
              "      <td>[0, 0]</td>\n",
              "      <td>[False, False]</td>\n",
              "      <td>[1, 1]</td>\n",
              "      <td>[True, True]</td>\n",
              "      <td>...</td>\n",
              "      <td>NaN</td>\n",
              "      <td>NaN</td>\n",
              "      <td>NaN</td>\n",
              "      <td>NaN</td>\n",
              "      <td>NaN</td>\n",
              "      <td>NaN</td>\n",
              "      <td>NaN</td>\n",
              "      <td>NaN</td>\n",
              "      <td>NaN</td>\n",
              "      <td>NaN</td>\n",
              "      <td>NaN</td>\n",
              "      <td>NaN</td>\n",
              "      <td>NaN</td>\n",
              "      <td>NaN</td>\n",
              "      <td>NaN</td>\n",
              "      <td>NaN</td>\n",
              "      <td>NaN</td>\n",
              "      <td>NaN</td>\n",
              "      <td>NaN</td>\n",
              "      <td>NaN</td>\n",
              "      <td>NaN</td>\n",
              "      <td>NaN</td>\n",
              "      <td>NaN</td>\n",
              "      <td>NaN</td>\n",
              "      <td>NaN</td>\n",
              "      <td>NaN</td>\n",
              "      <td>NaN</td>\n",
              "      <td>NaN</td>\n",
              "      <td>NaN</td>\n",
              "      <td>NaN</td>\n",
              "      <td>NaN</td>\n",
              "      <td>NaN</td>\n",
              "      <td>NaN</td>\n",
              "      <td>NaN</td>\n",
              "      <td>NaN</td>\n",
              "      <td>NaN</td>\n",
              "      <td>NaN</td>\n",
              "      <td>NaN</td>\n",
              "      <td>NaN</td>\n",
              "      <td>NaN</td>\n",
              "    </tr>\n",
              "    <tr>\n",
              "      <th>4</th>\n",
              "      <td>000018002e4000a02008000000028009a000b9000000b9...</td>\n",
              "      <td>000018002e4000a02008000000028009a000b9000000b900</td>\n",
              "      <td>8400ca0198f6218d84c5ce8e5eafc411</td>\n",
              "      <td>0</td>\n",
              "      <td>wlan1</td>\n",
              "      <td>23</td>\n",
              "      <td>2021-06-04T19:13:42.551561088Z</td>\n",
              "      <td>0.000000000</td>\n",
              "      <td>1622834022.551561088</td>\n",
              "      <td>0.001332875</td>\n",
              "      <td>0.001332875</td>\n",
              "      <td>2402.948639266</td>\n",
              "      <td>345505</td>\n",
              "      <td>44</td>\n",
              "      <td>44</td>\n",
              "      <td>False</td>\n",
              "      <td>False</td>\n",
              "      <td>radiotap:wlan_radio:wlan</td>\n",
              "      <td>00</td>\n",
              "      <td>0</td>\n",
              "      <td>00</td>\n",
              "      <td>0</td>\n",
              "      <td>1800</td>\n",
              "      <td>24</td>\n",
              "      <td>2e4000a020080000</td>\n",
              "      <td>None</td>\n",
              "      <td>[2e4000a0, 20080000]</td>\n",
              "      <td>[0xa000402e, 0x00000820]</td>\n",
              "      <td>[0, 0]</td>\n",
              "      <td>[False, False]</td>\n",
              "      <td>[1, 0]</td>\n",
              "      <td>[True, False]</td>\n",
              "      <td>[1, 0]</td>\n",
              "      <td>[True, False]</td>\n",
              "      <td>[1, 0]</td>\n",
              "      <td>[True, False]</td>\n",
              "      <td>[0, 0]</td>\n",
              "      <td>[False, False]</td>\n",
              "      <td>[1, 1]</td>\n",
              "      <td>[True, True]</td>\n",
              "      <td>...</td>\n",
              "      <td>NaN</td>\n",
              "      <td>NaN</td>\n",
              "      <td>NaN</td>\n",
              "      <td>NaN</td>\n",
              "      <td>NaN</td>\n",
              "      <td>NaN</td>\n",
              "      <td>NaN</td>\n",
              "      <td>NaN</td>\n",
              "      <td>NaN</td>\n",
              "      <td>NaN</td>\n",
              "      <td>NaN</td>\n",
              "      <td>NaN</td>\n",
              "      <td>NaN</td>\n",
              "      <td>NaN</td>\n",
              "      <td>NaN</td>\n",
              "      <td>NaN</td>\n",
              "      <td>NaN</td>\n",
              "      <td>NaN</td>\n",
              "      <td>NaN</td>\n",
              "      <td>NaN</td>\n",
              "      <td>NaN</td>\n",
              "      <td>NaN</td>\n",
              "      <td>NaN</td>\n",
              "      <td>NaN</td>\n",
              "      <td>NaN</td>\n",
              "      <td>NaN</td>\n",
              "      <td>NaN</td>\n",
              "      <td>NaN</td>\n",
              "      <td>NaN</td>\n",
              "      <td>NaN</td>\n",
              "      <td>NaN</td>\n",
              "      <td>NaN</td>\n",
              "      <td>NaN</td>\n",
              "      <td>NaN</td>\n",
              "      <td>NaN</td>\n",
              "      <td>NaN</td>\n",
              "      <td>NaN</td>\n",
              "      <td>NaN</td>\n",
              "      <td>NaN</td>\n",
              "      <td>NaN</td>\n",
              "    </tr>\n",
              "  </tbody>\n",
              "</table>\n",
              "<p>5 rows × 2128 columns</p>\n",
              "</div>"
            ],
            "text/plain": [
              "                                           frame_raw  ... _ws_malformed._ws_expert._ws_expert__ws_expert_group\n",
              "0  000018002e4000a02008000000028009a000bd000000bd...  ...                                                NaN  \n",
              "1  000018002e4000a02008000000028009a000bd000000bd...  ...                                                NaN  \n",
              "2  000018002e4000a02008000000028009a000b5000000b5...  ...                                                NaN  \n",
              "3  000018002e4000a02008000000028009a000bb000000bb...  ...                                                NaN  \n",
              "4  000018002e4000a02008000000028009a000b9000000b9...  ...                                                NaN  \n",
              "\n",
              "[5 rows x 2128 columns]"
            ]
          },
          "metadata": {
            "tags": []
          },
          "execution_count": 33
        }
      ]
    },
    {
      "cell_type": "code",
      "metadata": {
        "id": "M-zy8vOQ5yPM"
      },
      "source": [
        ""
      ],
      "execution_count": null,
      "outputs": []
    },
    {
      "cell_type": "code",
      "metadata": {
        "id": "CyBm1cHx5ySA"
      },
      "source": [
        "X, X_val, y, y_val = train_test_split(df2.drop('wlan.wlan_wlan_ta', axis='columns'), \n",
        "                                      df2['wlan.wlan_wlan_ta'], test_size=0.9, random_state=1)"
      ],
      "execution_count": null,
      "outputs": []
    },
    {
      "cell_type": "code",
      "metadata": {
        "colab": {
          "base_uri": "https://localhost:8080/"
        },
        "id": "z9RlPYWV7QHW",
        "outputId": "8f13871d-369b-49ce-fceb-3d201a0a63fd"
      },
      "source": [
        "X.info"
      ],
      "execution_count": null,
      "outputs": [
        {
          "output_type": "execute_result",
          "data": {
            "text/plain": [
              "<bound method DataFrame.info of                                              frame_raw  ... _ws_malformed._ws_expert._ws_expert__ws_expert_group\n",
              "431  000018002e4000a02008000000026c09a000bd000000bd...  ...                                                NaN  \n",
              "115  000018002e4000a02008000000189e09c000bf000000bf...  ...                                                NaN  \n",
              "465  000018002e4000a02008000000028a09a000b5000000b5...  ...                                                NaN  \n",
              "216  000018002e4000a02008000000188509c000bf000000bf...  ...                                                NaN  \n",
              "264  000018002e4000a02008000000028509a000bd000000bd...  ...                                                NaN  \n",
              "209  000018002e4000a02008000000028509a000b7000000b7...  ...                                                NaN  \n",
              "316  000018002e4000a02008000000028509a000bf000000bf...  ...                                                NaN  \n",
              "384  000018002e4000a0200800000002a309a000c5000000c5...  ...                                                NaN  \n",
              "1    000018002e4000a02008000000028009a000bd000000bd...  ...                                                NaN  \n",
              "313  000018002e4000a02008000000028509a000bf000000bf...  ...                                                NaN  \n",
              "22   000018002e4000a02008000000028009a000bb000000bb...  ...                                                NaN  \n",
              "317  000018002e4000a02008000000028509a000c1000000c1...  ...                                                NaN  \n",
              "319  000018002e4000a02008000000028509a000bd000000bd...  ...                                                NaN  \n",
              "7    000018002e4000a02008000000028009a000bd000000bd...  ...                                                NaN  \n",
              "494  000018002e4000a02008000000027109a000b3000000b3...  ...                                                NaN  \n",
              "141  000018002e4000a02008000000189e09c000bd000000bd...  ...                                                NaN  \n",
              "86   000018002e4000a02008000000028009a000b9000000b9...  ...                                                NaN  \n",
              "352  000018002e4000a02008000000028509a000bb000000bb...  ...                                                NaN  \n",
              "241  000018002e4000a02008000000028509a000bd000000bd...  ...                                                NaN  \n",
              "215  000018002e4000a02008000000028509a000bf000000bf...  ...                                                NaN  \n",
              "68   000018002e4000a02008000000028009a000b9000000b9...  ...                                                NaN  \n",
              "50   000018002e4000a02008000000028009a000b7000000b7...  ...                                                NaN  \n",
              "398  000018002e4000a0200800000002a309a000c1000000c1...  ...                                                NaN  \n",
              "413  000018002e4000a02008000000026c09a000b7000000b7...  ...                                                NaN  \n",
              "156  000018002e4000a02008000000029e09a000b9000000b9...  ...                                                NaN  \n",
              "252  000018002e4000a020080000000c8509c000bf000000bf...  ...                                                NaN  \n",
              "395  000018002e4000a0200800000002a309a000c1000000c1...  ...                                                NaN  \n",
              "468  000018002e4000a02008000000028a09a000b9000000b9...  ...                                                NaN  \n",
              "402  000018002e4000a0200800000002a309a000b5000000b5...  ...                                                NaN  \n",
              "357  000018002e4000a02008000000028509a000b5000000b5...  ...                                                NaN  \n",
              "254  000018002e4000a02008000000028509a000bf000000bf...  ...                                                NaN  \n",
              "276  000018002e4000a02008000000028509a000bb000000bb...  ...                                                NaN  \n",
              "178  000018002e4000a020080000000b9e09a000b7000000b7...  ...                                                NaN  \n",
              "281  000018002e4000a02008000000028509a000b7000000b7...  ...                                                NaN  \n",
              "390  000018002e4000a0200800000002a309a000bf000000bf...  ...                                                NaN  \n",
              "237  000018002e4000a02008000000188509c000bf000000bf...  ...                                                NaN  \n",
              "71   000018002e4000a02008000000028009a000b9000000b9...  ...                                                NaN  \n",
              "460  000018002e4000a02008000000028a09a000b7000000b7...  ...                                                NaN  \n",
              "129  000018002e4000a02008000000029e09a000b7000000b7...  ...                                                NaN  \n",
              "144  000018002e4000a02008000000029e09a000bb000000bb...  ...                                                NaN  \n",
              "448  000018002e4000a02008000000186c09c000c5000000c5...  ...                                                NaN  \n",
              "335  000018002e4000a02008000000188509c000b9000000b9...  ...                                                NaN  \n",
              "133  000018002e4000a02008000000189e09c000bf000000bf...  ...                                                NaN  \n",
              "203  000018002e4000a02008000000029e09a000bd000000bd...  ...                                                NaN  \n",
              "393  000018002e4000a0200800000002a309a000b3000000b3...  ...                                                NaN  \n",
              "255  000018002e4000a02008000000028509a000bf000000bf...  ...                                                NaN  \n",
              "72   000018002e4000a02008000000028009a000b7000000b7...  ...                                                NaN  \n",
              "396  000018002e4000a0200800000002a309a000c3000000c3...  ...                                                NaN  \n",
              "235  000018002e4000a02008000000188509c000bf000000bf...  ...                                                NaN  \n",
              "37   000018002e4000a02008000000028009a000bb000000bb...  ...                                                NaN  \n",
              "\n",
              "[50 rows x 2127 columns]>"
            ]
          },
          "metadata": {
            "tags": []
          },
          "execution_count": 48
        }
      ]
    },
    {
      "cell_type": "code",
      "metadata": {
        "colab": {
          "base_uri": "https://localhost:8080/"
        },
        "id": "Ctrjyiok7QSp",
        "outputId": "2eff3724-0bb2-446c-f3b6-9a40aaa9cce8"
      },
      "source": [
        "y.head()"
      ],
      "execution_count": null,
      "outputs": [
        {
          "output_type": "execute_result",
          "data": {
            "text/plain": [
              "431    e4:fb:5d:34:44:b8\n",
              "115    f4:db:e6:01:0b:e1\n",
              "465    3e:9e:b6:0c:c0:d3\n",
              "216                  NaN\n",
              "264    ce:8e:5e:af:c4:11\n",
              "Name: wlan.wlan_wlan_ta, dtype: object"
            ]
          },
          "metadata": {
            "tags": []
          },
          "execution_count": 51
        }
      ]
    },
    {
      "cell_type": "code",
      "metadata": {
        "colab": {
          "base_uri": "https://localhost:8080/"
        },
        "id": "qt4B1wRU6hbN",
        "outputId": "5d3e5987-1709-48e6-d521-7bbdb45516f8"
      },
      "source": [
        "df2['wlan.wlan_wlan_ta']"
      ],
      "execution_count": null,
      "outputs": [
        {
          "output_type": "execute_result",
          "data": {
            "text/plain": [
              "0      ce:8e:5e:af:c4:11\n",
              "1      ce:8e:5e:af:c4:11\n",
              "2      0e:d6:7c:69:ef:0d\n",
              "3      ce:8e:5e:af:c4:11\n",
              "4      ce:8e:5e:af:c4:11\n",
              "             ...        \n",
              "495                  NaN\n",
              "496    70:f1:1c:2e:e2:18\n",
              "497    2e:6e:dc:20:be:a6\n",
              "498    70:f1:1c:2e:e2:18\n",
              "499    0e:6d:56:69:54:8e\n",
              "Name: wlan.wlan_wlan_ta, Length: 500, dtype: object"
            ]
          },
          "metadata": {
            "tags": []
          },
          "execution_count": 39
        }
      ]
    },
    {
      "cell_type": "code",
      "metadata": {
        "colab": {
          "base_uri": "https://localhost:8080/"
        },
        "id": "7bLxzHVi5yUi",
        "outputId": "9343a96f-b804-4e56-8336-fc47c70c02cb"
      },
      "source": [
        "df2.columns[150:200]"
      ],
      "execution_count": null,
      "outputs": [
        {
          "output_type": "execute_result",
          "data": {
            "text/plain": [
              "Index(['wlan.wlan_wlan_fc_type_subtype_raw', 'wlan.wlan_wlan_fc_type_subtype',\n",
              "       'wlan.wlan_wlan_fc_raw', 'wlan.wlan_wlan_fc',\n",
              "       'wlan.wlan_wlan_fc_version_raw', 'wlan.wlan_wlan_fc_version',\n",
              "       'wlan.wlan_wlan_fc_type_raw', 'wlan.wlan_wlan_fc_type',\n",
              "       'wlan.wlan_wlan_fc_subtype_raw', 'wlan.wlan_wlan_fc_subtype',\n",
              "       'wlan.wlan_wlan_flags_raw', 'wlan.wlan_wlan_flags',\n",
              "       'wlan.wlan_wlan_fc_ds_raw', 'wlan.wlan_wlan_fc_ds',\n",
              "       'wlan.wlan_wlan_fc_tods_raw', 'wlan.wlan_wlan_fc_tods',\n",
              "       'wlan.wlan_wlan_fc_fromds_raw', 'wlan.wlan_wlan_fc_fromds',\n",
              "       'wlan.wlan_wlan_fc_frag_raw', 'wlan.wlan_wlan_fc_frag',\n",
              "       'wlan.wlan_wlan_fc_retry_raw', 'wlan.wlan_wlan_fc_retry',\n",
              "       'wlan.wlan_wlan_fc_pwrmgt_raw', 'wlan.wlan_wlan_fc_pwrmgt',\n",
              "       'wlan.wlan_wlan_fc_moredata_raw', 'wlan.wlan_wlan_fc_moredata',\n",
              "       'wlan.wlan_wlan_fc_protected_raw', 'wlan.wlan_wlan_fc_protected',\n",
              "       'wlan.wlan_wlan_fc_order_raw', 'wlan.wlan_wlan_fc_order',\n",
              "       'wlan.wlan_wlan_duration_raw', 'wlan.wlan_wlan_duration',\n",
              "       'wlan.wlan_wlan_ra_raw', 'wlan.wlan_wlan_ra',\n",
              "       'wlan.wlan_wlan_ra_resolved_raw', 'wlan.wlan_wlan_ra_resolved',\n",
              "       'wlan.wlan_wlan_addr_raw', 'wlan.wlan_wlan_addr',\n",
              "       'wlan.wlan_wlan_addr_resolved_raw', 'wlan.wlan_wlan_addr_resolved',\n",
              "       'wlan.wlan_wlan_ta_raw', 'wlan.wlan_wlan_ta',\n",
              "       'wlan.wlan_wlan_ta_resolved_raw', 'wlan.wlan_wlan_ta_resolved',\n",
              "       'wlan.text', 'wlan.wlan_wlan_ba_control_raw',\n",
              "       'wlan.wlan_wlan_ba_control', 'wlan.wlan_wlan_ba_control_ackpolicy_raw',\n",
              "       'wlan.wlan_wlan_ba_control_ackpolicy',\n",
              "       'wlan.wlan_wlan_ba_control_ba_type_raw'],\n",
              "      dtype='object')"
            ]
          },
          "metadata": {
            "tags": []
          },
          "execution_count": 38
        }
      ]
    },
    {
      "cell_type": "code",
      "metadata": {
        "id": "ynHfBjO05yXI"
      },
      "source": [
        ""
      ],
      "execution_count": null,
      "outputs": []
    },
    {
      "cell_type": "code",
      "metadata": {
        "id": "DjSSzP7n5yZY"
      },
      "source": [
        ""
      ],
      "execution_count": null,
      "outputs": []
    },
    {
      "cell_type": "code",
      "metadata": {
        "id": "V5jqWr_N5yoI"
      },
      "source": [
        ""
      ],
      "execution_count": null,
      "outputs": []
    },
    {
      "cell_type": "code",
      "metadata": {
        "id": "6nV2S0h55yqw"
      },
      "source": [
        ""
      ],
      "execution_count": null,
      "outputs": []
    },
    {
      "cell_type": "code",
      "metadata": {
        "id": "yZehZLuJDtAr"
      },
      "source": [
        "raw_cols = [col for col in df2.columns if 'raw' in col]\n",
        "df2.drop(raw_cols, axis='columns', inplace=True)"
      ],
      "execution_count": null,
      "outputs": []
    },
    {
      "cell_type": "code",
      "metadata": {
        "id": "0aLSJ5HMTvGV"
      },
      "source": [
        "frame_cols = [col for col in df2.columns if 'frame' in col]\n",
        "frame_cols = frame_cols[:15]\n",
        "frame_cols = [w.replace('frame.frame_', '') for w in frame_cols]"
      ],
      "execution_count": null,
      "outputs": []
    },
    {
      "cell_type": "code",
      "metadata": {
        "id": "thF1QxVRbJVG"
      },
      "source": [
        "df2.columns = frame_cols + df2.columns[15:].tolist()"
      ],
      "execution_count": null,
      "outputs": []
    },
    {
      "cell_type": "code",
      "metadata": {
        "id": "f4sps5iEbbAH"
      },
      "source": [
        "radio_cols = df2.columns[15:77]\n",
        "radio_cols = [w.replace('radiotap.radiotap_', '') for w in radio_cols]"
      ],
      "execution_count": null,
      "outputs": []
    },
    {
      "cell_type": "code",
      "metadata": {
        "id": "XDwiz9MzbbCZ"
      },
      "source": [
        "df2.columns = df2.columns[:15].tolist() + radio_cols + df2.columns[77:].tolist()"
      ],
      "execution_count": null,
      "outputs": []
    },
    {
      "cell_type": "code",
      "metadata": {
        "id": "8-22hFFoqgSZ"
      },
      "source": [
        "wlan_radio_cols = df2.columns[77:85]\n",
        "wlan_radio_cols = [w.replace('wlan_radio.wlan_radio_', '') for w in wlan_radio_cols]"
      ],
      "execution_count": null,
      "outputs": []
    },
    {
      "cell_type": "code",
      "metadata": {
        "id": "RNhnxeA9qgUw"
      },
      "source": [
        "df2.columns = df2.columns[:77].tolist() + wlan_radio_cols + df2.columns[85:].tolist()"
      ],
      "execution_count": null,
      "outputs": []
    },
    {
      "cell_type": "code",
      "metadata": {
        "id": "6jvqv5lvYU9D"
      },
      "source": [
        "wlan_dropped_cols = ['wlan.text',\n",
        "       'wlan.wlan_wlan_ba_control', 'wlan.wlan_wlan_ba_control_ackpolicy',\n",
        "       'wlan.wlan_wlan_ba_control_ba_type',\n",
        "       'wlan.wlan_wlan_ba_control_reserved', 'wlan.wlan_wlan_ba_basic_tidinfo',\n",
        "       'wlan.wlan_wlan_fixed_ssc', 'wlan.wlan_wlan_fixed_ssc_fragment',\n",
        "       'wlan.wlan_wlan_fixed_ssc_sequence',\n",
        "       'wlan._ws_expert.wlan_wlan_fc_retry_expert',\n",
        "       'wlan._ws_expert._ws_expert__ws_expert_message',\n",
        "       'wlan._ws_expert._ws_expert__ws_expert_severity',\n",
        "       'wlan._ws_expert._ws_expert__ws_expert_group', 'wlan.wlan_wlan_ra_resolved',\n",
        "       'wlan.wlan_wlan_addr', 'wlan.wlan_wlan_addr_resolved',\n",
        "       'wlan.wlan_wlan_ta_resolved', 'wlan.wlan_wlan_da',\n",
        "       'wlan.wlan_wlan_da_resolved', 'wlan.wlan_wlan_sa',\n",
        "       'wlan.wlan_wlan_sa_resolved', 'wlan.wlan_wlan_bssid',\n",
        "       'wlan.wlan_wlan_bssid_resolved']"
      ],
      "execution_count": null,
      "outputs": []
    },
    {
      "cell_type": "code",
      "metadata": {
        "id": "Jc-J0IQe079E"
      },
      "source": [
        "df2.drop(wlan_dropped_cols, axis='columns', inplace=True)"
      ],
      "execution_count": null,
      "outputs": []
    },
    {
      "cell_type": "code",
      "metadata": {
        "id": "tS6Asrf1qgZQ"
      },
      "source": [
        "wlan_cols = df2.columns[85:105]\n",
        "wlan_cols = [w.replace('wlan.wlan_', '') for w in wlan_cols]"
      ],
      "execution_count": null,
      "outputs": []
    },
    {
      "cell_type": "code",
      "metadata": {
        "id": "J28PQyZMhvi6"
      },
      "source": [
        "df2.columns = df2.columns[:85].tolist() + wlan_cols + df2.columns[105:].tolist()"
      ],
      "execution_count": null,
      "outputs": []
    },
    {
      "cell_type": "code",
      "metadata": {
        "id": "YN_-UsPgqgd0"
      },
      "source": [
        "df2.rename(columns={'wlan_ra': 'destination_address', 'wlan_ta': 'source_address'}, inplace=True)"
      ],
      "execution_count": null,
      "outputs": []
    },
    {
      "cell_type": "code",
      "metadata": {
        "id": "X-WEyaAfwpir"
      },
      "source": [
        "wlan_mgt_dropped_cols = ['wlan_wlan_mgt.wlan_wlan_tagged_all', 'wlan_wlan_mgt.wlan_wlan_tag', 'wlan_wlan_mgt.wlan_wlan_wfa_ie_type', 'wlan_wlan_mgt.wlan_wlan_ht_capabilities',\n",
        "          'wlan_wlan_mgt.wlan_wlan_ht_mcsset', 'wlan_wlan_mgt.wlan_wlan_ht_ampduparam', 'wlan_wlan_mgt.wlan_wlan_ht_mcsset_txmaxss', \n",
        "          'wlan_wlan_mgt.wlan_wlan_txbf', 'wlan_wlan_mgt.wlan_wlan_vht_capabilities', 'wlan_wlan_mgt.wlan_wlan_vht_mcsset', 'wlan_wlan_mgt.wlan_wlan_vht_mcsset_rxmcsmap',\n",
        "           'wlan_wlan_mgt.wlan_wlan_vht_mcsset_txmcsmap', 'wlan_wlan_mgt.wlan_wlan_ext_tag', 'wlan_wlan_mgt.wlan_wlan_country_info_fnm', \n",
        "          ]"
      ],
      "execution_count": null,
      "outputs": []
    },
    {
      "cell_type": "code",
      "metadata": {
        "id": "McaqH5mbqgkd"
      },
      "source": [
        "df2.drop(wlan_mgt_dropped_cols, axis='columns', inplace=True)"
      ],
      "execution_count": null,
      "outputs": []
    },
    {
      "cell_type": "code",
      "metadata": {
        "id": "QxhaCCiZqgpS"
      },
      "source": [
        "wlan_mgt_cols = df2.columns[105:692]\n",
        "wlan_mgt_cols = [w.replace('wlan_wlan_mgt.wlan_', '') for w in wlan_mgt_cols]\n",
        "wlan_mgt_cols = [w.replace('wlan.wlan_', '') for w in wlan_mgt_cols]\n",
        "wlan_mgt_cols = [w.replace('wlan_ext_tag_', '') for w in wlan_mgt_cols]"
      ],
      "execution_count": null,
      "outputs": []
    },
    {
      "cell_type": "code",
      "metadata": {
        "id": "7vEIIAsPqg3j"
      },
      "source": [
        "df2.columns = df2.columns[:105].tolist() + wlan_mgt_cols + df2.columns[692:].tolist()"
      ],
      "execution_count": null,
      "outputs": []
    },
    {
      "cell_type": "code",
      "metadata": {
        "id": "hQ9fA771bbPy"
      },
      "source": [
        "awdl_cols = df2.columns[792:931]\n",
        "awdl_cols = [w.replace('awdl.awdl_data_', '') for w in awdl_cols]"
      ],
      "execution_count": null,
      "outputs": []
    },
    {
      "cell_type": "code",
      "metadata": {
        "id": "63ZU8lUrSOT6"
      },
      "source": [
        "df2.columns = df2.columns[:792].tolist() + awdl_cols + df2.columns[931:].tolist()"
      ],
      "execution_count": null,
      "outputs": []
    },
    {
      "cell_type": "code",
      "metadata": {
        "id": "umQllx-3SOYl"
      },
      "source": [
        "renamed_cols = df2.columns[931:]\n",
        "renamed_cols = [w.replace('llc.llc_', '') for w in renamed_cols]\n",
        "renamed_cols = [w.replace('awdl_data.awdl_data_', '') for w in renamed_cols]\n",
        "renamed_cols = [w.replace('ipv6.ipv6_', '') for w in renamed_cols]\n",
        "renamed_cols = [w.replace('udp.udp_', '') for w in renamed_cols]\n",
        "renamed_cols = [w.replace('mdns.dns_', '') for w in renamed_cols]\n",
        "renamed_cols = [w.replace('wlan_wlan_mgt.wlan_', '') for w in renamed_cols]\n",
        "renamed_cols = [w.replace('wlan_wlan_mgt.wps_', '') for w in renamed_cols]\n",
        "renamed_cols = [w.replace('wlan_wlan_mgt.wlan_', '') for w in renamed_cols]\n",
        "renamed_cols = [w.replace('wlan_wlan_mgt._ws_expert.wlan_', '') for w in renamed_cols]\n",
        "renamed_cols = [w.replace('wlan_wlan_mgt.wlan_', '') for w in renamed_cols]"
      ],
      "execution_count": null,
      "outputs": []
    },
    {
      "cell_type": "code",
      "metadata": {
        "id": "4laLj5R5SOa1"
      },
      "source": [
        "df2.columns = df2.columns[:931].tolist() + renamed_cols"
      ],
      "execution_count": null,
      "outputs": []
    },
    {
      "cell_type": "code",
      "metadata": {
        "id": "e5yjoMQEnMKH"
      },
      "source": [
        "df1.drop('layers', axis='columns', inplace=True)"
      ],
      "execution_count": null,
      "outputs": []
    },
    {
      "cell_type": "code",
      "metadata": {
        "id": "sprj3SjSm063"
      },
      "source": [
        "df = pd.concat([df1, df2])"
      ],
      "execution_count": null,
      "outputs": []
    },
    {
      "cell_type": "code",
      "metadata": {
        "colab": {
          "base_uri": "https://localhost:8080/",
          "height": 253
        },
        "id": "diWOfkIKm2vY",
        "outputId": "0eea6d31-5658-4c4e-e0e0-4669c305f0c2"
      },
      "source": [
        "df.head()"
      ],
      "execution_count": null,
      "outputs": [
        {
          "output_type": "execute_result",
          "data": {
            "text/html": [
              "<div>\n",
              "<style scoped>\n",
              "    .dataframe tbody tr th:only-of-type {\n",
              "        vertical-align: middle;\n",
              "    }\n",
              "\n",
              "    .dataframe tbody tr th {\n",
              "        vertical-align: top;\n",
              "    }\n",
              "\n",
              "    .dataframe thead th {\n",
              "        text-align: right;\n",
              "    }\n",
              "</style>\n",
              "<table border=\"1\" class=\"dataframe\">\n",
              "  <thead>\n",
              "    <tr style=\"text-align: right;\">\n",
              "      <th></th>\n",
              "      <th>timestamp</th>\n",
              "      <th>frame_interface_id</th>\n",
              "      <th>frame_interface_name</th>\n",
              "      <th>frame_encap_type</th>\n",
              "      <th>frame_time</th>\n",
              "      <th>frame_offset_shift</th>\n",
              "      <th>frame_time_epoch</th>\n",
              "      <th>frame_time_delta</th>\n",
              "      <th>frame_time_delta_displayed</th>\n",
              "      <th>frame_time_relative</th>\n",
              "      <th>frame_number</th>\n",
              "      <th>frame_len</th>\n",
              "      <th>frame_cap_len</th>\n",
              "      <th>frame_marked</th>\n",
              "      <th>frame_ignored</th>\n",
              "      <th>frame_protocols</th>\n",
              "      <th>radiotap_version</th>\n",
              "      <th>radiotap_pad</th>\n",
              "      <th>radiotap_length</th>\n",
              "      <th>radiotap_present</th>\n",
              "      <th>radiotap_present_word</th>\n",
              "      <th>radiotap_present_tsft</th>\n",
              "      <th>radiotap_present_flags</th>\n",
              "      <th>radiotap_present_rate</th>\n",
              "      <th>radiotap_present_channel</th>\n",
              "      <th>radiotap_present_fhss</th>\n",
              "      <th>radiotap_present_dbm_antsignal</th>\n",
              "      <th>radiotap_present_dbm_antnoise</th>\n",
              "      <th>radiotap_present_lock_quality</th>\n",
              "      <th>radiotap_present_tx_attenuation</th>\n",
              "      <th>radiotap_present_db_tx_attenuation</th>\n",
              "      <th>radiotap_present_dbm_tx_power</th>\n",
              "      <th>radiotap_present_antenna</th>\n",
              "      <th>radiotap_present_db_antsignal</th>\n",
              "      <th>radiotap_present_db_antnoise</th>\n",
              "      <th>radiotap_present_rxflags</th>\n",
              "      <th>radiotap_present_txflags</th>\n",
              "      <th>radiotap_present_xchannel</th>\n",
              "      <th>radiotap_present_mcs</th>\n",
              "      <th>radiotap_present_ampdu</th>\n",
              "      <th>...</th>\n",
              "      <th>wlan_extcap_b72</th>\n",
              "      <th>wlan_extcap_b73</th>\n",
              "      <th>wlan_extcap_b74</th>\n",
              "      <th>wlan_extcap_b75</th>\n",
              "      <th>wlan_extcap_b76</th>\n",
              "      <th>wlan_extcap_b77</th>\n",
              "      <th>wlan_extcap_b78</th>\n",
              "      <th>wlan_extcap_b79</th>\n",
              "      <th>wps_rf_bands</th>\n",
              "      <th>wlan_ap_channel_report_operating_class</th>\n",
              "      <th>wlan_ap_channel_report_channel_list</th>\n",
              "      <th>wps_response_type</th>\n",
              "      <th>wps_uuid_e</th>\n",
              "      <th>wps_manufacturer</th>\n",
              "      <th>wps_model_name</th>\n",
              "      <th>wps_model_number</th>\n",
              "      <th>wps_serial_number</th>\n",
              "      <th>wps_primary_device_type</th>\n",
              "      <th>wps_primary_device_type_category</th>\n",
              "      <th>wps_primary_device_type_subcategory_network_infrastructure</th>\n",
              "      <th>wps_device_name</th>\n",
              "      <th>wps_config_methods</th>\n",
              "      <th>wps_config_methods_usba</th>\n",
              "      <th>wps_config_methods_ethernet</th>\n",
              "      <th>wps_config_methods_label</th>\n",
              "      <th>wps_config_methods_display</th>\n",
              "      <th>wps_config_methods_virt_display</th>\n",
              "      <th>wps_config_methods_phy_display</th>\n",
              "      <th>wps_config_methods_nfcext</th>\n",
              "      <th>wps_config_methods_nfcint</th>\n",
              "      <th>wps_config_methods_nfcinf</th>\n",
              "      <th>wps_config_methods_pushbutton</th>\n",
              "      <th>wps_config_methods_virt_pushbutton</th>\n",
              "      <th>wps_config_methods_phy_pushbutton</th>\n",
              "      <th>wps_config_methods_keypad</th>\n",
              "      <th>wlan_tag_length_bad</th>\n",
              "      <th>_ws_malformed._ws_expert._ws_malformed__ws_malformed_expert</th>\n",
              "      <th>_ws_malformed._ws_expert._ws_expert__ws_expert_message</th>\n",
              "      <th>_ws_malformed._ws_expert._ws_expert__ws_expert_severity</th>\n",
              "      <th>_ws_malformed._ws_expert._ws_expert__ws_expert_group</th>\n",
              "    </tr>\n",
              "  </thead>\n",
              "  <tbody>\n",
              "    <tr>\n",
              "      <th>0</th>\n",
              "      <td>1622834022548</td>\n",
              "      <td>NaN</td>\n",
              "      <td>NaN</td>\n",
              "      <td>NaN</td>\n",
              "      <td>NaN</td>\n",
              "      <td>NaN</td>\n",
              "      <td>NaN</td>\n",
              "      <td>NaN</td>\n",
              "      <td>NaN</td>\n",
              "      <td>NaN</td>\n",
              "      <td>NaN</td>\n",
              "      <td>NaN</td>\n",
              "      <td>NaN</td>\n",
              "      <td>NaN</td>\n",
              "      <td>NaN</td>\n",
              "      <td>NaN</td>\n",
              "      <td>NaN</td>\n",
              "      <td>NaN</td>\n",
              "      <td>NaN</td>\n",
              "      <td>NaN</td>\n",
              "      <td>NaN</td>\n",
              "      <td>NaN</td>\n",
              "      <td>NaN</td>\n",
              "      <td>NaN</td>\n",
              "      <td>NaN</td>\n",
              "      <td>NaN</td>\n",
              "      <td>NaN</td>\n",
              "      <td>NaN</td>\n",
              "      <td>NaN</td>\n",
              "      <td>NaN</td>\n",
              "      <td>NaN</td>\n",
              "      <td>NaN</td>\n",
              "      <td>NaN</td>\n",
              "      <td>NaN</td>\n",
              "      <td>NaN</td>\n",
              "      <td>NaN</td>\n",
              "      <td>NaN</td>\n",
              "      <td>NaN</td>\n",
              "      <td>NaN</td>\n",
              "      <td>NaN</td>\n",
              "      <td>...</td>\n",
              "      <td>NaN</td>\n",
              "      <td>NaN</td>\n",
              "      <td>NaN</td>\n",
              "      <td>NaN</td>\n",
              "      <td>NaN</td>\n",
              "      <td>NaN</td>\n",
              "      <td>NaN</td>\n",
              "      <td>NaN</td>\n",
              "      <td>NaN</td>\n",
              "      <td>NaN</td>\n",
              "      <td>NaN</td>\n",
              "      <td>NaN</td>\n",
              "      <td>NaN</td>\n",
              "      <td>NaN</td>\n",
              "      <td>NaN</td>\n",
              "      <td>NaN</td>\n",
              "      <td>NaN</td>\n",
              "      <td>NaN</td>\n",
              "      <td>NaN</td>\n",
              "      <td>NaN</td>\n",
              "      <td>NaN</td>\n",
              "      <td>NaN</td>\n",
              "      <td>NaN</td>\n",
              "      <td>NaN</td>\n",
              "      <td>NaN</td>\n",
              "      <td>NaN</td>\n",
              "      <td>NaN</td>\n",
              "      <td>NaN</td>\n",
              "      <td>NaN</td>\n",
              "      <td>NaN</td>\n",
              "      <td>NaN</td>\n",
              "      <td>NaN</td>\n",
              "      <td>NaN</td>\n",
              "      <td>NaN</td>\n",
              "      <td>NaN</td>\n",
              "      <td>NaN</td>\n",
              "      <td>NaN</td>\n",
              "      <td>NaN</td>\n",
              "      <td>NaN</td>\n",
              "      <td>NaN</td>\n",
              "    </tr>\n",
              "    <tr>\n",
              "      <th>1</th>\n",
              "      <td>1622834022548</td>\n",
              "      <td>NaN</td>\n",
              "      <td>NaN</td>\n",
              "      <td>NaN</td>\n",
              "      <td>NaN</td>\n",
              "      <td>NaN</td>\n",
              "      <td>NaN</td>\n",
              "      <td>NaN</td>\n",
              "      <td>NaN</td>\n",
              "      <td>NaN</td>\n",
              "      <td>NaN</td>\n",
              "      <td>NaN</td>\n",
              "      <td>NaN</td>\n",
              "      <td>NaN</td>\n",
              "      <td>NaN</td>\n",
              "      <td>NaN</td>\n",
              "      <td>NaN</td>\n",
              "      <td>NaN</td>\n",
              "      <td>NaN</td>\n",
              "      <td>NaN</td>\n",
              "      <td>NaN</td>\n",
              "      <td>NaN</td>\n",
              "      <td>NaN</td>\n",
              "      <td>NaN</td>\n",
              "      <td>NaN</td>\n",
              "      <td>NaN</td>\n",
              "      <td>NaN</td>\n",
              "      <td>NaN</td>\n",
              "      <td>NaN</td>\n",
              "      <td>NaN</td>\n",
              "      <td>NaN</td>\n",
              "      <td>NaN</td>\n",
              "      <td>NaN</td>\n",
              "      <td>NaN</td>\n",
              "      <td>NaN</td>\n",
              "      <td>NaN</td>\n",
              "      <td>NaN</td>\n",
              "      <td>NaN</td>\n",
              "      <td>NaN</td>\n",
              "      <td>NaN</td>\n",
              "      <td>...</td>\n",
              "      <td>NaN</td>\n",
              "      <td>NaN</td>\n",
              "      <td>NaN</td>\n",
              "      <td>NaN</td>\n",
              "      <td>NaN</td>\n",
              "      <td>NaN</td>\n",
              "      <td>NaN</td>\n",
              "      <td>NaN</td>\n",
              "      <td>NaN</td>\n",
              "      <td>NaN</td>\n",
              "      <td>NaN</td>\n",
              "      <td>NaN</td>\n",
              "      <td>NaN</td>\n",
              "      <td>NaN</td>\n",
              "      <td>NaN</td>\n",
              "      <td>NaN</td>\n",
              "      <td>NaN</td>\n",
              "      <td>NaN</td>\n",
              "      <td>NaN</td>\n",
              "      <td>NaN</td>\n",
              "      <td>NaN</td>\n",
              "      <td>NaN</td>\n",
              "      <td>NaN</td>\n",
              "      <td>NaN</td>\n",
              "      <td>NaN</td>\n",
              "      <td>NaN</td>\n",
              "      <td>NaN</td>\n",
              "      <td>NaN</td>\n",
              "      <td>NaN</td>\n",
              "      <td>NaN</td>\n",
              "      <td>NaN</td>\n",
              "      <td>NaN</td>\n",
              "      <td>NaN</td>\n",
              "      <td>NaN</td>\n",
              "      <td>NaN</td>\n",
              "      <td>NaN</td>\n",
              "      <td>NaN</td>\n",
              "      <td>NaN</td>\n",
              "      <td>NaN</td>\n",
              "      <td>NaN</td>\n",
              "    </tr>\n",
              "    <tr>\n",
              "      <th>2</th>\n",
              "      <td>1622834022549</td>\n",
              "      <td>NaN</td>\n",
              "      <td>NaN</td>\n",
              "      <td>NaN</td>\n",
              "      <td>NaN</td>\n",
              "      <td>NaN</td>\n",
              "      <td>NaN</td>\n",
              "      <td>NaN</td>\n",
              "      <td>NaN</td>\n",
              "      <td>NaN</td>\n",
              "      <td>NaN</td>\n",
              "      <td>NaN</td>\n",
              "      <td>NaN</td>\n",
              "      <td>NaN</td>\n",
              "      <td>NaN</td>\n",
              "      <td>NaN</td>\n",
              "      <td>NaN</td>\n",
              "      <td>NaN</td>\n",
              "      <td>NaN</td>\n",
              "      <td>NaN</td>\n",
              "      <td>NaN</td>\n",
              "      <td>NaN</td>\n",
              "      <td>NaN</td>\n",
              "      <td>NaN</td>\n",
              "      <td>NaN</td>\n",
              "      <td>NaN</td>\n",
              "      <td>NaN</td>\n",
              "      <td>NaN</td>\n",
              "      <td>NaN</td>\n",
              "      <td>NaN</td>\n",
              "      <td>NaN</td>\n",
              "      <td>NaN</td>\n",
              "      <td>NaN</td>\n",
              "      <td>NaN</td>\n",
              "      <td>NaN</td>\n",
              "      <td>NaN</td>\n",
              "      <td>NaN</td>\n",
              "      <td>NaN</td>\n",
              "      <td>NaN</td>\n",
              "      <td>NaN</td>\n",
              "      <td>...</td>\n",
              "      <td>NaN</td>\n",
              "      <td>NaN</td>\n",
              "      <td>NaN</td>\n",
              "      <td>NaN</td>\n",
              "      <td>NaN</td>\n",
              "      <td>NaN</td>\n",
              "      <td>NaN</td>\n",
              "      <td>NaN</td>\n",
              "      <td>NaN</td>\n",
              "      <td>NaN</td>\n",
              "      <td>NaN</td>\n",
              "      <td>NaN</td>\n",
              "      <td>NaN</td>\n",
              "      <td>NaN</td>\n",
              "      <td>NaN</td>\n",
              "      <td>NaN</td>\n",
              "      <td>NaN</td>\n",
              "      <td>NaN</td>\n",
              "      <td>NaN</td>\n",
              "      <td>NaN</td>\n",
              "      <td>NaN</td>\n",
              "      <td>NaN</td>\n",
              "      <td>NaN</td>\n",
              "      <td>NaN</td>\n",
              "      <td>NaN</td>\n",
              "      <td>NaN</td>\n",
              "      <td>NaN</td>\n",
              "      <td>NaN</td>\n",
              "      <td>NaN</td>\n",
              "      <td>NaN</td>\n",
              "      <td>NaN</td>\n",
              "      <td>NaN</td>\n",
              "      <td>NaN</td>\n",
              "      <td>NaN</td>\n",
              "      <td>NaN</td>\n",
              "      <td>NaN</td>\n",
              "      <td>NaN</td>\n",
              "      <td>NaN</td>\n",
              "      <td>NaN</td>\n",
              "      <td>NaN</td>\n",
              "    </tr>\n",
              "    <tr>\n",
              "      <th>3</th>\n",
              "      <td>1622834022550</td>\n",
              "      <td>NaN</td>\n",
              "      <td>NaN</td>\n",
              "      <td>NaN</td>\n",
              "      <td>NaN</td>\n",
              "      <td>NaN</td>\n",
              "      <td>NaN</td>\n",
              "      <td>NaN</td>\n",
              "      <td>NaN</td>\n",
              "      <td>NaN</td>\n",
              "      <td>NaN</td>\n",
              "      <td>NaN</td>\n",
              "      <td>NaN</td>\n",
              "      <td>NaN</td>\n",
              "      <td>NaN</td>\n",
              "      <td>NaN</td>\n",
              "      <td>NaN</td>\n",
              "      <td>NaN</td>\n",
              "      <td>NaN</td>\n",
              "      <td>NaN</td>\n",
              "      <td>NaN</td>\n",
              "      <td>NaN</td>\n",
              "      <td>NaN</td>\n",
              "      <td>NaN</td>\n",
              "      <td>NaN</td>\n",
              "      <td>NaN</td>\n",
              "      <td>NaN</td>\n",
              "      <td>NaN</td>\n",
              "      <td>NaN</td>\n",
              "      <td>NaN</td>\n",
              "      <td>NaN</td>\n",
              "      <td>NaN</td>\n",
              "      <td>NaN</td>\n",
              "      <td>NaN</td>\n",
              "      <td>NaN</td>\n",
              "      <td>NaN</td>\n",
              "      <td>NaN</td>\n",
              "      <td>NaN</td>\n",
              "      <td>NaN</td>\n",
              "      <td>NaN</td>\n",
              "      <td>...</td>\n",
              "      <td>NaN</td>\n",
              "      <td>NaN</td>\n",
              "      <td>NaN</td>\n",
              "      <td>NaN</td>\n",
              "      <td>NaN</td>\n",
              "      <td>NaN</td>\n",
              "      <td>NaN</td>\n",
              "      <td>NaN</td>\n",
              "      <td>NaN</td>\n",
              "      <td>NaN</td>\n",
              "      <td>NaN</td>\n",
              "      <td>NaN</td>\n",
              "      <td>NaN</td>\n",
              "      <td>NaN</td>\n",
              "      <td>NaN</td>\n",
              "      <td>NaN</td>\n",
              "      <td>NaN</td>\n",
              "      <td>NaN</td>\n",
              "      <td>NaN</td>\n",
              "      <td>NaN</td>\n",
              "      <td>NaN</td>\n",
              "      <td>NaN</td>\n",
              "      <td>NaN</td>\n",
              "      <td>NaN</td>\n",
              "      <td>NaN</td>\n",
              "      <td>NaN</td>\n",
              "      <td>NaN</td>\n",
              "      <td>NaN</td>\n",
              "      <td>NaN</td>\n",
              "      <td>NaN</td>\n",
              "      <td>NaN</td>\n",
              "      <td>NaN</td>\n",
              "      <td>NaN</td>\n",
              "      <td>NaN</td>\n",
              "      <td>NaN</td>\n",
              "      <td>NaN</td>\n",
              "      <td>NaN</td>\n",
              "      <td>NaN</td>\n",
              "      <td>NaN</td>\n",
              "      <td>NaN</td>\n",
              "    </tr>\n",
              "    <tr>\n",
              "      <th>4</th>\n",
              "      <td>1622834022551</td>\n",
              "      <td>NaN</td>\n",
              "      <td>NaN</td>\n",
              "      <td>NaN</td>\n",
              "      <td>NaN</td>\n",
              "      <td>NaN</td>\n",
              "      <td>NaN</td>\n",
              "      <td>NaN</td>\n",
              "      <td>NaN</td>\n",
              "      <td>NaN</td>\n",
              "      <td>NaN</td>\n",
              "      <td>NaN</td>\n",
              "      <td>NaN</td>\n",
              "      <td>NaN</td>\n",
              "      <td>NaN</td>\n",
              "      <td>NaN</td>\n",
              "      <td>NaN</td>\n",
              "      <td>NaN</td>\n",
              "      <td>NaN</td>\n",
              "      <td>NaN</td>\n",
              "      <td>NaN</td>\n",
              "      <td>NaN</td>\n",
              "      <td>NaN</td>\n",
              "      <td>NaN</td>\n",
              "      <td>NaN</td>\n",
              "      <td>NaN</td>\n",
              "      <td>NaN</td>\n",
              "      <td>NaN</td>\n",
              "      <td>NaN</td>\n",
              "      <td>NaN</td>\n",
              "      <td>NaN</td>\n",
              "      <td>NaN</td>\n",
              "      <td>NaN</td>\n",
              "      <td>NaN</td>\n",
              "      <td>NaN</td>\n",
              "      <td>NaN</td>\n",
              "      <td>NaN</td>\n",
              "      <td>NaN</td>\n",
              "      <td>NaN</td>\n",
              "      <td>NaN</td>\n",
              "      <td>...</td>\n",
              "      <td>NaN</td>\n",
              "      <td>NaN</td>\n",
              "      <td>NaN</td>\n",
              "      <td>NaN</td>\n",
              "      <td>NaN</td>\n",
              "      <td>NaN</td>\n",
              "      <td>NaN</td>\n",
              "      <td>NaN</td>\n",
              "      <td>NaN</td>\n",
              "      <td>NaN</td>\n",
              "      <td>NaN</td>\n",
              "      <td>NaN</td>\n",
              "      <td>NaN</td>\n",
              "      <td>NaN</td>\n",
              "      <td>NaN</td>\n",
              "      <td>NaN</td>\n",
              "      <td>NaN</td>\n",
              "      <td>NaN</td>\n",
              "      <td>NaN</td>\n",
              "      <td>NaN</td>\n",
              "      <td>NaN</td>\n",
              "      <td>NaN</td>\n",
              "      <td>NaN</td>\n",
              "      <td>NaN</td>\n",
              "      <td>NaN</td>\n",
              "      <td>NaN</td>\n",
              "      <td>NaN</td>\n",
              "      <td>NaN</td>\n",
              "      <td>NaN</td>\n",
              "      <td>NaN</td>\n",
              "      <td>NaN</td>\n",
              "      <td>NaN</td>\n",
              "      <td>NaN</td>\n",
              "      <td>NaN</td>\n",
              "      <td>NaN</td>\n",
              "      <td>NaN</td>\n",
              "      <td>NaN</td>\n",
              "      <td>NaN</td>\n",
              "      <td>NaN</td>\n",
              "      <td>NaN</td>\n",
              "    </tr>\n",
              "  </tbody>\n",
              "</table>\n",
              "<p>5 rows × 1047 columns</p>\n",
              "</div>"
            ],
            "text/plain": [
              "       timestamp  ... _ws_malformed._ws_expert._ws_expert__ws_expert_group\n",
              "0  1622834022548  ...                                                NaN  \n",
              "1  1622834022548  ...                                                NaN  \n",
              "2  1622834022549  ...                                                NaN  \n",
              "3  1622834022550  ...                                                NaN  \n",
              "4  1622834022551  ...                                                NaN  \n",
              "\n",
              "[5 rows x 1047 columns]"
            ]
          },
          "metadata": {
            "tags": []
          },
          "execution_count": 91
        }
      ]
    },
    {
      "cell_type": "code",
      "metadata": {
        "colab": {
          "base_uri": "https://localhost:8080/"
        },
        "id": "IUXlfCLDn0tq",
        "outputId": "895eb913-024c-4d52-f66e-de819e691b13"
      },
      "source": [
        "len(df.columns)"
      ],
      "execution_count": null,
      "outputs": [
        {
          "output_type": "execute_result",
          "data": {
            "text/plain": [
              "1047"
            ]
          },
          "metadata": {
            "tags": []
          },
          "execution_count": 92
        }
      ]
    },
    {
      "cell_type": "code",
      "metadata": {
        "id": "nyxr2lDGsOLm"
      },
      "source": [
        "df=df.dropna(axis=1,how='all')"
      ],
      "execution_count": null,
      "outputs": []
    },
    {
      "cell_type": "code",
      "metadata": {
        "id": "s_vsZYCT0jqf"
      },
      "source": [
        ""
      ],
      "execution_count": null,
      "outputs": []
    },
    {
      "cell_type": "code",
      "metadata": {
        "id": "9J5kB6iq0jtP"
      },
      "source": [
        ""
      ],
      "execution_count": null,
      "outputs": []
    },
    {
      "cell_type": "code",
      "metadata": {
        "id": "ZCK4P_B60jvu"
      },
      "source": [
        ""
      ],
      "execution_count": null,
      "outputs": []
    },
    {
      "cell_type": "code",
      "metadata": {
        "id": "ktR3qwve0jyM"
      },
      "source": [
        ""
      ],
      "execution_count": null,
      "outputs": []
    },
    {
      "cell_type": "code",
      "metadata": {
        "id": "MR7U-ade0j02"
      },
      "source": [
        ""
      ],
      "execution_count": null,
      "outputs": []
    },
    {
      "cell_type": "code",
      "metadata": {
        "id": "s-I7-Yvf0j29"
      },
      "source": [
        ""
      ],
      "execution_count": null,
      "outputs": []
    },
    {
      "cell_type": "code",
      "metadata": {
        "id": "lT_6Tc4m0kID"
      },
      "source": [
        ""
      ],
      "execution_count": null,
      "outputs": []
    },
    {
      "cell_type": "code",
      "metadata": {
        "id": "Kh9nDhjB0kKj"
      },
      "source": [
        ""
      ],
      "execution_count": null,
      "outputs": []
    },
    {
      "cell_type": "code",
      "metadata": {
        "id": "pXW6ah3n0kNC"
      },
      "source": [
        ""
      ],
      "execution_count": null,
      "outputs": []
    },
    {
      "cell_type": "code",
      "metadata": {
        "id": "DYq6ydtL0kPK"
      },
      "source": [
        ""
      ],
      "execution_count": null,
      "outputs": []
    },
    {
      "cell_type": "code",
      "metadata": {
        "id": "s1bn5e630kSB"
      },
      "source": [
        ""
      ],
      "execution_count": null,
      "outputs": []
    },
    {
      "cell_type": "code",
      "metadata": {
        "id": "7j6oxTvX0kUZ"
      },
      "source": [
        ""
      ],
      "execution_count": null,
      "outputs": []
    },
    {
      "cell_type": "code",
      "metadata": {
        "id": "9OnV6rX90kWq"
      },
      "source": [
        ""
      ],
      "execution_count": null,
      "outputs": []
    },
    {
      "cell_type": "code",
      "metadata": {
        "id": "rYYx-40A0kY8"
      },
      "source": [
        ""
      ],
      "execution_count": null,
      "outputs": []
    },
    {
      "cell_type": "code",
      "metadata": {
        "id": "eS2fSrQRsOQ6",
        "colab": {
          "base_uri": "https://localhost:8080/"
        },
        "outputId": "955168b5-c476-4420-837a-f17d94e457b3"
      },
      "source": [
        "len(df.columns)"
      ],
      "execution_count": null,
      "outputs": [
        {
          "output_type": "execute_result",
          "data": {
            "text/plain": [
              "1024"
            ]
          },
          "metadata": {
            "tags": []
          },
          "execution_count": 94
        }
      ]
    },
    {
      "cell_type": "code",
      "metadata": {
        "id": "IPI8pOqRsOS_",
        "colab": {
          "base_uri": "https://localhost:8080/",
          "height": 253
        },
        "outputId": "d3f08a13-954f-4c44-f39f-fd7057776719"
      },
      "source": [
        "df.head()"
      ],
      "execution_count": null,
      "outputs": [
        {
          "output_type": "execute_result",
          "data": {
            "text/html": [
              "<div>\n",
              "<style scoped>\n",
              "    .dataframe tbody tr th:only-of-type {\n",
              "        vertical-align: middle;\n",
              "    }\n",
              "\n",
              "    .dataframe tbody tr th {\n",
              "        vertical-align: top;\n",
              "    }\n",
              "\n",
              "    .dataframe thead th {\n",
              "        text-align: right;\n",
              "    }\n",
              "</style>\n",
              "<table border=\"1\" class=\"dataframe\">\n",
              "  <thead>\n",
              "    <tr style=\"text-align: right;\">\n",
              "      <th></th>\n",
              "      <th>timestamp</th>\n",
              "      <th>frame_interface_id</th>\n",
              "      <th>frame_interface_name</th>\n",
              "      <th>frame_encap_type</th>\n",
              "      <th>frame_time</th>\n",
              "      <th>frame_offset_shift</th>\n",
              "      <th>frame_time_epoch</th>\n",
              "      <th>frame_time_delta</th>\n",
              "      <th>frame_time_delta_displayed</th>\n",
              "      <th>frame_time_relative</th>\n",
              "      <th>frame_number</th>\n",
              "      <th>frame_len</th>\n",
              "      <th>frame_cap_len</th>\n",
              "      <th>frame_marked</th>\n",
              "      <th>frame_ignored</th>\n",
              "      <th>frame_protocols</th>\n",
              "      <th>radiotap_version</th>\n",
              "      <th>radiotap_pad</th>\n",
              "      <th>radiotap_length</th>\n",
              "      <th>radiotap_present_word</th>\n",
              "      <th>radiotap_present_tsft</th>\n",
              "      <th>radiotap_present_flags</th>\n",
              "      <th>radiotap_present_rate</th>\n",
              "      <th>radiotap_present_channel</th>\n",
              "      <th>radiotap_present_fhss</th>\n",
              "      <th>radiotap_present_dbm_antsignal</th>\n",
              "      <th>radiotap_present_dbm_antnoise</th>\n",
              "      <th>radiotap_present_lock_quality</th>\n",
              "      <th>radiotap_present_tx_attenuation</th>\n",
              "      <th>radiotap_present_db_tx_attenuation</th>\n",
              "      <th>radiotap_present_dbm_tx_power</th>\n",
              "      <th>radiotap_present_antenna</th>\n",
              "      <th>radiotap_present_db_antsignal</th>\n",
              "      <th>radiotap_present_db_antnoise</th>\n",
              "      <th>radiotap_present_rxflags</th>\n",
              "      <th>radiotap_present_txflags</th>\n",
              "      <th>radiotap_present_xchannel</th>\n",
              "      <th>radiotap_present_mcs</th>\n",
              "      <th>radiotap_present_ampdu</th>\n",
              "      <th>radiotap_present_vht</th>\n",
              "      <th>...</th>\n",
              "      <th>dns_opt_data</th>\n",
              "      <th>dns_unsolicited</th>\n",
              "      <th>wlan_extcap_b72</th>\n",
              "      <th>wlan_extcap_b73</th>\n",
              "      <th>wlan_extcap_b74</th>\n",
              "      <th>wlan_extcap_b75</th>\n",
              "      <th>wlan_extcap_b76</th>\n",
              "      <th>wlan_extcap_b77</th>\n",
              "      <th>wlan_extcap_b78</th>\n",
              "      <th>wlan_extcap_b79</th>\n",
              "      <th>wps_rf_bands</th>\n",
              "      <th>wlan_ap_channel_report_operating_class</th>\n",
              "      <th>wlan_ap_channel_report_channel_list</th>\n",
              "      <th>wps_response_type</th>\n",
              "      <th>wps_uuid_e</th>\n",
              "      <th>wps_manufacturer</th>\n",
              "      <th>wps_model_name</th>\n",
              "      <th>wps_model_number</th>\n",
              "      <th>wps_serial_number</th>\n",
              "      <th>wps_primary_device_type</th>\n",
              "      <th>wps_primary_device_type_category</th>\n",
              "      <th>wps_primary_device_type_subcategory_network_infrastructure</th>\n",
              "      <th>wps_device_name</th>\n",
              "      <th>wps_config_methods</th>\n",
              "      <th>wps_config_methods_usba</th>\n",
              "      <th>wps_config_methods_ethernet</th>\n",
              "      <th>wps_config_methods_label</th>\n",
              "      <th>wps_config_methods_display</th>\n",
              "      <th>wps_config_methods_virt_display</th>\n",
              "      <th>wps_config_methods_phy_display</th>\n",
              "      <th>wps_config_methods_nfcext</th>\n",
              "      <th>wps_config_methods_nfcint</th>\n",
              "      <th>wps_config_methods_nfcinf</th>\n",
              "      <th>wps_config_methods_pushbutton</th>\n",
              "      <th>wps_config_methods_virt_pushbutton</th>\n",
              "      <th>wps_config_methods_phy_pushbutton</th>\n",
              "      <th>wps_config_methods_keypad</th>\n",
              "      <th>_ws_malformed._ws_expert._ws_expert__ws_expert_message</th>\n",
              "      <th>_ws_malformed._ws_expert._ws_expert__ws_expert_severity</th>\n",
              "      <th>_ws_malformed._ws_expert._ws_expert__ws_expert_group</th>\n",
              "    </tr>\n",
              "  </thead>\n",
              "  <tbody>\n",
              "    <tr>\n",
              "      <th>0</th>\n",
              "      <td>1622834022548</td>\n",
              "      <td>NaN</td>\n",
              "      <td>NaN</td>\n",
              "      <td>NaN</td>\n",
              "      <td>NaN</td>\n",
              "      <td>NaN</td>\n",
              "      <td>NaN</td>\n",
              "      <td>NaN</td>\n",
              "      <td>NaN</td>\n",
              "      <td>NaN</td>\n",
              "      <td>NaN</td>\n",
              "      <td>NaN</td>\n",
              "      <td>NaN</td>\n",
              "      <td>NaN</td>\n",
              "      <td>NaN</td>\n",
              "      <td>NaN</td>\n",
              "      <td>NaN</td>\n",
              "      <td>NaN</td>\n",
              "      <td>NaN</td>\n",
              "      <td>NaN</td>\n",
              "      <td>NaN</td>\n",
              "      <td>NaN</td>\n",
              "      <td>NaN</td>\n",
              "      <td>NaN</td>\n",
              "      <td>NaN</td>\n",
              "      <td>NaN</td>\n",
              "      <td>NaN</td>\n",
              "      <td>NaN</td>\n",
              "      <td>NaN</td>\n",
              "      <td>NaN</td>\n",
              "      <td>NaN</td>\n",
              "      <td>NaN</td>\n",
              "      <td>NaN</td>\n",
              "      <td>NaN</td>\n",
              "      <td>NaN</td>\n",
              "      <td>NaN</td>\n",
              "      <td>NaN</td>\n",
              "      <td>NaN</td>\n",
              "      <td>NaN</td>\n",
              "      <td>NaN</td>\n",
              "      <td>...</td>\n",
              "      <td>NaN</td>\n",
              "      <td>NaN</td>\n",
              "      <td>NaN</td>\n",
              "      <td>NaN</td>\n",
              "      <td>NaN</td>\n",
              "      <td>NaN</td>\n",
              "      <td>NaN</td>\n",
              "      <td>NaN</td>\n",
              "      <td>NaN</td>\n",
              "      <td>NaN</td>\n",
              "      <td>NaN</td>\n",
              "      <td>NaN</td>\n",
              "      <td>NaN</td>\n",
              "      <td>NaN</td>\n",
              "      <td>NaN</td>\n",
              "      <td>NaN</td>\n",
              "      <td>NaN</td>\n",
              "      <td>NaN</td>\n",
              "      <td>NaN</td>\n",
              "      <td>NaN</td>\n",
              "      <td>NaN</td>\n",
              "      <td>NaN</td>\n",
              "      <td>NaN</td>\n",
              "      <td>NaN</td>\n",
              "      <td>NaN</td>\n",
              "      <td>NaN</td>\n",
              "      <td>NaN</td>\n",
              "      <td>NaN</td>\n",
              "      <td>NaN</td>\n",
              "      <td>NaN</td>\n",
              "      <td>NaN</td>\n",
              "      <td>NaN</td>\n",
              "      <td>NaN</td>\n",
              "      <td>NaN</td>\n",
              "      <td>NaN</td>\n",
              "      <td>NaN</td>\n",
              "      <td>NaN</td>\n",
              "      <td>NaN</td>\n",
              "      <td>NaN</td>\n",
              "      <td>NaN</td>\n",
              "    </tr>\n",
              "    <tr>\n",
              "      <th>1</th>\n",
              "      <td>1622834022548</td>\n",
              "      <td>NaN</td>\n",
              "      <td>NaN</td>\n",
              "      <td>NaN</td>\n",
              "      <td>NaN</td>\n",
              "      <td>NaN</td>\n",
              "      <td>NaN</td>\n",
              "      <td>NaN</td>\n",
              "      <td>NaN</td>\n",
              "      <td>NaN</td>\n",
              "      <td>NaN</td>\n",
              "      <td>NaN</td>\n",
              "      <td>NaN</td>\n",
              "      <td>NaN</td>\n",
              "      <td>NaN</td>\n",
              "      <td>NaN</td>\n",
              "      <td>NaN</td>\n",
              "      <td>NaN</td>\n",
              "      <td>NaN</td>\n",
              "      <td>NaN</td>\n",
              "      <td>NaN</td>\n",
              "      <td>NaN</td>\n",
              "      <td>NaN</td>\n",
              "      <td>NaN</td>\n",
              "      <td>NaN</td>\n",
              "      <td>NaN</td>\n",
              "      <td>NaN</td>\n",
              "      <td>NaN</td>\n",
              "      <td>NaN</td>\n",
              "      <td>NaN</td>\n",
              "      <td>NaN</td>\n",
              "      <td>NaN</td>\n",
              "      <td>NaN</td>\n",
              "      <td>NaN</td>\n",
              "      <td>NaN</td>\n",
              "      <td>NaN</td>\n",
              "      <td>NaN</td>\n",
              "      <td>NaN</td>\n",
              "      <td>NaN</td>\n",
              "      <td>NaN</td>\n",
              "      <td>...</td>\n",
              "      <td>NaN</td>\n",
              "      <td>NaN</td>\n",
              "      <td>NaN</td>\n",
              "      <td>NaN</td>\n",
              "      <td>NaN</td>\n",
              "      <td>NaN</td>\n",
              "      <td>NaN</td>\n",
              "      <td>NaN</td>\n",
              "      <td>NaN</td>\n",
              "      <td>NaN</td>\n",
              "      <td>NaN</td>\n",
              "      <td>NaN</td>\n",
              "      <td>NaN</td>\n",
              "      <td>NaN</td>\n",
              "      <td>NaN</td>\n",
              "      <td>NaN</td>\n",
              "      <td>NaN</td>\n",
              "      <td>NaN</td>\n",
              "      <td>NaN</td>\n",
              "      <td>NaN</td>\n",
              "      <td>NaN</td>\n",
              "      <td>NaN</td>\n",
              "      <td>NaN</td>\n",
              "      <td>NaN</td>\n",
              "      <td>NaN</td>\n",
              "      <td>NaN</td>\n",
              "      <td>NaN</td>\n",
              "      <td>NaN</td>\n",
              "      <td>NaN</td>\n",
              "      <td>NaN</td>\n",
              "      <td>NaN</td>\n",
              "      <td>NaN</td>\n",
              "      <td>NaN</td>\n",
              "      <td>NaN</td>\n",
              "      <td>NaN</td>\n",
              "      <td>NaN</td>\n",
              "      <td>NaN</td>\n",
              "      <td>NaN</td>\n",
              "      <td>NaN</td>\n",
              "      <td>NaN</td>\n",
              "    </tr>\n",
              "    <tr>\n",
              "      <th>2</th>\n",
              "      <td>1622834022549</td>\n",
              "      <td>NaN</td>\n",
              "      <td>NaN</td>\n",
              "      <td>NaN</td>\n",
              "      <td>NaN</td>\n",
              "      <td>NaN</td>\n",
              "      <td>NaN</td>\n",
              "      <td>NaN</td>\n",
              "      <td>NaN</td>\n",
              "      <td>NaN</td>\n",
              "      <td>NaN</td>\n",
              "      <td>NaN</td>\n",
              "      <td>NaN</td>\n",
              "      <td>NaN</td>\n",
              "      <td>NaN</td>\n",
              "      <td>NaN</td>\n",
              "      <td>NaN</td>\n",
              "      <td>NaN</td>\n",
              "      <td>NaN</td>\n",
              "      <td>NaN</td>\n",
              "      <td>NaN</td>\n",
              "      <td>NaN</td>\n",
              "      <td>NaN</td>\n",
              "      <td>NaN</td>\n",
              "      <td>NaN</td>\n",
              "      <td>NaN</td>\n",
              "      <td>NaN</td>\n",
              "      <td>NaN</td>\n",
              "      <td>NaN</td>\n",
              "      <td>NaN</td>\n",
              "      <td>NaN</td>\n",
              "      <td>NaN</td>\n",
              "      <td>NaN</td>\n",
              "      <td>NaN</td>\n",
              "      <td>NaN</td>\n",
              "      <td>NaN</td>\n",
              "      <td>NaN</td>\n",
              "      <td>NaN</td>\n",
              "      <td>NaN</td>\n",
              "      <td>NaN</td>\n",
              "      <td>...</td>\n",
              "      <td>NaN</td>\n",
              "      <td>NaN</td>\n",
              "      <td>NaN</td>\n",
              "      <td>NaN</td>\n",
              "      <td>NaN</td>\n",
              "      <td>NaN</td>\n",
              "      <td>NaN</td>\n",
              "      <td>NaN</td>\n",
              "      <td>NaN</td>\n",
              "      <td>NaN</td>\n",
              "      <td>NaN</td>\n",
              "      <td>NaN</td>\n",
              "      <td>NaN</td>\n",
              "      <td>NaN</td>\n",
              "      <td>NaN</td>\n",
              "      <td>NaN</td>\n",
              "      <td>NaN</td>\n",
              "      <td>NaN</td>\n",
              "      <td>NaN</td>\n",
              "      <td>NaN</td>\n",
              "      <td>NaN</td>\n",
              "      <td>NaN</td>\n",
              "      <td>NaN</td>\n",
              "      <td>NaN</td>\n",
              "      <td>NaN</td>\n",
              "      <td>NaN</td>\n",
              "      <td>NaN</td>\n",
              "      <td>NaN</td>\n",
              "      <td>NaN</td>\n",
              "      <td>NaN</td>\n",
              "      <td>NaN</td>\n",
              "      <td>NaN</td>\n",
              "      <td>NaN</td>\n",
              "      <td>NaN</td>\n",
              "      <td>NaN</td>\n",
              "      <td>NaN</td>\n",
              "      <td>NaN</td>\n",
              "      <td>NaN</td>\n",
              "      <td>NaN</td>\n",
              "      <td>NaN</td>\n",
              "    </tr>\n",
              "    <tr>\n",
              "      <th>3</th>\n",
              "      <td>1622834022550</td>\n",
              "      <td>NaN</td>\n",
              "      <td>NaN</td>\n",
              "      <td>NaN</td>\n",
              "      <td>NaN</td>\n",
              "      <td>NaN</td>\n",
              "      <td>NaN</td>\n",
              "      <td>NaN</td>\n",
              "      <td>NaN</td>\n",
              "      <td>NaN</td>\n",
              "      <td>NaN</td>\n",
              "      <td>NaN</td>\n",
              "      <td>NaN</td>\n",
              "      <td>NaN</td>\n",
              "      <td>NaN</td>\n",
              "      <td>NaN</td>\n",
              "      <td>NaN</td>\n",
              "      <td>NaN</td>\n",
              "      <td>NaN</td>\n",
              "      <td>NaN</td>\n",
              "      <td>NaN</td>\n",
              "      <td>NaN</td>\n",
              "      <td>NaN</td>\n",
              "      <td>NaN</td>\n",
              "      <td>NaN</td>\n",
              "      <td>NaN</td>\n",
              "      <td>NaN</td>\n",
              "      <td>NaN</td>\n",
              "      <td>NaN</td>\n",
              "      <td>NaN</td>\n",
              "      <td>NaN</td>\n",
              "      <td>NaN</td>\n",
              "      <td>NaN</td>\n",
              "      <td>NaN</td>\n",
              "      <td>NaN</td>\n",
              "      <td>NaN</td>\n",
              "      <td>NaN</td>\n",
              "      <td>NaN</td>\n",
              "      <td>NaN</td>\n",
              "      <td>NaN</td>\n",
              "      <td>...</td>\n",
              "      <td>NaN</td>\n",
              "      <td>NaN</td>\n",
              "      <td>NaN</td>\n",
              "      <td>NaN</td>\n",
              "      <td>NaN</td>\n",
              "      <td>NaN</td>\n",
              "      <td>NaN</td>\n",
              "      <td>NaN</td>\n",
              "      <td>NaN</td>\n",
              "      <td>NaN</td>\n",
              "      <td>NaN</td>\n",
              "      <td>NaN</td>\n",
              "      <td>NaN</td>\n",
              "      <td>NaN</td>\n",
              "      <td>NaN</td>\n",
              "      <td>NaN</td>\n",
              "      <td>NaN</td>\n",
              "      <td>NaN</td>\n",
              "      <td>NaN</td>\n",
              "      <td>NaN</td>\n",
              "      <td>NaN</td>\n",
              "      <td>NaN</td>\n",
              "      <td>NaN</td>\n",
              "      <td>NaN</td>\n",
              "      <td>NaN</td>\n",
              "      <td>NaN</td>\n",
              "      <td>NaN</td>\n",
              "      <td>NaN</td>\n",
              "      <td>NaN</td>\n",
              "      <td>NaN</td>\n",
              "      <td>NaN</td>\n",
              "      <td>NaN</td>\n",
              "      <td>NaN</td>\n",
              "      <td>NaN</td>\n",
              "      <td>NaN</td>\n",
              "      <td>NaN</td>\n",
              "      <td>NaN</td>\n",
              "      <td>NaN</td>\n",
              "      <td>NaN</td>\n",
              "      <td>NaN</td>\n",
              "    </tr>\n",
              "    <tr>\n",
              "      <th>4</th>\n",
              "      <td>1622834022551</td>\n",
              "      <td>NaN</td>\n",
              "      <td>NaN</td>\n",
              "      <td>NaN</td>\n",
              "      <td>NaN</td>\n",
              "      <td>NaN</td>\n",
              "      <td>NaN</td>\n",
              "      <td>NaN</td>\n",
              "      <td>NaN</td>\n",
              "      <td>NaN</td>\n",
              "      <td>NaN</td>\n",
              "      <td>NaN</td>\n",
              "      <td>NaN</td>\n",
              "      <td>NaN</td>\n",
              "      <td>NaN</td>\n",
              "      <td>NaN</td>\n",
              "      <td>NaN</td>\n",
              "      <td>NaN</td>\n",
              "      <td>NaN</td>\n",
              "      <td>NaN</td>\n",
              "      <td>NaN</td>\n",
              "      <td>NaN</td>\n",
              "      <td>NaN</td>\n",
              "      <td>NaN</td>\n",
              "      <td>NaN</td>\n",
              "      <td>NaN</td>\n",
              "      <td>NaN</td>\n",
              "      <td>NaN</td>\n",
              "      <td>NaN</td>\n",
              "      <td>NaN</td>\n",
              "      <td>NaN</td>\n",
              "      <td>NaN</td>\n",
              "      <td>NaN</td>\n",
              "      <td>NaN</td>\n",
              "      <td>NaN</td>\n",
              "      <td>NaN</td>\n",
              "      <td>NaN</td>\n",
              "      <td>NaN</td>\n",
              "      <td>NaN</td>\n",
              "      <td>NaN</td>\n",
              "      <td>...</td>\n",
              "      <td>NaN</td>\n",
              "      <td>NaN</td>\n",
              "      <td>NaN</td>\n",
              "      <td>NaN</td>\n",
              "      <td>NaN</td>\n",
              "      <td>NaN</td>\n",
              "      <td>NaN</td>\n",
              "      <td>NaN</td>\n",
              "      <td>NaN</td>\n",
              "      <td>NaN</td>\n",
              "      <td>NaN</td>\n",
              "      <td>NaN</td>\n",
              "      <td>NaN</td>\n",
              "      <td>NaN</td>\n",
              "      <td>NaN</td>\n",
              "      <td>NaN</td>\n",
              "      <td>NaN</td>\n",
              "      <td>NaN</td>\n",
              "      <td>NaN</td>\n",
              "      <td>NaN</td>\n",
              "      <td>NaN</td>\n",
              "      <td>NaN</td>\n",
              "      <td>NaN</td>\n",
              "      <td>NaN</td>\n",
              "      <td>NaN</td>\n",
              "      <td>NaN</td>\n",
              "      <td>NaN</td>\n",
              "      <td>NaN</td>\n",
              "      <td>NaN</td>\n",
              "      <td>NaN</td>\n",
              "      <td>NaN</td>\n",
              "      <td>NaN</td>\n",
              "      <td>NaN</td>\n",
              "      <td>NaN</td>\n",
              "      <td>NaN</td>\n",
              "      <td>NaN</td>\n",
              "      <td>NaN</td>\n",
              "      <td>NaN</td>\n",
              "      <td>NaN</td>\n",
              "      <td>NaN</td>\n",
              "    </tr>\n",
              "  </tbody>\n",
              "</table>\n",
              "<p>5 rows × 1024 columns</p>\n",
              "</div>"
            ],
            "text/plain": [
              "       timestamp  ... _ws_malformed._ws_expert._ws_expert__ws_expert_group\n",
              "0  1622834022548  ...                                                NaN  \n",
              "1  1622834022548  ...                                                NaN  \n",
              "2  1622834022549  ...                                                NaN  \n",
              "3  1622834022550  ...                                                NaN  \n",
              "4  1622834022551  ...                                                NaN  \n",
              "\n",
              "[5 rows x 1024 columns]"
            ]
          },
          "metadata": {
            "tags": []
          },
          "execution_count": 111
        }
      ]
    },
    {
      "cell_type": "code",
      "metadata": {
        "id": "OQ3wKPSCsOU5"
      },
      "source": [
        ""
      ],
      "execution_count": null,
      "outputs": []
    },
    {
      "cell_type": "code",
      "metadata": {
        "id": "eDsZJ5KdsOXL"
      },
      "source": [
        ""
      ],
      "execution_count": null,
      "outputs": []
    },
    {
      "cell_type": "code",
      "metadata": {
        "id": "fJyBykCusOZa"
      },
      "source": [
        ""
      ],
      "execution_count": null,
      "outputs": []
    },
    {
      "cell_type": "code",
      "metadata": {
        "id": "g1F_3JCjSOc7"
      },
      "source": [
        ""
      ],
      "execution_count": null,
      "outputs": []
    },
    {
      "cell_type": "code",
      "metadata": {
        "id": "qN_phQ6HSOfc"
      },
      "source": [
        ""
      ],
      "execution_count": null,
      "outputs": []
    },
    {
      "cell_type": "code",
      "metadata": {
        "id": "SUooKZImSOhq"
      },
      "source": [
        ""
      ],
      "execution_count": null,
      "outputs": []
    },
    {
      "cell_type": "code",
      "metadata": {
        "id": "ueibJiV8SOj3"
      },
      "source": [
        ""
      ],
      "execution_count": null,
      "outputs": []
    },
    {
      "cell_type": "code",
      "metadata": {
        "id": "0RXrV7_gSOl9"
      },
      "source": [
        ""
      ],
      "execution_count": null,
      "outputs": []
    },
    {
      "cell_type": "code",
      "metadata": {
        "id": "vMZEob3ybbTR"
      },
      "source": [
        ""
      ],
      "execution_count": null,
      "outputs": []
    },
    {
      "cell_type": "code",
      "metadata": {
        "id": "QUMsonv2bbVf"
      },
      "source": [
        ""
      ],
      "execution_count": null,
      "outputs": []
    },
    {
      "cell_type": "code",
      "metadata": {
        "id": "hvrIF1zwqggR"
      },
      "source": [
        "l = [name for name in df2.columns if 'address' in name]"
      ],
      "execution_count": null,
      "outputs": []
    },
    {
      "cell_type": "code",
      "metadata": {
        "id": "jG7yf_0z73us"
      },
      "source": [
        "raw_packet = df2['wlan_raw'][0]"
      ],
      "execution_count": null,
      "outputs": []
    },
    {
      "cell_type": "code",
      "metadata": {
        "id": "kcCAgC7C8yep"
      },
      "source": [
        "from scapy.layers.l2 import Ether\n",
        "import scapy.layers.dot11"
      ],
      "execution_count": null,
      "outputs": []
    },
    {
      "cell_type": "code",
      "metadata": {
        "id": "5K_O04w280CX"
      },
      "source": [
        "new_packet = Ether(_pkt=raw_packet)"
      ],
      "execution_count": null,
      "outputs": []
    },
    {
      "cell_type": "code",
      "metadata": {
        "id": "gjRIcEsf_zA2"
      },
      "source": [
        "type(new_packet)"
      ],
      "execution_count": null,
      "outputs": []
    },
    {
      "cell_type": "code",
      "metadata": {
        "id": "faw7YTfz9Go7"
      },
      "source": [
        "print(new_packet.show())"
      ],
      "execution_count": null,
      "outputs": []
    },
    {
      "cell_type": "code",
      "metadata": {
        "id": "HQ6mUsM30b_P"
      },
      "source": [
        "from scapy.all import Dot11, sniff\n",
        "                       \n",
        "\n",
        "ap_list = []\n",
        "\n",
        "def PacketHandler(packet):\n",
        "  if packet.type == 0 and packet.subtype == 8:\n",
        "    if packet.addr2 not in ap_list:\n",
        "                ap_list.append(packet.addr2)\n",
        "                print(\"Access Point MAC: %s with SSID: %s \" %(packet.addr2, packet.info))\n",
        "\n",
        "\n",
        "sniff(iface=\"wlp2s0\", prn = PacketHandler)"
      ],
      "execution_count": null,
      "outputs": []
    },
    {
      "cell_type": "code",
      "metadata": {
        "colab": {
          "base_uri": "https://localhost:8080/"
        },
        "id": "923XFNFKWAJn",
        "outputId": "88db13ca-a8a0-46c1-8318-5aa505376715"
      },
      "source": [
        "!pip install scapy"
      ],
      "execution_count": null,
      "outputs": [
        {
          "output_type": "stream",
          "text": [
            "Collecting scapy\n",
            "\u001b[?25l  Downloading https://files.pythonhosted.org/packages/85/47/c919432ca258f354bb2c1e645623f891603f185bfc7563d4a21f6432e7ed/scapy-2.4.5.tar.gz (1.1MB)\n",
            "\r\u001b[K     |▎                               | 10kB 11.4MB/s eta 0:00:01\r\u001b[K     |▋                               | 20kB 13.9MB/s eta 0:00:01\r\u001b[K     |▉                               | 30kB 9.9MB/s eta 0:00:01\r\u001b[K     |█▏                              | 40kB 9.0MB/s eta 0:00:01\r\u001b[K     |█▌                              | 51kB 5.0MB/s eta 0:00:01\r\u001b[K     |█▊                              | 61kB 5.6MB/s eta 0:00:01\r\u001b[K     |██                              | 71kB 6.0MB/s eta 0:00:01\r\u001b[K     |██▍                             | 81kB 6.3MB/s eta 0:00:01\r\u001b[K     |██▋                             | 92kB 6.5MB/s eta 0:00:01\r\u001b[K     |███                             | 102kB 5.1MB/s eta 0:00:01\r\u001b[K     |███▎                            | 112kB 5.1MB/s eta 0:00:01\r\u001b[K     |███▌                            | 122kB 5.1MB/s eta 0:00:01\r\u001b[K     |███▉                            | 133kB 5.1MB/s eta 0:00:01\r\u001b[K     |████▏                           | 143kB 5.1MB/s eta 0:00:01\r\u001b[K     |████▍                           | 153kB 5.1MB/s eta 0:00:01\r\u001b[K     |████▊                           | 163kB 5.1MB/s eta 0:00:01\r\u001b[K     |█████                           | 174kB 5.1MB/s eta 0:00:01\r\u001b[K     |█████▎                          | 184kB 5.1MB/s eta 0:00:01\r\u001b[K     |█████▋                          | 194kB 5.1MB/s eta 0:00:01\r\u001b[K     |██████                          | 204kB 5.1MB/s eta 0:00:01\r\u001b[K     |██████▏                         | 215kB 5.1MB/s eta 0:00:01\r\u001b[K     |██████▌                         | 225kB 5.1MB/s eta 0:00:01\r\u001b[K     |██████▉                         | 235kB 5.1MB/s eta 0:00:01\r\u001b[K     |███████                         | 245kB 5.1MB/s eta 0:00:01\r\u001b[K     |███████▍                        | 256kB 5.1MB/s eta 0:00:01\r\u001b[K     |███████▋                        | 266kB 5.1MB/s eta 0:00:01\r\u001b[K     |████████                        | 276kB 5.1MB/s eta 0:00:01\r\u001b[K     |████████▎                       | 286kB 5.1MB/s eta 0:00:01\r\u001b[K     |████████▌                       | 296kB 5.1MB/s eta 0:00:01\r\u001b[K     |████████▉                       | 307kB 5.1MB/s eta 0:00:01\r\u001b[K     |█████████▏                      | 317kB 5.1MB/s eta 0:00:01\r\u001b[K     |█████████▍                      | 327kB 5.1MB/s eta 0:00:01\r\u001b[K     |█████████▊                      | 337kB 5.1MB/s eta 0:00:01\r\u001b[K     |██████████                      | 348kB 5.1MB/s eta 0:00:01\r\u001b[K     |██████████▎                     | 358kB 5.1MB/s eta 0:00:01\r\u001b[K     |██████████▋                     | 368kB 5.1MB/s eta 0:00:01\r\u001b[K     |███████████                     | 378kB 5.1MB/s eta 0:00:01\r\u001b[K     |███████████▏                    | 389kB 5.1MB/s eta 0:00:01\r\u001b[K     |███████████▌                    | 399kB 5.1MB/s eta 0:00:01\r\u001b[K     |███████████▉                    | 409kB 5.1MB/s eta 0:00:01\r\u001b[K     |████████████                    | 419kB 5.1MB/s eta 0:00:01\r\u001b[K     |████████████▍                   | 430kB 5.1MB/s eta 0:00:01\r\u001b[K     |████████████▊                   | 440kB 5.1MB/s eta 0:00:01\r\u001b[K     |█████████████                   | 450kB 5.1MB/s eta 0:00:01\r\u001b[K     |█████████████▎                  | 460kB 5.1MB/s eta 0:00:01\r\u001b[K     |█████████████▋                  | 471kB 5.1MB/s eta 0:00:01\r\u001b[K     |█████████████▉                  | 481kB 5.1MB/s eta 0:00:01\r\u001b[K     |██████████████▏                 | 491kB 5.1MB/s eta 0:00:01\r\u001b[K     |██████████████▍                 | 501kB 5.1MB/s eta 0:00:01\r\u001b[K     |██████████████▊                 | 512kB 5.1MB/s eta 0:00:01\r\u001b[K     |███████████████                 | 522kB 5.1MB/s eta 0:00:01\r\u001b[K     |███████████████▎                | 532kB 5.1MB/s eta 0:00:01\r\u001b[K     |███████████████▋                | 542kB 5.1MB/s eta 0:00:01\r\u001b[K     |████████████████                | 552kB 5.1MB/s eta 0:00:01\r\u001b[K     |████████████████▏               | 563kB 5.1MB/s eta 0:00:01\r\u001b[K     |████████████████▌               | 573kB 5.1MB/s eta 0:00:01\r\u001b[K     |████████████████▉               | 583kB 5.1MB/s eta 0:00:01\r\u001b[K     |█████████████████               | 593kB 5.1MB/s eta 0:00:01\r\u001b[K     |█████████████████▍              | 604kB 5.1MB/s eta 0:00:01\r\u001b[K     |█████████████████▊              | 614kB 5.1MB/s eta 0:00:01\r\u001b[K     |██████████████████              | 624kB 5.1MB/s eta 0:00:01\r\u001b[K     |██████████████████▎             | 634kB 5.1MB/s eta 0:00:01\r\u001b[K     |██████████████████▋             | 645kB 5.1MB/s eta 0:00:01\r\u001b[K     |██████████████████▉             | 655kB 5.1MB/s eta 0:00:01\r\u001b[K     |███████████████████▏            | 665kB 5.1MB/s eta 0:00:01\r\u001b[K     |███████████████████▌            | 675kB 5.1MB/s eta 0:00:01\r\u001b[K     |███████████████████▊            | 686kB 5.1MB/s eta 0:00:01\r\u001b[K     |████████████████████            | 696kB 5.1MB/s eta 0:00:01\r\u001b[K     |████████████████████▍           | 706kB 5.1MB/s eta 0:00:01\r\u001b[K     |████████████████████▋           | 716kB 5.1MB/s eta 0:00:01\r\u001b[K     |█████████████████████           | 727kB 5.1MB/s eta 0:00:01\r\u001b[K     |█████████████████████▏          | 737kB 5.1MB/s eta 0:00:01\r\u001b[K     |█████████████████████▌          | 747kB 5.1MB/s eta 0:00:01\r\u001b[K     |█████████████████████▉          | 757kB 5.1MB/s eta 0:00:01\r\u001b[K     |██████████████████████          | 768kB 5.1MB/s eta 0:00:01\r\u001b[K     |██████████████████████▍         | 778kB 5.1MB/s eta 0:00:01\r\u001b[K     |██████████████████████▊         | 788kB 5.1MB/s eta 0:00:01\r\u001b[K     |███████████████████████         | 798kB 5.1MB/s eta 0:00:01\r\u001b[K     |███████████████████████▎        | 808kB 5.1MB/s eta 0:00:01\r\u001b[K     |███████████████████████▋        | 819kB 5.1MB/s eta 0:00:01\r\u001b[K     |███████████████████████▉        | 829kB 5.1MB/s eta 0:00:01\r\u001b[K     |████████████████████████▏       | 839kB 5.1MB/s eta 0:00:01\r\u001b[K     |████████████████████████▌       | 849kB 5.1MB/s eta 0:00:01\r\u001b[K     |████████████████████████▊       | 860kB 5.1MB/s eta 0:00:01\r\u001b[K     |█████████████████████████       | 870kB 5.1MB/s eta 0:00:01\r\u001b[K     |█████████████████████████▍      | 880kB 5.1MB/s eta 0:00:01\r\u001b[K     |█████████████████████████▋      | 890kB 5.1MB/s eta 0:00:01\r\u001b[K     |██████████████████████████      | 901kB 5.1MB/s eta 0:00:01\r\u001b[K     |██████████████████████████▎     | 911kB 5.1MB/s eta 0:00:01\r\u001b[K     |██████████████████████████▌     | 921kB 5.1MB/s eta 0:00:01\r\u001b[K     |██████████████████████████▉     | 931kB 5.1MB/s eta 0:00:01\r\u001b[K     |███████████████████████████▏    | 942kB 5.1MB/s eta 0:00:01\r\u001b[K     |███████████████████████████▍    | 952kB 5.1MB/s eta 0:00:01\r\u001b[K     |███████████████████████████▊    | 962kB 5.1MB/s eta 0:00:01\r\u001b[K     |████████████████████████████    | 972kB 5.1MB/s eta 0:00:01\r\u001b[K     |████████████████████████████▎   | 983kB 5.1MB/s eta 0:00:01\r\u001b[K     |████████████████████████████▋   | 993kB 5.1MB/s eta 0:00:01\r\u001b[K     |████████████████████████████▉   | 1.0MB 5.1MB/s eta 0:00:01\r\u001b[K     |█████████████████████████████▏  | 1.0MB 5.1MB/s eta 0:00:01\r\u001b[K     |█████████████████████████████▌  | 1.0MB 5.1MB/s eta 0:00:01\r\u001b[K     |█████████████████████████████▊  | 1.0MB 5.1MB/s eta 0:00:01\r\u001b[K     |██████████████████████████████  | 1.0MB 5.1MB/s eta 0:00:01\r\u001b[K     |██████████████████████████████▍ | 1.1MB 5.1MB/s eta 0:00:01\r\u001b[K     |██████████████████████████████▋ | 1.1MB 5.1MB/s eta 0:00:01\r\u001b[K     |███████████████████████████████ | 1.1MB 5.1MB/s eta 0:00:01\r\u001b[K     |███████████████████████████████▎| 1.1MB 5.1MB/s eta 0:00:01\r\u001b[K     |███████████████████████████████▌| 1.1MB 5.1MB/s eta 0:00:01\r\u001b[K     |███████████████████████████████▉| 1.1MB 5.1MB/s eta 0:00:01\r\u001b[K     |████████████████████████████████| 1.1MB 5.1MB/s \n",
            "\u001b[?25hBuilding wheels for collected packages: scapy\n",
            "  Building wheel for scapy (setup.py) ... \u001b[?25l\u001b[?25hdone\n",
            "  Created wheel for scapy: filename=scapy-2.4.5-py2.py3-none-any.whl size=1261554 sha256=c5e0a32d1254700f1e873b1101ac75b5acd16dd759e88613545d06d32cab806a\n",
            "  Stored in directory: /root/.cache/pip/wheels/31/80/dc/d5fc39b70e1af4f4636356c849de414a76e83a89d8ee9cd78f\n",
            "Successfully built scapy\n",
            "Installing collected packages: scapy\n",
            "Successfully installed scapy-2.4.5\n"
          ],
          "name": "stdout"
        }
      ]
    },
    {
      "cell_type": "code",
      "metadata": {
        "id": "VLBXkR_vBdMB"
      },
      "source": [
        "from scapy.all import Dot11, sniff, rdpcap\n",
        "import pandas as pd"
      ],
      "execution_count": null,
      "outputs": []
    },
    {
      "cell_type": "code",
      "metadata": {
        "colab": {
          "base_uri": "https://localhost:8080/"
        },
        "id": "Ai_s-vHiWMsp",
        "outputId": "73457763-9102-4d49-d5d0-04dc81ec2735"
      },
      "source": [
        "from google.colab import drive\n",
        "drive.mount('/content/drive')"
      ],
      "execution_count": null,
      "outputs": [
        {
          "output_type": "stream",
          "text": [
            "Mounted at /content/drive\n"
          ],
          "name": "stdout"
        }
      ]
    },
    {
      "cell_type": "code",
      "metadata": {
        "id": "u6P2AqSuBSrK"
      },
      "source": [
        "df = pd.DataFrame(columns=['ToDS', 'MF', 'WEP', 'src_MAC', 'dest_MAC', 'BSSID', 'Duration_ID', 'Sequence_Control', 'time'])\n",
        "\n",
        "def parse(frame):\n",
        "  new_frame = []\n",
        "  if frame.haslayer(Dot11):\n",
        "      new_frame.append(frame.FCfield & 0b1 != 0)\n",
        "      new_frame.append(frame.FCfield & 0b10 != 0)\n",
        "      new_frame.append(frame.FCfield & 0b01000000 != 0)\n",
        "      new_frame.append(frame.addr2)\n",
        "      new_frame.append(frame.addr1)\n",
        "      new_frame.append(frame.addr3)\n",
        "      new_frame.append(frame.ID)\n",
        "      new_frame.append(frame.SC)\n",
        "      new_frame.append(frame.time)\n",
        "      df.loc[len(df.index)] = new_frame\n",
        "\n",
        "\n",
        "\n",
        "\n",
        "\n",
        "\n",
        "      #s1 = pd.Series(new_frame)\n",
        "      #df.append(s1, ignore_index=True)\n",
        "      ''' \n",
        "      print(\"ToDS:\", frame.FCfield & 0b1 != 0)\n",
        "      print(\"MF:\", frame.FCfield & 0b10 != 0)\n",
        "      print(\"WEP:\", frame.FCfield & 0b01000000 != 0)\n",
        "      print(\"src MAC:\", frame.addr2)\n",
        "      print(\"dest MAC:\", frame.addr1)\n",
        "      print(\"BSSID:\", frame.addr3)\n",
        "      print(\"Duration ID:\", frame.ID)\n",
        "      print(\"Sequence Control:\", frame.SC)\n",
        "      print(\"\\n\")\n",
        "      '''\n"
      ],
      "execution_count": null,
      "outputs": []
    },
    {
      "cell_type": "code",
      "metadata": {
        "id": "buUkJYgh-4vd"
      },
      "source": [
        ""
      ],
      "execution_count": null,
      "outputs": []
    },
    {
      "cell_type": "code",
      "metadata": {
        "id": "gVI2BgxR-5Pz"
      },
      "source": [
        ""
      ],
      "execution_count": null,
      "outputs": []
    },
    {
      "cell_type": "code",
      "metadata": {
        "id": "h10CzESb-5bE"
      },
      "source": [
        ""
      ],
      "execution_count": null,
      "outputs": []
    },
    {
      "cell_type": "code",
      "metadata": {
        "id": "-yj6XVvlBOGS",
        "colab": {
          "base_uri": "https://localhost:8080/"
        },
        "outputId": "88b6b91c-2b7e-4cc6-be9f-8a88af4705e5"
      },
      "source": [
        "sniff(offline=\"/content/drive/MyDrive/Network dataset/ProbeANDrealMAC.pcapng\", prn=parse)"
      ],
      "execution_count": null,
      "outputs": [
        {
          "output_type": "execute_result",
          "data": {
            "text/plain": [
              "<Sniffed: TCP:1168 UDP:221 ICMP:1 Other:34848>"
            ]
          },
          "metadata": {
            "tags": []
          },
          "execution_count": 5
        }
      ]
    },
    {
      "cell_type": "code",
      "metadata": {
        "id": "AXC-p_-cBKSy",
        "colab": {
          "base_uri": "https://localhost:8080/",
          "height": 203
        },
        "outputId": "9c624218-3956-4efa-c376-dfbd2a07c391"
      },
      "source": [
        "df.head()"
      ],
      "execution_count": null,
      "outputs": [
        {
          "output_type": "execute_result",
          "data": {
            "text/html": [
              "<div>\n",
              "<style scoped>\n",
              "    .dataframe tbody tr th:only-of-type {\n",
              "        vertical-align: middle;\n",
              "    }\n",
              "\n",
              "    .dataframe tbody tr th {\n",
              "        vertical-align: top;\n",
              "    }\n",
              "\n",
              "    .dataframe thead th {\n",
              "        text-align: right;\n",
              "    }\n",
              "</style>\n",
              "<table border=\"1\" class=\"dataframe\">\n",
              "  <thead>\n",
              "    <tr style=\"text-align: right;\">\n",
              "      <th></th>\n",
              "      <th>ToDS</th>\n",
              "      <th>MF</th>\n",
              "      <th>WEP</th>\n",
              "      <th>src_MAC</th>\n",
              "      <th>dest_MAC</th>\n",
              "      <th>BSSID</th>\n",
              "      <th>Duration_ID</th>\n",
              "      <th>Sequence_Control</th>\n",
              "      <th>time</th>\n",
              "    </tr>\n",
              "  </thead>\n",
              "  <tbody>\n",
              "    <tr>\n",
              "      <th>0</th>\n",
              "      <td>False</td>\n",
              "      <td>False</td>\n",
              "      <td>False</td>\n",
              "      <td>9e:1e:21:eb:55:c0</td>\n",
              "      <td>ff:ff:ff:ff:ff:ff</td>\n",
              "      <td>ff:ff:ff:ff:ff:ff</td>\n",
              "      <td>0</td>\n",
              "      <td>56976</td>\n",
              "      <td>1622831619.602921822</td>\n",
              "    </tr>\n",
              "    <tr>\n",
              "      <th>1</th>\n",
              "      <td>False</td>\n",
              "      <td>False</td>\n",
              "      <td>False</td>\n",
              "      <td>20:e8:82:ea:c5:08</td>\n",
              "      <td>9e:1e:21:eb:55:c0</td>\n",
              "      <td>20:e8:82:ea:c5:08</td>\n",
              "      <td>12289</td>\n",
              "      <td>5888</td>\n",
              "      <td>1622831619.630998863</td>\n",
              "    </tr>\n",
              "    <tr>\n",
              "      <th>2</th>\n",
              "      <td>False</td>\n",
              "      <td>False</td>\n",
              "      <td>False</td>\n",
              "      <td>20:e8:82:ea:c5:08</td>\n",
              "      <td>9e:1e:21:eb:55:c0</td>\n",
              "      <td>20:e8:82:ea:c5:08</td>\n",
              "      <td>12289</td>\n",
              "      <td>5904</td>\n",
              "      <td>1622831619.634006955</td>\n",
              "    </tr>\n",
              "    <tr>\n",
              "      <th>3</th>\n",
              "      <td>False</td>\n",
              "      <td>False</td>\n",
              "      <td>False</td>\n",
              "      <td>20:e8:82:ea:c5:08</td>\n",
              "      <td>9e:1e:21:eb:55:c0</td>\n",
              "      <td>20:e8:82:ea:c5:08</td>\n",
              "      <td>12289</td>\n",
              "      <td>5920</td>\n",
              "      <td>1622831619.63744804</td>\n",
              "    </tr>\n",
              "    <tr>\n",
              "      <th>4</th>\n",
              "      <td>False</td>\n",
              "      <td>False</td>\n",
              "      <td>False</td>\n",
              "      <td>None</td>\n",
              "      <td>20:e8:82:ea:c5:08</td>\n",
              "      <td>None</td>\n",
              "      <td>0</td>\n",
              "      <td>None</td>\n",
              "      <td>1622831619.637753753</td>\n",
              "    </tr>\n",
              "  </tbody>\n",
              "</table>\n",
              "</div>"
            ],
            "text/plain": [
              "    ToDS     MF    WEP  ... Duration_ID Sequence_Control                  time\n",
              "0  False  False  False  ...           0            56976  1622831619.602921822\n",
              "1  False  False  False  ...       12289             5888  1622831619.630998863\n",
              "2  False  False  False  ...       12289             5904  1622831619.634006955\n",
              "3  False  False  False  ...       12289             5920   1622831619.63744804\n",
              "4  False  False  False  ...           0             None  1622831619.637753753\n",
              "\n",
              "[5 rows x 9 columns]"
            ]
          },
          "metadata": {
            "tags": []
          },
          "execution_count": 11
        }
      ]
    },
    {
      "cell_type": "code",
      "metadata": {
        "id": "ZS1LD_ZHvRjT"
      },
      "source": [
        "import seaborn as sb\n",
        "import matplotlib.pyplot as plt\n"
      ],
      "execution_count": null,
      "outputs": []
    },
    {
      "cell_type": "code",
      "metadata": {
        "id": "cXMJGzZjzXH_"
      },
      "source": [
        "df['broadcast'] = df['dest_MAC'] == 'ff:ff:ff:ff:ff:ff'"
      ],
      "execution_count": null,
      "outputs": []
    },
    {
      "cell_type": "code",
      "metadata": {
        "colab": {
          "base_uri": "https://localhost:8080/",
          "height": 205
        },
        "id": "hnpDlLy9zhnc",
        "outputId": "fb1e58fd-a930-4c80-b7ef-ac991ea11c3a"
      },
      "source": [
        "df.head()"
      ],
      "execution_count": null,
      "outputs": [
        {
          "output_type": "execute_result",
          "data": {
            "text/html": [
              "<div>\n",
              "<style scoped>\n",
              "    .dataframe tbody tr th:only-of-type {\n",
              "        vertical-align: middle;\n",
              "    }\n",
              "\n",
              "    .dataframe tbody tr th {\n",
              "        vertical-align: top;\n",
              "    }\n",
              "\n",
              "    .dataframe thead th {\n",
              "        text-align: right;\n",
              "    }\n",
              "</style>\n",
              "<table border=\"1\" class=\"dataframe\">\n",
              "  <thead>\n",
              "    <tr style=\"text-align: right;\">\n",
              "      <th></th>\n",
              "      <th>ToDS</th>\n",
              "      <th>MF</th>\n",
              "      <th>WEP</th>\n",
              "      <th>src_MAC</th>\n",
              "      <th>dest_MAC</th>\n",
              "      <th>BSSID</th>\n",
              "      <th>Duration_ID</th>\n",
              "      <th>Sequence_Control</th>\n",
              "      <th>broadcast</th>\n",
              "    </tr>\n",
              "  </thead>\n",
              "  <tbody>\n",
              "    <tr>\n",
              "      <th>0</th>\n",
              "      <td>False</td>\n",
              "      <td>False</td>\n",
              "      <td>False</td>\n",
              "      <td>74:da:88:47:1b:eb</td>\n",
              "      <td>ff:ff:ff:ff:ff:ff</td>\n",
              "      <td>74:da:88:47:1b:eb</td>\n",
              "      <td>0</td>\n",
              "      <td>8640</td>\n",
              "      <td>True</td>\n",
              "    </tr>\n",
              "    <tr>\n",
              "      <th>1</th>\n",
              "      <td>False</td>\n",
              "      <td>False</td>\n",
              "      <td>False</td>\n",
              "      <td>b0:be:76:22:bc:11</td>\n",
              "      <td>ff:ff:ff:ff:ff:ff</td>\n",
              "      <td>b0:be:76:22:bc:11</td>\n",
              "      <td>0</td>\n",
              "      <td>2816</td>\n",
              "      <td>True</td>\n",
              "    </tr>\n",
              "    <tr>\n",
              "      <th>2</th>\n",
              "      <td>False</td>\n",
              "      <td>False</td>\n",
              "      <td>False</td>\n",
              "      <td>None</td>\n",
              "      <td>08:5b:d6:9e:36:2b</td>\n",
              "      <td>None</td>\n",
              "      <td>31232</td>\n",
              "      <td>None</td>\n",
              "      <td>False</td>\n",
              "    </tr>\n",
              "    <tr>\n",
              "      <th>3</th>\n",
              "      <td>False</td>\n",
              "      <td>False</td>\n",
              "      <td>False</td>\n",
              "      <td>74:da:88:47:1b:eb</td>\n",
              "      <td>08:5b:d6:9e:36:2b</td>\n",
              "      <td>None</td>\n",
              "      <td>0</td>\n",
              "      <td>None</td>\n",
              "      <td>False</td>\n",
              "    </tr>\n",
              "    <tr>\n",
              "      <th>4</th>\n",
              "      <td>False</td>\n",
              "      <td>True</td>\n",
              "      <td>True</td>\n",
              "      <td>74:da:88:47:1b:eb</td>\n",
              "      <td>ff:ff:ff:ff:ff:ff</td>\n",
              "      <td>08:5b:d6:9e:36:2b</td>\n",
              "      <td>0</td>\n",
              "      <td>11808</td>\n",
              "      <td>True</td>\n",
              "    </tr>\n",
              "  </tbody>\n",
              "</table>\n",
              "</div>"
            ],
            "text/plain": [
              "    ToDS     MF    WEP  ... Duration_ID Sequence_Control broadcast\n",
              "0  False  False  False  ...           0             8640      True\n",
              "1  False  False  False  ...           0             2816      True\n",
              "2  False  False  False  ...       31232             None     False\n",
              "3  False  False  False  ...           0             None     False\n",
              "4  False   True   True  ...           0            11808      True\n",
              "\n",
              "[5 rows x 9 columns]"
            ]
          },
          "metadata": {
            "tags": []
          },
          "execution_count": 44
        }
      ]
    },
    {
      "cell_type": "code",
      "metadata": {
        "colab": {
          "base_uri": "https://localhost:8080/"
        },
        "id": "oMG7eV170tyz",
        "outputId": "18dc33b6-659b-4ec3-b3b1-b2dbf4aca759"
      },
      "source": [
        "df.info()"
      ],
      "execution_count": null,
      "outputs": [
        {
          "output_type": "stream",
          "text": [
            "<class 'pandas.core.frame.DataFrame'>\n",
            "Int64Index: 46125 entries, 0 to 46124\n",
            "Data columns (total 9 columns):\n",
            " #   Column            Non-Null Count  Dtype \n",
            "---  ------            --------------  ----- \n",
            " 0   ToDS              46125 non-null  object\n",
            " 1   MF                46125 non-null  object\n",
            " 2   WEP               46125 non-null  object\n",
            " 3   src_MAC           30485 non-null  object\n",
            " 4   dest_MAC          46125 non-null  object\n",
            " 5   BSSID             16898 non-null  object\n",
            " 6   Duration_ID       46125 non-null  object\n",
            " 7   Sequence_Control  16898 non-null  object\n",
            " 8   broadcast         46125 non-null  bool  \n",
            "dtypes: bool(1), object(8)\n",
            "memory usage: 4.5+ MB\n"
          ],
          "name": "stdout"
        }
      ]
    },
    {
      "cell_type": "code",
      "metadata": {
        "colab": {
          "base_uri": "https://localhost:8080/",
          "height": 295
        },
        "id": "wq_mKZsYy_Pz",
        "outputId": "575097b1-7a8f-41a1-abad-a52426f25066"
      },
      "source": [
        "sb.countplot(data=df, x='broadcast' , palette='rocket')\n",
        "plt.xlabel('Broadcast frame?')\n",
        "plt.ylabel('Count of frames in dataset')\n",
        "plt.title('Broadcast frames');"
      ],
      "execution_count": null,
      "outputs": [
        {
          "output_type": "display_data",
          "data": {
            "image/png": "[encoded data removed]",
            "text/plain": [
              "<Figure size 432x288 with 1 Axes>"
            ]
          },
          "metadata": {
            "tags": [],
            "needs_background": "light"
          }
        }
      ]
    },
    {
      "cell_type": "code",
      "metadata": {
        "id": "AD9I-9Unzms9"
      },
      "source": [
        "df['Source_MAC_available'] = df['src_MAC'].apply(lambda s: s if s is not None else 'XXXX')"
      ],
      "execution_count": null,
      "outputs": []
    },
    {
      "cell_type": "code",
      "metadata": {
        "id": "5_Zmi1N73BK6"
      },
      "source": [
        "df['Fake_MAC'] = df['Source_MAC_available'].apply(lambda s: s[1])"
      ],
      "execution_count": null,
      "outputs": []
    },
    {
      "cell_type": "code",
      "metadata": {
        "colab": {
          "base_uri": "https://localhost:8080/",
          "height": 205
        },
        "id": "v5eaIy5K3C2N",
        "outputId": "af80502e-a960-4096-e6e7-54f593052f50"
      },
      "source": [
        "df.head()"
      ],
      "execution_count": null,
      "outputs": [
        {
          "output_type": "execute_result",
          "data": {
            "text/html": [
              "<div>\n",
              "<style scoped>\n",
              "    .dataframe tbody tr th:only-of-type {\n",
              "        vertical-align: middle;\n",
              "    }\n",
              "\n",
              "    .dataframe tbody tr th {\n",
              "        vertical-align: top;\n",
              "    }\n",
              "\n",
              "    .dataframe thead th {\n",
              "        text-align: right;\n",
              "    }\n",
              "</style>\n",
              "<table border=\"1\" class=\"dataframe\">\n",
              "  <thead>\n",
              "    <tr style=\"text-align: right;\">\n",
              "      <th></th>\n",
              "      <th>ToDS</th>\n",
              "      <th>MF</th>\n",
              "      <th>WEP</th>\n",
              "      <th>src_MAC</th>\n",
              "      <th>dest_MAC</th>\n",
              "      <th>BSSID</th>\n",
              "      <th>Duration_ID</th>\n",
              "      <th>Sequence_Control</th>\n",
              "      <th>broadcast</th>\n",
              "      <th>Fake_MAC</th>\n",
              "      <th>Source_MAC_available</th>\n",
              "    </tr>\n",
              "  </thead>\n",
              "  <tbody>\n",
              "    <tr>\n",
              "      <th>0</th>\n",
              "      <td>False</td>\n",
              "      <td>False</td>\n",
              "      <td>False</td>\n",
              "      <td>74:da:88:47:1b:eb</td>\n",
              "      <td>ff:ff:ff:ff:ff:ff</td>\n",
              "      <td>74:da:88:47:1b:eb</td>\n",
              "      <td>0</td>\n",
              "      <td>8640</td>\n",
              "      <td>True</td>\n",
              "      <td>4</td>\n",
              "      <td>74:da:88:47:1b:eb</td>\n",
              "    </tr>\n",
              "    <tr>\n",
              "      <th>1</th>\n",
              "      <td>False</td>\n",
              "      <td>False</td>\n",
              "      <td>False</td>\n",
              "      <td>b0:be:76:22:bc:11</td>\n",
              "      <td>ff:ff:ff:ff:ff:ff</td>\n",
              "      <td>b0:be:76:22:bc:11</td>\n",
              "      <td>0</td>\n",
              "      <td>2816</td>\n",
              "      <td>True</td>\n",
              "      <td>0</td>\n",
              "      <td>b0:be:76:22:bc:11</td>\n",
              "    </tr>\n",
              "    <tr>\n",
              "      <th>2</th>\n",
              "      <td>False</td>\n",
              "      <td>False</td>\n",
              "      <td>False</td>\n",
              "      <td>None</td>\n",
              "      <td>08:5b:d6:9e:36:2b</td>\n",
              "      <td>None</td>\n",
              "      <td>31232</td>\n",
              "      <td>None</td>\n",
              "      <td>False</td>\n",
              "      <td>X</td>\n",
              "      <td>XXXX</td>\n",
              "    </tr>\n",
              "    <tr>\n",
              "      <th>3</th>\n",
              "      <td>False</td>\n",
              "      <td>False</td>\n",
              "      <td>False</td>\n",
              "      <td>74:da:88:47:1b:eb</td>\n",
              "      <td>08:5b:d6:9e:36:2b</td>\n",
              "      <td>None</td>\n",
              "      <td>0</td>\n",
              "      <td>None</td>\n",
              "      <td>False</td>\n",
              "      <td>4</td>\n",
              "      <td>74:da:88:47:1b:eb</td>\n",
              "    </tr>\n",
              "    <tr>\n",
              "      <th>4</th>\n",
              "      <td>False</td>\n",
              "      <td>True</td>\n",
              "      <td>True</td>\n",
              "      <td>74:da:88:47:1b:eb</td>\n",
              "      <td>ff:ff:ff:ff:ff:ff</td>\n",
              "      <td>08:5b:d6:9e:36:2b</td>\n",
              "      <td>0</td>\n",
              "      <td>11808</td>\n",
              "      <td>True</td>\n",
              "      <td>4</td>\n",
              "      <td>74:da:88:47:1b:eb</td>\n",
              "    </tr>\n",
              "  </tbody>\n",
              "</table>\n",
              "</div>"
            ],
            "text/plain": [
              "    ToDS     MF    WEP  ... broadcast Fake_MAC Source_MAC_available\n",
              "0  False  False  False  ...      True        4    74:da:88:47:1b:eb\n",
              "1  False  False  False  ...      True        0    b0:be:76:22:bc:11\n",
              "2  False  False  False  ...     False        X                 XXXX\n",
              "3  False  False  False  ...     False        4    74:da:88:47:1b:eb\n",
              "4  False   True   True  ...      True        4    74:da:88:47:1b:eb\n",
              "\n",
              "[5 rows x 11 columns]"
            ]
          },
          "metadata": {
            "tags": []
          },
          "execution_count": 67
        }
      ]
    },
    {
      "cell_type": "code",
      "metadata": {
        "colab": {
          "base_uri": "https://localhost:8080/"
        },
        "id": "imdxXkDk5DMu",
        "outputId": "0457813b-69cd-4432-cbf1-aa693e538000"
      },
      "source": [
        "df['Fake'] = (df['Fake_MAC'] == '2') + (df['Fake_MAC'] == '6') + (df['Fake_MAC'] == 'A') + (df['Fake_MAC'] == 'E')"
      ],
      "execution_count": null,
      "outputs": [
        {
          "output_type": "stream",
          "text": [
            "/usr/local/lib/python3.7/dist-packages/pandas/core/computation/expressions.py:204: UserWarning: evaluating in Python space because the '+' operator is not supported by numexpr for the bool dtype, use '|' instead\n",
            "  f\"evaluating in Python space because the {repr(op_str)} \"\n"
          ],
          "name": "stderr"
        }
      ]
    },
    {
      "cell_type": "code",
      "metadata": {
        "colab": {
          "base_uri": "https://localhost:8080/"
        },
        "id": "bLcmm8rQ7Xdu",
        "outputId": "610774d1-dd06-46ee-f05b-bc2b59ea58f6"
      },
      "source": [
        "df['Fake'].value_counts()"
      ],
      "execution_count": null,
      "outputs": [
        {
          "output_type": "execute_result",
          "data": {
            "text/plain": [
              "False    42440\n",
              "True      3685\n",
              "Name: Fake, dtype: int64"
            ]
          },
          "metadata": {
            "tags": []
          },
          "execution_count": 75
        }
      ]
    },
    {
      "cell_type": "code",
      "metadata": {
        "id": "qImdindl8asj"
      },
      "source": [
        "df['human_time'] = df['time'].apply(lambda x: time.asctime(x)\n",
        "my_human_time = time.strftime('%A, %d/%m/%y, %I:%M:%S %p', local_time)"
      ],
      "execution_count": null,
      "outputs": []
    }
  ]
}